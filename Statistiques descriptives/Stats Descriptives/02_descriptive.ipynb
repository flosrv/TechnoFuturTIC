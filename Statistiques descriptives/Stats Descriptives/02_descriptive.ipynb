{
 "cells": [
  {
   "cell_type": "markdown",
   "id": "ee180b5d-9e55-4933-af2e-40350b01c79d",
   "metadata": {},
   "source": [
    "# Statistiques descriptives\n"
   ]
  },
  {
   "cell_type": "code",
   "execution_count": 1,
   "id": "a6f31c2d-42c9-44f2-8629-a4160959e10e",
   "metadata": {},
   "outputs": [],
   "source": [
    "import pandas as pd\n",
    "import numpy as np\n",
    "\n",
    "import matplotlib.pyplot as plt\n",
    "import seaborn as sns"
   ]
  },
  {
   "cell_type": "markdown",
   "id": "fdc5b0ff-d8f2-4ca2-8004-78d45b6269a8",
   "metadata": {},
   "source": [
    "1. **Statistique descriptive** : \n",
    "    1. but\n",
    "        - Résume et décrit les données (via des mesures et des graphiques visuels)\n",
    "        - Permet de détecter de potentiel \"outlier\" (valeurs aberrantes)\n",
    "        - Prépare aux \"data cleaning\"\n",
    "        - Prépare aux modèles inférentiels\n",
    "    <br><br>\n",
    "    2. comment chiffrer:\n",
    "        -  \"chiffres\"/\"données\"/\"information\" = statistiques\n",
    "        - mesure de tendance centrale\n",
    "        - mesure de dispersion/variation\n",
    "    <br><br>\n",
    "    3. distributions\n",
    "        - fréquences et effectifs\n",
    "        - graphiques: barplot, histogrammes, nuage de points, etc.\n",
    "        - représentation graphique des statistiques \"tabulaires\"/\"chiffres\"\n",
    "    <br><br>\n",
    "    \n",
    "    4. ***Statistique descriptive univariée*** fournit les outils statistiques pour organiser, présenter et synthétiser l’information issue de l’analyse d’une variable indépendamment des autres\n",
    "        -  nominale\n",
    "            - mode, fréquences\n",
    "            - pie, bar\n",
    "        -  ordinale\n",
    "            - mode, médiane & IQR, fréquences\n",
    "            - pie, bar, boxplot\n",
    "        -  discrète\n",
    "            - mode, médiane & IQR, moyenne et écart-type, fréquences(*)\n",
    "            - histogramme, boxplot, ecdf\n",
    "        -  continue\n",
    "            - médiane & IQR, moyenne et écart-type, fréquence(*)\n",
    "            - histogramme, boxplot, ecdf\n",
    "    <br><br>\n",
    "\n",
    "    5. ***Statistique descriptive bivariée*** a pour objet d’étudier conjointement deux variables X et Y sur une même population\n",
    "        - catégories vs catégories\n",
    "            - fréquences, mode\n",
    "        - catégories vs numérique\n",
    "            - comme numérique, mais ventilation par catégories\n",
    "        - numérique vs numérique\n",
    "            - covariance, corrélation\n",
    "            - nuage de points\n",
    "    <br><br>\n",
    "    6. ***Statistique descriptive multivariée*** vise à étudier plusieurs variables simultanément  \n",
    "       - pairplot, joinplot, violinplot, groupby, ...\n",
    "         "
   ]
  },
  {
   "cell_type": "code",
   "execution_count": null,
   "id": "edf3357e-4229-4070-851f-80bddfe03d44",
   "metadata": {},
   "outputs": [],
   "source": []
  },
  {
   "cell_type": "markdown",
   "id": "bc2ceb77-f785-4d38-84ac-46bd04832840",
   "metadata": {},
   "source": [
    "## Tendence centrale\n",
    "- ou ce situe le centre des données ?\n",
    "- quelle est la valeur la plus représentative du dataset?"
   ]
  },
  {
   "cell_type": "code",
   "execution_count": 2,
   "id": "3788a634-b9f4-4bb9-9c67-9136eaf6a035",
   "metadata": {},
   "outputs": [
    {
     "data": {
      "text/html": [
       "<div>\n",
       "<style scoped>\n",
       "    .dataframe tbody tr th:only-of-type {\n",
       "        vertical-align: middle;\n",
       "    }\n",
       "\n",
       "    .dataframe tbody tr th {\n",
       "        vertical-align: top;\n",
       "    }\n",
       "\n",
       "    .dataframe thead th {\n",
       "        text-align: right;\n",
       "    }\n",
       "</style>\n",
       "<table border=\"1\" class=\"dataframe\">\n",
       "  <thead>\n",
       "    <tr style=\"text-align: right;\">\n",
       "      <th></th>\n",
       "      <th>math</th>\n",
       "      <th>eng</th>\n",
       "      <th>gender</th>\n",
       "      <th>class</th>\n",
       "      <th>id</th>\n",
       "    </tr>\n",
       "  </thead>\n",
       "  <tbody>\n",
       "    <tr>\n",
       "      <th>0</th>\n",
       "      <td>15.8</td>\n",
       "      <td>13.7</td>\n",
       "      <td>M</td>\n",
       "      <td>A</td>\n",
       "      <td>0</td>\n",
       "    </tr>\n",
       "    <tr>\n",
       "      <th>1</th>\n",
       "      <td>13.6</td>\n",
       "      <td>12.0</td>\n",
       "      <td>M</td>\n",
       "      <td>C</td>\n",
       "      <td>1</td>\n",
       "    </tr>\n",
       "    <tr>\n",
       "      <th>2</th>\n",
       "      <td>14.2</td>\n",
       "      <td>11.0</td>\n",
       "      <td>M</td>\n",
       "      <td>A</td>\n",
       "      <td>2</td>\n",
       "    </tr>\n",
       "    <tr>\n",
       "      <th>3</th>\n",
       "      <td>14.8</td>\n",
       "      <td>12.0</td>\n",
       "      <td>M</td>\n",
       "      <td>A</td>\n",
       "      <td>3</td>\n",
       "    </tr>\n",
       "    <tr>\n",
       "      <th>4</th>\n",
       "      <td>12.2</td>\n",
       "      <td>8.1</td>\n",
       "      <td>M</td>\n",
       "      <td>B</td>\n",
       "      <td>4</td>\n",
       "    </tr>\n",
       "  </tbody>\n",
       "</table>\n",
       "</div>"
      ],
      "text/plain": [
       "   math   eng gender class  id\n",
       "0  15.8  13.7      M     A   0\n",
       "1  13.6  12.0      M     C   1\n",
       "2  14.2  11.0      M     A   2\n",
       "3  14.8  12.0      M     A   3\n",
       "4  12.2   8.1      M     B   4"
      ]
     },
     "metadata": {},
     "output_type": "display_data"
    },
    {
     "name": "stdout",
     "output_type": "stream",
     "text": [
      "<class 'pandas.core.frame.DataFrame'>\n",
      "RangeIndex: 10000 entries, 0 to 9999\n",
      "Data columns (total 5 columns):\n",
      " #   Column  Non-Null Count  Dtype  \n",
      "---  ------  --------------  -----  \n",
      " 0   math    10000 non-null  float64\n",
      " 1   eng     10000 non-null  float64\n",
      " 2   gender  10000 non-null  object \n",
      " 3   class   10000 non-null  object \n",
      " 4   id      10000 non-null  int64  \n",
      "dtypes: float64(2), int64(1), object(2)\n",
      "memory usage: 390.8+ KB\n"
     ]
    }
   ],
   "source": [
    "d1 = pd.read_csv(\"demo/d1_scores.csv\")\n",
    "d1[\"id\"] = d1.index\n",
    "display(d1.head())\n",
    "d1.info()"
   ]
  },
  {
   "cell_type": "markdown",
   "id": "bfebf201-ec3b-4824-8ac3-8b65e2387873",
   "metadata": {},
   "source": [
    "### moyenne (arithmétique)\n",
    "- applicable pour les numériques (discrète et continue)\n",
    "- EN: mean,average\n",
    "\n",
    "$ \\text{mean}(X) = \\bar{x} = \\frac{\\sum_{i=1}^{N} x_i}{N} = \\frac{1}{N} \\left(x_1 + x_2 + ... + x_N\\right)\n",
    "$\n",
    "\n",
    "ce n'est pas une mesure robuste car elle est sensible aux valeurs extrèmes\n",
    "\n",
    "\n",
    "Dans les statistiques infrérentiels on va utiliser le symbole grec \"mu\" $\\mu$ pour désigner la moyenne de la population (la valeur fondamentale/théorique). En lien avec cette valeur, on peut retrouver l'expression suivante:\n",
    "\n",
    "$\\hat{\\mu} = \\bar{x} = \\frac{\\sum_{i=1}^{N} x_i}{N} $  \n",
    "\n",
    "Cela signifie qu'on peut estimer (=une approximation maitrisé de) cette valeur $\\mu$ avec la moyenne $\\bar{x}$."
   ]
  },
  {
   "cell_type": "code",
   "execution_count": 3,
   "id": "c952302a-3f07-494e-b9f8-41f6d0734bc7",
   "metadata": {},
   "outputs": [
    {
     "name": "stdout",
     "output_type": "stream",
     "text": [
      "2.857142857142857\n",
      "15.0\n"
     ]
    }
   ],
   "source": [
    "list = [0,1,1,2,3,5,8]\n",
    "list_extr = list + [100]\n",
    "\n",
    "print(np.mean(list))\n",
    "print(np.mean(list_extr))"
   ]
  },
  {
   "cell_type": "code",
   "execution_count": 4,
   "id": "0de5adcf-d69d-443e-9946-3ed3cbd5afc1",
   "metadata": {},
   "outputs": [
    {
     "data": {
      "text/plain": [
       "11.98138"
      ]
     },
     "metadata": {},
     "output_type": "display_data"
    }
   ],
   "source": [
    "avg_math = d1[\"math\"].mean()\n",
    "display(avg_math)"
   ]
  },
  {
   "cell_type": "code",
   "execution_count": null,
   "id": "5c78ca7d-3001-46cc-a2c7-52a9d474904a",
   "metadata": {},
   "outputs": [],
   "source": []
  },
  {
   "cell_type": "markdown",
   "id": "d5c72842-9c02-4bbc-9a85-58351b61169c",
   "metadata": {},
   "source": [
    "### Mediane\n",
    "- applicable pour les données ordinales et numériques\n",
    "- EN: median, 2nd quartile, 50-percentile\n",
    "\n",
    "on trie les données (d'une manière croissante), et on prend la valeur du milieu de cette liste trié.\n",
    "\n",
    "- si elle est de longeur impaire -> pas d'embiguité sur la valeur du milieu\n",
    "- si la liste est de longeur paire-> la moyenne des 2 valeur du milieu\n",
    "\n",
    "c'est une mesure robuste:\n",
    "- elle n'est pas sensible au valeur extrèmes"
   ]
  },
  {
   "cell_type": "code",
   "execution_count": 5,
   "id": "225fa627-3d83-49ea-961e-2b4a0c89d98d",
   "metadata": {},
   "outputs": [
    {
     "data": {
      "text/plain": [
       "2"
      ]
     },
     "execution_count": 5,
     "metadata": {},
     "output_type": "execute_result"
    }
   ],
   "source": [
    "list_sorted = [0,1,1,2,3,5,8]\n",
    "median = list_sorted[int(len(list_sorted)/2)]\n",
    "median"
   ]
  },
  {
   "cell_type": "code",
   "execution_count": 6,
   "id": "ac5f7694-a5f2-4c95-b899-d0913abc3c3c",
   "metadata": {},
   "outputs": [
    {
     "name": "stdout",
     "output_type": "stream",
     "text": [
      "3\n",
      "4\n"
     ]
    },
    {
     "data": {
      "text/plain": [
       "2.5"
      ]
     },
     "execution_count": 6,
     "metadata": {},
     "output_type": "execute_result"
    }
   ],
   "source": [
    "list_ext_sorted = list_extr.copy()\n",
    "low = int(len(list_ext_sorted)/2)-1\n",
    "high = int(len(list_ext_sorted)/2)\n",
    "median = 0.5*(list_ext_sorted[low]+list_ext_sorted[high])\n",
    "print(low)\n",
    "print(high)\n",
    "median"
   ]
  },
  {
   "cell_type": "code",
   "execution_count": 7,
   "id": "034196fc-7ecc-444e-9242-b6347dab53bb",
   "metadata": {},
   "outputs": [
    {
     "data": {
      "text/plain": [
       "11.8"
      ]
     },
     "execution_count": 7,
     "metadata": {},
     "output_type": "execute_result"
    }
   ],
   "source": [
    "median = d1.math.median()\n",
    "median"
   ]
  },
  {
   "cell_type": "markdown",
   "id": "90eeca9d-3be9-4852-8eeb-6a933ffdd04a",
   "metadata": {},
   "source": [
    "### Mode\n",
    "- applicable pour les catégories (nominales, ordinales) est les discrètes\n",
    "- EN: mode\n",
    "\n",
    "c'est la valeur qui revient le plus souvent"
   ]
  },
  {
   "cell_type": "code",
   "execution_count": 8,
   "id": "b490fbd4-acce-4da3-b67c-1e46b18b995e",
   "metadata": {},
   "outputs": [],
   "source": [
    "list_sorted = [0,1,1,2,3,5,8]\n",
    "mode = 1"
   ]
  },
  {
   "cell_type": "code",
   "execution_count": 9,
   "id": "83994318-0c50-46e9-a844-686771d26eb4",
   "metadata": {},
   "outputs": [
    {
     "data": {
      "text/plain": [
       "0    A\n",
       "Name: class, dtype: object"
      ]
     },
     "execution_count": 9,
     "metadata": {},
     "output_type": "execute_result"
    }
   ],
   "source": [
    "d1[\"class\"].mode()"
   ]
  },
  {
   "cell_type": "markdown",
   "id": "15bf7b7e-17b0-45e4-88b9-624a92203f4c",
   "metadata": {},
   "source": [
    "### moyenne tronquée\n",
    "$\\bar{x}_{tr} = \\frac{\\sum_{i=p}^{N-p} x_i}{N-2p}$\n",
    "\n",
    "on élimine un nombre $p$ de valeurs les plus basses et plus élevées avant de faire la moyenne\n",
    "\n",
    "### moyenne pondérée\n",
    "$\\bar{x} = \\frac{\\sum_{i=1}^{N} w_i \\cdot x_i}{\\sum_{i=1}^{N} w_i}$\n",
    "\n",
    "chaque valeur possible $x_i$ a un poids $w_i$, on tient compte de ce poids dans la moyenne:\n",
    "- à noter que quand tout les poids sont identiques <br>\n",
    "( par  exemple $w_i=1$ ) ,<br> on retrouve la moyenne (arithmétique) "
   ]
  },
  {
   "cell_type": "markdown",
   "id": "b35b2666-0b67-4601-b890-066a4c7d90a3",
   "metadata": {},
   "source": [
    "## Mesures de dispersion\n",
    "- dispersion=variation\n",
    "- quelle est la variation des données ?\n",
    "\n",
    "les mesures de tendances centrales ne sont pas du tout suffisantes pour bien résumer le data en statistiques !"
   ]
  },
  {
   "cell_type": "code",
   "execution_count": 10,
   "id": "58892d43-ece5-4344-a96a-219ec608de5d",
   "metadata": {},
   "outputs": [
    {
     "name": "stdout",
     "output_type": "stream",
     "text": [
      "2.857142857142857\n",
      "2.8\n"
     ]
    }
   ],
   "source": [
    "list_highvar = [-100,2,4,8,100]\n",
    "print(np.mean(list))\n",
    "print(np.mean(list_highvar)) ## moyenne similaire"
   ]
  },
  {
   "cell_type": "markdown",
   "id": "07f222eb-495d-4b44-b3a5-0eeb2dadc90c",
   "metadata": {},
   "source": [
    "### Amplitude\n",
    "- Amplitude ou Etendue\n",
    "- EN: range\n",
    "- applicable quand mediane est applicable\n",
    "\n",
    "c'est la distance entre la valeur maximum et minimum \n",
    "\n",
    "$\\text{range}(X) = \\max(X) - \\min(X)$"
   ]
  },
  {
   "cell_type": "code",
   "execution_count": 11,
   "id": "db10360b-c3db-4886-9b98-13176c781f4c",
   "metadata": {},
   "outputs": [
    {
     "name": "stdout",
     "output_type": "stream",
     "text": [
      "8\n",
      "200\n"
     ]
    }
   ],
   "source": [
    "print(np.max(list) - np.min(list))\n",
    "print(np.max(list_highvar) - np.min(list_highvar))"
   ]
  },
  {
   "cell_type": "markdown",
   "id": "d880bd62-36a3-4139-96cf-aa68c4f3c5d1",
   "metadata": {},
   "source": [
    "### Déviation absolue moyenne\n",
    "- mean absolute deviation\n",
    "- applicable quand la moyenne est applicable\n",
    "\n",
    "cette mesure est moins sensible au valeurs extrèmes\n",
    "\n",
    "$ \\text{mad}(X) = \\frac{\\sum_{i=1}^{N} |x_i-\\bar{x}|}{N}$\n"
   ]
  },
  {
   "cell_type": "code",
   "execution_count": 12,
   "id": "efd5deac-a5d7-46af-9b56-41befeb3858a",
   "metadata": {},
   "outputs": [
    {
     "data": {
      "text/plain": [
       "2.25056072"
      ]
     },
     "execution_count": 12,
     "metadata": {},
     "output_type": "execute_result"
    }
   ],
   "source": [
    "(d1.math - d1.math.mean()).abs().mean()"
   ]
  },
  {
   "cell_type": "code",
   "execution_count": 13,
   "id": "22c5b4f1-1950-4186-a87b-67d42906a078",
   "metadata": {},
   "outputs": [
    {
     "data": {
      "text/plain": [
       "2.1224489795918364"
      ]
     },
     "execution_count": 13,
     "metadata": {},
     "output_type": "execute_result"
    }
   ],
   "source": [
    "m_ = np.mean(list)\n",
    "np.mean([np.abs(x-m_) for x in list])"
   ]
  },
  {
   "cell_type": "code",
   "execution_count": 14,
   "id": "80cd3c34-2596-4168-a318-29b8e344c45e",
   "metadata": {},
   "outputs": [
    {
     "data": {
      "text/plain": [
       "41.44"
      ]
     },
     "execution_count": 14,
     "metadata": {},
     "output_type": "execute_result"
    }
   ],
   "source": [
    "m_ = np.mean(list_highvar)\n",
    "np.mean([np.abs(x-m_) for x in list_highvar])"
   ]
  },
  {
   "cell_type": "markdown",
   "id": "e086ab17-3dae-4645-81e8-564f302b74c7",
   "metadata": {},
   "source": [
    "### Variance et écart-type\n",
    "- variance and standard deviation\n",
    "- applicable quand la moyenne est applicable\n",
    "\n",
    "cette valeur est très sensible au valeurs extrèmes\n",
    "\n",
    "$\\text{var}_\\text{population}(X) = \\sigma^2= \\frac{\\sum_{i=1}^{N} (x_i - \\mu)^2}{N}$\n",
    "\n",
    "$\\text{var}_\\text{sample}(X)= s^2 = \\frac{\\sum_{i=1}^{N} (x_i - \\bar{x})^2}{N-1}$\n",
    "\n",
    "\n",
    "\n",
    "[facteur de correction](https://en.wikipedia.org/wiki/Bessel%27s_correction) $N-1$ de Bessel :\n",
    "- à utiliser quand on calcule la variance en utilisant la moyenne observée $\\bar{x}$ d'un echantillon (=une estimation/observé), à la place de la vraie moyenne $\\mu$ (= valeur fondamentale/théorique de la population).\n",
    "\n",
    "Cette correction n'est vraiement importante que quand on a peu de données (<20), donc en pratique (commercial/industriel N>1000) cette nuance n'a pas d'impact significatif.\n",
    "\n",
    "On reviendra sur la différences et les liens probabilités (=inférentiel) et statistiques (=descriptive)\n",
    "\n",
    "Notez que la formule/definition correspond à la ***moyenne des carrés des distances*** Euclidienne entre:\n",
    "- les données $x_i$\n",
    "- et la moyenne (de population/théorique) $\\mu$ :\n",
    "\n",
    "$\\text{var}_\\text{population}(X) = \\frac{1}{N} ||X - \\mu||^2 =\\frac{1}{N} (X-\\mu)^T \\cdot (X-\\mu) $\n",
    "    $ = \\frac{1}{N}\\begin{bmatrix}\n",
    "    (x_1 - \\mu) & (x_2 - \\mu) & ... & (x_N - \\mu)\n",
    "\\end{bmatrix} \\cdot \\newline\n",
    "\\begin{bmatrix}\n",
    "    (x_1 - \\mu) \\\\ (x_2 - \\mu) \\\\ ... \\\\ (x_N - \\mu)\n",
    "\\end{bmatrix}\n",
    "= \\frac{\\sum_{i=1}^{N} (x_i - \\mu)^2}{N}$"
   ]
  },
  {
   "cell_type": "code",
   "execution_count": 15,
   "id": "09cffa07-342a-471d-a6f3-1ec01ad3cff5",
   "metadata": {},
   "outputs": [
    {
     "name": "stdout",
     "output_type": "stream",
     "text": [
      "6.693877551020407\n",
      "4008.9600000000005\n"
     ]
    }
   ],
   "source": [
    "print(np.var(list))\n",
    "print(np.var(list_highvar))"
   ]
  },
  {
   "cell_type": "code",
   "execution_count": null,
   "id": "6442f921-7a7f-4271-9c13-ee52f1413efc",
   "metadata": {},
   "outputs": [],
   "source": []
  },
  {
   "cell_type": "markdown",
   "id": "b32c919c-8ad1-4784-a102-70b14d2e86c0",
   "metadata": {},
   "source": [
    "Si les données ont comme unité \"metre\" \"$m$\", la variance a des unité \"mètre carré\" \"$m^2$\".\n",
    "Ceci complique l'interprétation des résultat, car peu intuitif. C'est pour cela qu'on préfèrera utiliser les écarts-types (standard deviation).\n",
    "\n",
    "\n",
    "\n",
    "$\\text{std}_\\text{pop}(X) = \\sigma = \\sqrt{\\frac{\\sum_{i=1}^{N} (x_i - \\mu)^2}{N}} = \\sqrt{\\text{var}_\\text{pop}}$ \n",
    "\n",
    "$\\text{std}_\\text{sample}(X) = s = \\sqrt{\\frac{\\sum_{i=1}^{N} (x_i - \\bar{x})^2}{N-1}} = \\sqrt{\\text{var}_\\text{sample}}$ (*)\n",
    "\n",
    "(*): une correction de 1.5 au lieu de 1 serait plus [exacte](https://en.wikipedia.org/wiki/Unbiased_estimation_of_standard_deviation), pour avoir une estimation non-biaisé de l'écart-type fondamental/théorique \"$\\sigma$\"\n",
    "\n",
    "Comme pour la variance, en pratique, les nuance entre \"$\\sigma$\" et \"$s$\" sont négligable ($N>1000$). "
   ]
  },
  {
   "cell_type": "code",
   "execution_count": 16,
   "id": "b92df596-9978-491b-95f3-8aec748121a2",
   "metadata": {},
   "outputs": [
    {
     "name": "stdout",
     "output_type": "stream",
     "text": [
      "2.58725289661069\n",
      "63.31634859971002\n"
     ]
    }
   ],
   "source": [
    "print(np.std(list,ddof=0))\n",
    "print(np.std(list_highvar, ddof=0))"
   ]
  },
  {
   "cell_type": "code",
   "execution_count": null,
   "id": "80118878-9c41-42cd-8c64-e755561ae005",
   "metadata": {},
   "outputs": [],
   "source": []
  },
  {
   "cell_type": "markdown",
   "id": "9e88cf4f-df6f-49f2-9911-bdc560fc870e",
   "metadata": {},
   "source": [
    "### Quartiles et écart interquartile\n",
    "- EN: quartiles and interquartile range (IQR)\n",
    "- applicable quand mediane est applicable\n",
    "\n",
    "Q1 = la mediane entre :\n",
    "- le mininum\n",
    "- et la mediane\n",
    "\n",
    "Q2 = la mediane\n",
    "\n",
    "Q3 = la mediane entre:\n",
    "- la mediane\n",
    "- et le maximum\n",
    "\n",
    "Par construction/définition :\n",
    "- on a 25% du nombre des données entre (min,Q1),(Q1,Q2),(Q2,Q3),(Q3,max)\n",
    "\n",
    "- on a 75% des valeurs qui se trouve entre le Q1 et max\n",
    "- on a 50% des valeurs entre Q1 et Q3\n",
    "\n",
    "\n",
    "\n",
    "\n",
    "IQR c'est la distance entre Q3 et Q1\n",
    "\n",
    "on a des définitions similaire avec \n",
    "- decile = tranche de  10%\n",
    "- pourcentile = tranche de 1% "
   ]
  },
  {
   "cell_type": "code",
   "execution_count": 17,
   "id": "3cd09e64-508b-4c50-adfb-e61c65f43450",
   "metadata": {},
   "outputs": [
    {
     "name": "stdout",
     "output_type": "stream",
     "text": [
      "True\n",
      "--------------------------------------------------\n",
      "9.9 11.8 14.0\n"
     ]
    }
   ],
   "source": [
    "Q1 = d1.math.quantile(q=0.25)\n",
    "Q2 = d1.math.quantile(q=0.5)\n",
    "Q3 = d1.math.quantile(q=0.75)\n",
    "\n",
    "print(Q2 == d1.math.median())\n",
    "print(\"-\"*50)\n",
    "print(Q1,Q2,Q3)"
   ]
  },
  {
   "cell_type": "code",
   "execution_count": 37,
   "id": "2ecc9bca-2263-4a74-851e-514cc2da6b80",
   "metadata": {},
   "outputs": [
    {
     "name": "stdout",
     "output_type": "stream",
     "text": [
      "4.1\n"
     ]
    }
   ],
   "source": [
    "IQR = Q3-Q1\n",
    "print(IQR)"
   ]
  },
  {
   "cell_type": "markdown",
   "id": "72ae2986-b2f7-43da-b84a-ce2de6bfe7f1",
   "metadata": {},
   "source": [
    "\n",
    "### Pour une distribution normale\n",
    "- =courbe de Gauss, (distribution paramétrique)\n",
    "- EN: normal distribution, Gauss curve\n",
    "\n",
    "**Règle de J.tuckey**: une donnée peut être appelée valeur (potentiellement) aberrante/extrème si elle s'écarte d'une\n",
    "distance d'au moins 1,5xIQR au dessus du Q3 ou en dessous du Q1.\n",
    "\n",
    "**Cela permet de separer/identifier les données \"standards\" des données potentiellement \"aberants\"**, et de faire un analyse générale/global pour l'un et sur mesure pour l'autre. \n",
    "\n",
    "![](repos/boxplot-gauss.png)\n",
    "\n",
    "\n"
   ]
  },
  {
   "cell_type": "markdown",
   "id": "29a45bff-dfc7-4642-a2eb-4b96451439bc",
   "metadata": {},
   "source": [
    "### Covariance\n",
    "- EN: Covariance\n",
    "- applicable quand la moyenne est applicable (sur les deux variables)\n",
    "- c'est une extension de la variance\n",
    "- permet de faire une analyse sur 2 variables (=bivarié)\n",
    "C'est une mesure qui quantifie comment deux variables $X$ et $Y$ varient ensemble quand on parcours toutes les données d'un dataset\n",
    "\n",
    "\n",
    "$\\text{covar}_\\text{pop}(X,Y) = \\frac{\\sum_{i=1}^{N} (x_i - \\mu_x)\\cdot (y_i - \\mu_y)}{N}$\n",
    "\n",
    "$\\text{covar}_\\text{sample}(X,Y) = \\frac{\\sum_{i=1}^{N} (x_i - \\bar{x})\\cdot (y_i - \\bar{y})}{N-1}$"
   ]
  },
  {
   "cell_type": "markdown",
   "id": "52a85cd8-0e59-4bae-abc2-71128f5956eb",
   "metadata": {},
   "source": [
    "### Coëfficient de correlation \n",
    "- EN: correlation coefficient\n",
    "- permet de faire une analyse sur 2 variables (=bivarié)\n",
    "\n",
    "#### [Pearson](https://en.wikipedia.org/wiki/Pearson_correlation_coefficient)\n",
    "- applicable quand la moyenne est applicable aux deux variables $X$ et $Y$\n",
    "- ceci représente la \"force\" d'association (linéaire) entre deux variables:\n",
    "    - exemple : quand je fait variér les valeurs de $X$  d'une valeur basse à haute, est-ce que les valeurs de la variable $Y$ on tendance à changer avec les même direction: également un changement de bas à haut ?\n",
    "        - si $\\rho \\approx 1$: elle vont dans le même sens \n",
    "        - si $\\rho \\approx -1$: dans sens opposé\n",
    "        - si $\\rho \\approx 0$: le changement d'une variable n'impacte pas l'autre\n",
    "\n",
    "$\\rho(X,Y) = \\frac{\\text{covar}(X,Y)}{\\text{std}(X) \\cdot \\text{std}(Y)} $\n",
    "\n",
    "$-1 \\leq \\rho(X,Y) \\leq 1$\n"
   ]
  },
  {
   "cell_type": "code",
   "execution_count": 19,
   "id": "50532e96-9b49-42be-8fc5-87a4d0ab7c94",
   "metadata": {},
   "outputs": [
    {
     "data": {
      "text/html": [
       "<div>\n",
       "<style scoped>\n",
       "    .dataframe tbody tr th:only-of-type {\n",
       "        vertical-align: middle;\n",
       "    }\n",
       "\n",
       "    .dataframe tbody tr th {\n",
       "        vertical-align: top;\n",
       "    }\n",
       "\n",
       "    .dataframe thead th {\n",
       "        text-align: right;\n",
       "    }\n",
       "</style>\n",
       "<table border=\"1\" class=\"dataframe\">\n",
       "  <thead>\n",
       "    <tr style=\"text-align: right;\">\n",
       "      <th></th>\n",
       "      <th>math</th>\n",
       "      <th>eng</th>\n",
       "    </tr>\n",
       "  </thead>\n",
       "  <tbody>\n",
       "    <tr>\n",
       "      <th>math</th>\n",
       "      <td>1.00000</td>\n",
       "      <td>-0.32474</td>\n",
       "    </tr>\n",
       "    <tr>\n",
       "      <th>eng</th>\n",
       "      <td>-0.32474</td>\n",
       "      <td>1.00000</td>\n",
       "    </tr>\n",
       "  </tbody>\n",
       "</table>\n",
       "</div>"
      ],
      "text/plain": [
       "         math      eng\n",
       "math  1.00000 -0.32474\n",
       "eng  -0.32474  1.00000"
      ]
     },
     "execution_count": 19,
     "metadata": {},
     "output_type": "execute_result"
    }
   ],
   "source": [
    "d1[[\"math\",\"eng\"]].corr(method='pearson')"
   ]
  },
  {
   "cell_type": "markdown",
   "id": "573e91d8-dd99-4099-9a2b-c514be841df2",
   "metadata": {},
   "source": [
    "#### [Spearman](https://en.wikipedia.org/wiki/Spearman%27s_rank_correlation_coefficient)\n",
    "- applicable quand la mediane est applicable aux deux variables $X$ et $Y$\n",
    "- ceci représente la \"force\" d'association (de rang/ordre) entre deux variables (*):\n",
    "\n",
    "    - exemple avec $\\rho \\approx 1$: quand on prends les lignes qui sont dans le top/bottom 10 des $X$, pour ces mêmes lignes on a également le top/bottom 10 des $Y$\n",
    "    - exemple avec $\\rho \\approx -1$: quand on prends les lignes qui sont dans le top/bottom 10 des $X$, pour ces mêmes lignes on a un ordre inversé: le top $\\rightarrow$ bottom, et bottom $\\rightarrow$ top\n",
    "    - exemple avec $\\rho \\approx 0$: il n'y a pas de relation monotone, il n'y a pas d'ordre applicable pour chaque pair $(x_i,y_k)$\n",
    "    - \n",
    "$\\rho(X,Y) = \\frac{\\text{covar}(R(X),R(Y))}{\\text{std}(R(X)) \\cdot \\text{std}(R(Y))} $  \n",
    "avec $R(X) = \\{R(x_i) | \\forall x_i \\in X \\}$ le rang (ranking) et/ou ordre de la variable $X$  \n",
    "$-1 \\leq \\rho(X,Y) \\leq 1$\n",
    "\n",
    "(*): plus exactement: si la relation décrit une fonction [monotone](https://en.wikipedia.org/wiki/Monotonic_function)"
   ]
  },
  {
   "cell_type": "code",
   "execution_count": 20,
   "id": "42071101-7b0e-460c-9ab8-b1a2d0d7b8fa",
   "metadata": {},
   "outputs": [
    {
     "data": {
      "text/html": [
       "<div>\n",
       "<style scoped>\n",
       "    .dataframe tbody tr th:only-of-type {\n",
       "        vertical-align: middle;\n",
       "    }\n",
       "\n",
       "    .dataframe tbody tr th {\n",
       "        vertical-align: top;\n",
       "    }\n",
       "\n",
       "    .dataframe thead th {\n",
       "        text-align: right;\n",
       "    }\n",
       "</style>\n",
       "<table border=\"1\" class=\"dataframe\">\n",
       "  <thead>\n",
       "    <tr style=\"text-align: right;\">\n",
       "      <th></th>\n",
       "      <th>math</th>\n",
       "      <th>eng</th>\n",
       "    </tr>\n",
       "  </thead>\n",
       "  <tbody>\n",
       "    <tr>\n",
       "      <th>math</th>\n",
       "      <td>1.000000</td>\n",
       "      <td>-0.385255</td>\n",
       "    </tr>\n",
       "    <tr>\n",
       "      <th>eng</th>\n",
       "      <td>-0.385255</td>\n",
       "      <td>1.000000</td>\n",
       "    </tr>\n",
       "  </tbody>\n",
       "</table>\n",
       "</div>"
      ],
      "text/plain": [
       "          math       eng\n",
       "math  1.000000 -0.385255\n",
       "eng  -0.385255  1.000000"
      ]
     },
     "execution_count": 20,
     "metadata": {},
     "output_type": "execute_result"
    }
   ],
   "source": [
    "d1[[\"math\",\"eng\"]].corr(method='spearman')"
   ]
  },
  {
   "cell_type": "markdown",
   "id": "c8f53055-728c-4d29-b4dc-fed11bdb6f2a",
   "metadata": {},
   "source": [
    "## Effectifs, fréquences et distributions\n",
    "- applicables à toutes les categories (et indirectement au numériques)\n",
    "- EN: frequencies, relative frequencies and distributions\n",
    "- l'idée ici c'est avoir un apperçu des valeurs possibles et à quelle point ces valeurs sont répétées\n",
    "    - on ne résume plus avec un ou deux chiffre\n",
    "    - on fait des \"group by\" = tableau de contingence = table pivot = tableau croisé dynamique\n",
    "    - EN: \"group by\", contingency table, pivot table \n",
    "\n",
    "0. Distribution = parmis les valeurs possible, comment sont-elles réparties ? dans quelles proportions ? \n",
    "\n",
    "1. (Distribution des) effectifs $F(X)$ = nombre d’apparition d’une modalité pour une variable donnée $F(x_i)$ avec $x_i \\in X$\n",
    "\n",
    "2. (Distribution des) fréquences $f(X)$ = fréquence d’apparition d’une modalité pour une variable donnée $f(x_i) = F(x_i)/N_\\text{tot}$ avec $N_\\text{tot} = \\sum_i F(x_i)$\n",
    "3. (Distribution des) effectifs cumulés = somme cummulé des effectifs \n",
    "4. Distribution marginale $f(\\star)$ = somme des effectifs pour une colonne ou ligne particulière\n",
    "    - $ 1 = f(\\cdot) = f(\\star) = \\sum_{i} f(x_i)$\n",
    "    - $f(x_i) = f(x_i,\\star) = \\sum_k f(x_i,y_k)$\n",
    "    - $f(y_k) = f(\\star,y_k) = \\sum_i f(x_i,y_k)$\n",
    "  \n",
    "6. Fréquences conjointes $f(X,Y)$ = pour chaque categorie venant des combinaison (conjointe) de $(X,Y) = \\{(x_1,y_1), (x_2,y_1), (x_1,y_2), ... , (x_I, y_K)\\}$ quelles sont les fréquences $f(x_i,y_k)$.\n",
    "    - EN: joint relative frequency \n",
    "7. Frequences conditionnelles $f(X|Y)$ = pour les données d'une categorie specifique $y_k \\in Y$, quelles sont les fréquences $f(X|y_k)$.\n",
    "    - EN: conditionnal relative frequency\n",
    "    - à noter que:\n",
    "        - $f(x_i|y_k) = \\frac{f(x_i,y_k)}{f(y_k)}$\n",
    "        - $\\sum_k f(x_i|y_k)\\cdot f(y_k) = f(x_i)$"
   ]
  },
  {
   "cell_type": "code",
   "execution_count": 21,
   "id": "554c59fa-b8bc-43e8-87a0-0b8c7d418bdd",
   "metadata": {},
   "outputs": [
    {
     "data": {
      "text/html": [
       "<div>\n",
       "<style scoped>\n",
       "    .dataframe tbody tr th:only-of-type {\n",
       "        vertical-align: middle;\n",
       "    }\n",
       "\n",
       "    .dataframe tbody tr th {\n",
       "        vertical-align: top;\n",
       "    }\n",
       "\n",
       "    .dataframe thead th {\n",
       "        text-align: right;\n",
       "    }\n",
       "</style>\n",
       "<table border=\"1\" class=\"dataframe\">\n",
       "  <thead>\n",
       "    <tr style=\"text-align: right;\">\n",
       "      <th></th>\n",
       "      <th>class</th>\n",
       "      <th>F</th>\n",
       "    </tr>\n",
       "  </thead>\n",
       "  <tbody>\n",
       "    <tr>\n",
       "      <th>0</th>\n",
       "      <td>A</td>\n",
       "      <td>3345</td>\n",
       "    </tr>\n",
       "    <tr>\n",
       "      <th>1</th>\n",
       "      <td>B</td>\n",
       "      <td>3333</td>\n",
       "    </tr>\n",
       "    <tr>\n",
       "      <th>2</th>\n",
       "      <td>C</td>\n",
       "      <td>3322</td>\n",
       "    </tr>\n",
       "  </tbody>\n",
       "</table>\n",
       "</div>"
      ],
      "text/plain": [
       "  class     F\n",
       "0     A  3345\n",
       "1     B  3333\n",
       "2     C  3322"
      ]
     },
     "metadata": {},
     "output_type": "display_data"
    }
   ],
   "source": [
    "contingency = d1[[\"class\"]].groupby(by=[\"class\"],as_index=False).agg(F=(\"class\",\"count\"))\n",
    "\n",
    "display(contingency)"
   ]
  },
  {
   "cell_type": "code",
   "execution_count": 22,
   "id": "04f83c44-68b4-4857-93e7-f80adbe47879",
   "metadata": {},
   "outputs": [
    {
     "name": "stdout",
     "output_type": "stream",
     "text": [
      "1.0\n"
     ]
    },
    {
     "data": {
      "text/html": [
       "<div>\n",
       "<style scoped>\n",
       "    .dataframe tbody tr th:only-of-type {\n",
       "        vertical-align: middle;\n",
       "    }\n",
       "\n",
       "    .dataframe tbody tr th {\n",
       "        vertical-align: top;\n",
       "    }\n",
       "\n",
       "    .dataframe thead th {\n",
       "        text-align: right;\n",
       "    }\n",
       "</style>\n",
       "<table border=\"1\" class=\"dataframe\">\n",
       "  <thead>\n",
       "    <tr style=\"text-align: right;\">\n",
       "      <th></th>\n",
       "      <th>class</th>\n",
       "      <th>F</th>\n",
       "      <th>f</th>\n",
       "      <th>cF</th>\n",
       "      <th>cf</th>\n",
       "    </tr>\n",
       "  </thead>\n",
       "  <tbody>\n",
       "    <tr>\n",
       "      <th>0</th>\n",
       "      <td>A</td>\n",
       "      <td>3345</td>\n",
       "      <td>0.3345</td>\n",
       "      <td>3345</td>\n",
       "      <td>0.3345</td>\n",
       "    </tr>\n",
       "    <tr>\n",
       "      <th>1</th>\n",
       "      <td>B</td>\n",
       "      <td>3333</td>\n",
       "      <td>0.3333</td>\n",
       "      <td>6678</td>\n",
       "      <td>0.6678</td>\n",
       "    </tr>\n",
       "    <tr>\n",
       "      <th>2</th>\n",
       "      <td>C</td>\n",
       "      <td>3322</td>\n",
       "      <td>0.3322</td>\n",
       "      <td>10000</td>\n",
       "      <td>1.0000</td>\n",
       "    </tr>\n",
       "  </tbody>\n",
       "</table>\n",
       "</div>"
      ],
      "text/plain": [
       "  class     F       f     cF      cf\n",
       "0     A  3345  0.3345   3345  0.3345\n",
       "1     B  3333  0.3333   6678  0.6678\n",
       "2     C  3322  0.3322  10000  1.0000"
      ]
     },
     "metadata": {},
     "output_type": "display_data"
    }
   ],
   "source": [
    "contingency[\"f\"] = contingency[\"F\"]/contingency[\"F\"].sum()\n",
    "contingency['cF'] = contingency[\"F\"].cumsum()\n",
    "contingency['cf'] = contingency[\"f\"].cumsum()\n",
    "print(contingency[\"f\"].sum())\n",
    "display(contingency)"
   ]
  },
  {
   "cell_type": "code",
   "execution_count": 23,
   "id": "c3c06725-3fc9-4908-8238-79718fbf3ae1",
   "metadata": {},
   "outputs": [
    {
     "data": {
      "text/html": [
       "<div>\n",
       "<style scoped>\n",
       "    .dataframe tbody tr th:only-of-type {\n",
       "        vertical-align: middle;\n",
       "    }\n",
       "\n",
       "    .dataframe tbody tr th {\n",
       "        vertical-align: top;\n",
       "    }\n",
       "\n",
       "    .dataframe thead th {\n",
       "        text-align: right;\n",
       "    }\n",
       "</style>\n",
       "<table border=\"1\" class=\"dataframe\">\n",
       "  <thead>\n",
       "    <tr style=\"text-align: right;\">\n",
       "      <th></th>\n",
       "      <th>F</th>\n",
       "      <th>f</th>\n",
       "    </tr>\n",
       "    <tr>\n",
       "      <th>class</th>\n",
       "      <th></th>\n",
       "      <th></th>\n",
       "    </tr>\n",
       "  </thead>\n",
       "  <tbody>\n",
       "    <tr>\n",
       "      <th>A</th>\n",
       "      <td>3345</td>\n",
       "      <td>0.3345</td>\n",
       "    </tr>\n",
       "    <tr>\n",
       "      <th>B</th>\n",
       "      <td>3333</td>\n",
       "      <td>0.3333</td>\n",
       "    </tr>\n",
       "    <tr>\n",
       "      <th>C</th>\n",
       "      <td>3322</td>\n",
       "      <td>0.3322</td>\n",
       "    </tr>\n",
       "    <tr>\n",
       "      <th>All</th>\n",
       "      <td>10000</td>\n",
       "      <td>1.0000</td>\n",
       "    </tr>\n",
       "  </tbody>\n",
       "</table>\n",
       "</div>"
      ],
      "text/plain": [
       "           F       f\n",
       "class               \n",
       "A       3345  0.3345\n",
       "B       3333  0.3333\n",
       "C       3322  0.3322\n",
       "All    10000  1.0000"
      ]
     },
     "metadata": {},
     "output_type": "display_data"
    }
   ],
   "source": [
    "pivot = d1.pivot_table(index=\"class\",values='id',aggfunc='count',margins=True,)\n",
    "pivot[\"F\"] = pivot[\"id\"]\n",
    "pivot.drop(columns=[\"id\"],inplace=True)\n",
    "pivot[\"f\"] = pivot[\"F\"]/pivot.at[\"All\",\"F\"]\n",
    "display(pivot)"
   ]
  },
  {
   "cell_type": "code",
   "execution_count": 24,
   "id": "159d1bc8-1b80-4e4d-82d3-bc71a28bc891",
   "metadata": {},
   "outputs": [
    {
     "data": {
      "text/html": [
       "<div>\n",
       "<style scoped>\n",
       "    .dataframe tbody tr th:only-of-type {\n",
       "        vertical-align: middle;\n",
       "    }\n",
       "\n",
       "    .dataframe tbody tr th {\n",
       "        vertical-align: top;\n",
       "    }\n",
       "\n",
       "    .dataframe thead th {\n",
       "        text-align: right;\n",
       "    }\n",
       "</style>\n",
       "<table border=\"1\" class=\"dataframe\">\n",
       "  <thead>\n",
       "    <tr style=\"text-align: right;\">\n",
       "      <th>cat_eng</th>\n",
       "      <th>0.0</th>\n",
       "      <th>5.0</th>\n",
       "      <th>10.0</th>\n",
       "      <th>15.0</th>\n",
       "    </tr>\n",
       "    <tr>\n",
       "      <th>cat_math</th>\n",
       "      <th></th>\n",
       "      <th></th>\n",
       "      <th></th>\n",
       "      <th></th>\n",
       "    </tr>\n",
       "  </thead>\n",
       "  <tbody>\n",
       "    <tr>\n",
       "      <th>0.0</th>\n",
       "      <td>NaN</td>\n",
       "      <td>1.0</td>\n",
       "      <td>3.0</td>\n",
       "      <td>NaN</td>\n",
       "    </tr>\n",
       "    <tr>\n",
       "      <th>5.0</th>\n",
       "      <td>9.0</td>\n",
       "      <td>132.0</td>\n",
       "      <td>2140.0</td>\n",
       "      <td>332.0</td>\n",
       "    </tr>\n",
       "    <tr>\n",
       "      <th>10.0</th>\n",
       "      <td>21.0</td>\n",
       "      <td>1927.0</td>\n",
       "      <td>2890.0</td>\n",
       "      <td>963.0</td>\n",
       "    </tr>\n",
       "    <tr>\n",
       "      <th>15.0</th>\n",
       "      <td>NaN</td>\n",
       "      <td>430.0</td>\n",
       "      <td>1117.0</td>\n",
       "      <td>27.0</td>\n",
       "    </tr>\n",
       "    <tr>\n",
       "      <th>20.0</th>\n",
       "      <td>NaN</td>\n",
       "      <td>1.0</td>\n",
       "      <td>6.0</td>\n",
       "      <td>1.0</td>\n",
       "    </tr>\n",
       "  </tbody>\n",
       "</table>\n",
       "</div>"
      ],
      "text/plain": [
       "cat_eng   0.0     5.0     10.0   15.0\n",
       "cat_math                             \n",
       "0.0        NaN     1.0     3.0    NaN\n",
       "5.0        9.0   132.0  2140.0  332.0\n",
       "10.0      21.0  1927.0  2890.0  963.0\n",
       "15.0       NaN   430.0  1117.0   27.0\n",
       "20.0       NaN     1.0     6.0    1.0"
      ]
     },
     "execution_count": 24,
     "metadata": {},
     "output_type": "execute_result"
    }
   ],
   "source": [
    "d1[\"cat_math\"] = (d1[\"math\"]//5)*5\n",
    "d1[\"cat_eng\"] = (d1[\"eng\"]//5)*5\n",
    "\n",
    "pivot_nums = d1.pivot_table(index= \"cat_math\"\n",
    "                            ,columns= \"cat_eng\"\n",
    "                            ,values=\"id\"\n",
    "                            ,aggfunc=\"count\"\n",
    "                           )\n",
    "pivot_nums"
   ]
  },
  {
   "cell_type": "code",
   "execution_count": 36,
   "id": "44b8a3c4-a169-442c-960a-c006b1c3372a",
   "metadata": {},
   "outputs": [
    {
     "data": {
      "text/html": [
       "<div>\n",
       "<style scoped>\n",
       "    .dataframe tbody tr th:only-of-type {\n",
       "        vertical-align: middle;\n",
       "    }\n",
       "\n",
       "    .dataframe tbody tr th {\n",
       "        vertical-align: top;\n",
       "    }\n",
       "\n",
       "    .dataframe thead th {\n",
       "        text-align: right;\n",
       "    }\n",
       "</style>\n",
       "<table border=\"1\" class=\"dataframe\">\n",
       "  <thead>\n",
       "    <tr style=\"text-align: right;\">\n",
       "      <th>cat_eng</th>\n",
       "      <th>0.0</th>\n",
       "      <th>5.0</th>\n",
       "      <th>10.0</th>\n",
       "      <th>15.0</th>\n",
       "    </tr>\n",
       "    <tr>\n",
       "      <th>cat_math</th>\n",
       "      <th></th>\n",
       "      <th></th>\n",
       "      <th></th>\n",
       "      <th></th>\n",
       "    </tr>\n",
       "  </thead>\n",
       "  <tbody>\n",
       "    <tr>\n",
       "      <th>0.0</th>\n",
       "      <td>NaN</td>\n",
       "      <td>0.0001</td>\n",
       "      <td>0.0003</td>\n",
       "      <td>NaN</td>\n",
       "    </tr>\n",
       "    <tr>\n",
       "      <th>5.0</th>\n",
       "      <td>0.0009</td>\n",
       "      <td>0.0132</td>\n",
       "      <td>0.2140</td>\n",
       "      <td>0.0332</td>\n",
       "    </tr>\n",
       "    <tr>\n",
       "      <th>10.0</th>\n",
       "      <td>0.0021</td>\n",
       "      <td>0.1927</td>\n",
       "      <td>0.2890</td>\n",
       "      <td>0.0963</td>\n",
       "    </tr>\n",
       "    <tr>\n",
       "      <th>15.0</th>\n",
       "      <td>NaN</td>\n",
       "      <td>0.0430</td>\n",
       "      <td>0.1117</td>\n",
       "      <td>0.0027</td>\n",
       "    </tr>\n",
       "    <tr>\n",
       "      <th>20.0</th>\n",
       "      <td>NaN</td>\n",
       "      <td>0.0001</td>\n",
       "      <td>0.0006</td>\n",
       "      <td>0.0001</td>\n",
       "    </tr>\n",
       "  </tbody>\n",
       "</table>\n",
       "</div>"
      ],
      "text/plain": [
       "cat_eng     0.0     5.0     10.0    15.0\n",
       "cat_math                                \n",
       "0.0          NaN  0.0001  0.0003     NaN\n",
       "5.0       0.0009  0.0132  0.2140  0.0332\n",
       "10.0      0.0021  0.1927  0.2890  0.0963\n",
       "15.0         NaN  0.0430  0.1117  0.0027\n",
       "20.0         NaN  0.0001  0.0006  0.0001"
      ]
     },
     "metadata": {},
     "output_type": "display_data"
    },
    {
     "name": "stdout",
     "output_type": "stream",
     "text": [
      "1 = 1.0\n",
      "--------------------------------------------------\n"
     ]
    }
   ],
   "source": [
    "pivot_nums_freq  = pivot_nums/pivot_nums.sum().sum()\n",
    "display(pivot_nums_freq)\n",
    "print(\"1 =\",pivot_nums_freq.sum().sum())\n",
    "print(\"-\"*50)"
   ]
  },
  {
   "cell_type": "code",
   "execution_count": 26,
   "id": "ca09888c-30a0-4222-a20b-f5f73195f5fb",
   "metadata": {},
   "outputs": [
    {
     "data": {
      "text/html": [
       "<div>\n",
       "<style scoped>\n",
       "    .dataframe tbody tr th:only-of-type {\n",
       "        vertical-align: middle;\n",
       "    }\n",
       "\n",
       "    .dataframe tbody tr th {\n",
       "        vertical-align: top;\n",
       "    }\n",
       "\n",
       "    .dataframe thead th {\n",
       "        text-align: right;\n",
       "    }\n",
       "</style>\n",
       "<table border=\"1\" class=\"dataframe\">\n",
       "  <thead>\n",
       "    <tr style=\"text-align: right;\">\n",
       "      <th>gender</th>\n",
       "      <th>F</th>\n",
       "      <th>M</th>\n",
       "      <th>All</th>\n",
       "    </tr>\n",
       "    <tr>\n",
       "      <th>class</th>\n",
       "      <th></th>\n",
       "      <th></th>\n",
       "      <th></th>\n",
       "    </tr>\n",
       "  </thead>\n",
       "  <tbody>\n",
       "    <tr>\n",
       "      <th>A</th>\n",
       "      <td>0.1688</td>\n",
       "      <td>0.1657</td>\n",
       "      <td>0.3345</td>\n",
       "    </tr>\n",
       "    <tr>\n",
       "      <th>B</th>\n",
       "      <td>0.1664</td>\n",
       "      <td>0.1669</td>\n",
       "      <td>0.3333</td>\n",
       "    </tr>\n",
       "    <tr>\n",
       "      <th>C</th>\n",
       "      <td>0.1648</td>\n",
       "      <td>0.1674</td>\n",
       "      <td>0.3322</td>\n",
       "    </tr>\n",
       "    <tr>\n",
       "      <th>All</th>\n",
       "      <td>0.5000</td>\n",
       "      <td>0.5000</td>\n",
       "      <td>1.0000</td>\n",
       "    </tr>\n",
       "  </tbody>\n",
       "</table>\n",
       "</div>"
      ],
      "text/plain": [
       "gender       F       M     All\n",
       "class                         \n",
       "A       0.1688  0.1657  0.3345\n",
       "B       0.1664  0.1669  0.3333\n",
       "C       0.1648  0.1674  0.3322\n",
       "All     0.5000  0.5000  1.0000"
      ]
     },
     "execution_count": 26,
     "metadata": {},
     "output_type": "execute_result"
    }
   ],
   "source": [
    "pivot_joint = d1.pivot_table(index = \"class\"\n",
    "                             ,columns = \"gender\"\n",
    "                             ,values=\"id\"\n",
    "                             ,aggfunc=\"count\"\n",
    "                             ,margins=True\n",
    "                            )\n",
    "pivot_joint/= pivot_joint.at[\"All\",\"All\"]\n",
    "pivot_joint"
   ]
  },
  {
   "cell_type": "code",
   "execution_count": 27,
   "id": "ad000af5-1243-4337-b48a-fbc93d30add3",
   "metadata": {},
   "outputs": [
    {
     "data": {
      "text/html": [
       "<div>\n",
       "<style scoped>\n",
       "    .dataframe tbody tr th:only-of-type {\n",
       "        vertical-align: middle;\n",
       "    }\n",
       "\n",
       "    .dataframe tbody tr th {\n",
       "        vertical-align: top;\n",
       "    }\n",
       "\n",
       "    .dataframe thead th {\n",
       "        text-align: right;\n",
       "    }\n",
       "</style>\n",
       "<table border=\"1\" class=\"dataframe\">\n",
       "  <thead>\n",
       "    <tr style=\"text-align: right;\">\n",
       "      <th>gender</th>\n",
       "      <th>F</th>\n",
       "      <th>M</th>\n",
       "      <th>All</th>\n",
       "    </tr>\n",
       "    <tr>\n",
       "      <th>class</th>\n",
       "      <th></th>\n",
       "      <th></th>\n",
       "      <th></th>\n",
       "    </tr>\n",
       "  </thead>\n",
       "  <tbody>\n",
       "    <tr>\n",
       "      <th>A</th>\n",
       "      <td>0.3376</td>\n",
       "      <td>0.3314</td>\n",
       "      <td>0.3345</td>\n",
       "    </tr>\n",
       "    <tr>\n",
       "      <th>B</th>\n",
       "      <td>0.3328</td>\n",
       "      <td>0.3338</td>\n",
       "      <td>0.3333</td>\n",
       "    </tr>\n",
       "    <tr>\n",
       "      <th>C</th>\n",
       "      <td>0.3296</td>\n",
       "      <td>0.3348</td>\n",
       "      <td>0.3322</td>\n",
       "    </tr>\n",
       "    <tr>\n",
       "      <th>All</th>\n",
       "      <td>1.0000</td>\n",
       "      <td>1.0000</td>\n",
       "      <td>1.0000</td>\n",
       "    </tr>\n",
       "  </tbody>\n",
       "</table>\n",
       "</div>"
      ],
      "text/plain": [
       "gender       F       M     All\n",
       "class                         \n",
       "A       0.3376  0.3314  0.3345\n",
       "B       0.3328  0.3338  0.3333\n",
       "C       0.3296  0.3348  0.3322\n",
       "All     1.0000  1.0000  1.0000"
      ]
     },
     "execution_count": 27,
     "metadata": {},
     "output_type": "execute_result"
    }
   ],
   "source": [
    "pivot_conditionnal_gender = pivot_joint/pivot_joint.loc[\"All\",:]\n",
    "pivot_conditionnal_gender"
   ]
  },
  {
   "cell_type": "code",
   "execution_count": 28,
   "id": "2464cffa-5211-466a-aaea-c68fa2d8a776",
   "metadata": {},
   "outputs": [
    {
     "data": {
      "text/html": [
       "<div>\n",
       "<style scoped>\n",
       "    .dataframe tbody tr th:only-of-type {\n",
       "        vertical-align: middle;\n",
       "    }\n",
       "\n",
       "    .dataframe tbody tr th {\n",
       "        vertical-align: top;\n",
       "    }\n",
       "\n",
       "    .dataframe thead th {\n",
       "        text-align: right;\n",
       "    }\n",
       "</style>\n",
       "<table border=\"1\" class=\"dataframe\">\n",
       "  <thead>\n",
       "    <tr style=\"text-align: right;\">\n",
       "      <th>gender</th>\n",
       "      <th>F</th>\n",
       "      <th>M</th>\n",
       "      <th>All</th>\n",
       "    </tr>\n",
       "    <tr>\n",
       "      <th>class</th>\n",
       "      <th></th>\n",
       "      <th></th>\n",
       "      <th></th>\n",
       "    </tr>\n",
       "  </thead>\n",
       "  <tbody>\n",
       "    <tr>\n",
       "      <th>A</th>\n",
       "      <td>0.504634</td>\n",
       "      <td>0.495366</td>\n",
       "      <td>1.0</td>\n",
       "    </tr>\n",
       "    <tr>\n",
       "      <th>B</th>\n",
       "      <td>0.499250</td>\n",
       "      <td>0.500750</td>\n",
       "      <td>1.0</td>\n",
       "    </tr>\n",
       "    <tr>\n",
       "      <th>C</th>\n",
       "      <td>0.496087</td>\n",
       "      <td>0.503913</td>\n",
       "      <td>1.0</td>\n",
       "    </tr>\n",
       "    <tr>\n",
       "      <th>All</th>\n",
       "      <td>0.500000</td>\n",
       "      <td>0.500000</td>\n",
       "      <td>1.0</td>\n",
       "    </tr>\n",
       "  </tbody>\n",
       "</table>\n",
       "</div>"
      ],
      "text/plain": [
       "gender         F         M  All\n",
       "class                          \n",
       "A       0.504634  0.495366  1.0\n",
       "B       0.499250  0.500750  1.0\n",
       "C       0.496087  0.503913  1.0\n",
       "All     0.500000  0.500000  1.0"
      ]
     },
     "execution_count": 28,
     "metadata": {},
     "output_type": "execute_result"
    }
   ],
   "source": [
    "pivot_conditionnal_class = (pivot_joint.T/pivot_joint.loc[:,\"All\"]).T\n",
    "pivot_conditionnal_class"
   ]
  },
  {
   "cell_type": "markdown",
   "id": "cd9a566f-fd68-48ca-974d-10a409016a90",
   "metadata": {},
   "source": [
    "## Graphiques:\n",
    "\n",
    "- **voir matplotlib/seaborn**\n",
    "\n",
    "- ressources suggestion de graphiques à faire (en statistique et en business)\n",
    "    - https://flowingdata.com/2009/01/15/flow-chart-shows-you-what-chart-to-use/\n",
    "    - https://datavizcatalogue.com/search.html"
   ]
  },
  {
   "cell_type": "code",
   "execution_count": null,
   "id": "083bb2c6-d578-4726-81d8-fc5d732c8915",
   "metadata": {},
   "outputs": [],
   "source": []
  },
  {
   "cell_type": "markdown",
   "id": "609723ae-977e-450b-9838-619cae5dc5fe",
   "metadata": {},
   "source": [
    "## EDA: Exploratory Data Analysis\n",
    "- Comment on fait l'utilisation des statistique descriptive avant de faire du machine learning \n",
    "- voir EDA stroke"
   ]
  },
  {
   "cell_type": "code",
   "execution_count": null,
   "id": "d2e40526-0f1a-4d24-a977-5e05208bda74",
   "metadata": {},
   "outputs": [],
   "source": []
  }
 ],
 "metadata": {
  "kernelspec": {
   "display_name": "Python 3 (ipykernel)",
   "language": "python",
   "name": "python3"
  },
  "language_info": {
   "codemirror_mode": {
    "name": "ipython",
    "version": 3
   },
   "file_extension": ".py",
   "mimetype": "text/x-python",
   "name": "python",
   "nbconvert_exporter": "python",
   "pygments_lexer": "ipython3",
   "version": "3.11.9"
  }
 },
 "nbformat": 4,
 "nbformat_minor": 5
}
