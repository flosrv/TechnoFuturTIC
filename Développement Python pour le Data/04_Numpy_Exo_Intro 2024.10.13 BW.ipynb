{
 "cells": [
  {
   "cell_type": "markdown",
   "metadata": {
    "id": "rPIVKXCNPMrs"
   },
   "source": [
    "**<p style = \"text-align:center; font-size:30px\"><u> Exercices de base Numpy</u></p>**"
   ]
  },
  {
   "cell_type": "markdown",
   "metadata": {
    "id": "aDp8NaOTPMru"
   },
   "source": [
    "# Exercice 1\n",
    "\n",
    "- Créez un Numpy array depuis la liste suivante [11.7, 20, 325, 10.2, 11.7, 20]\n",
    "- Remplacez la première occurence de la valeur 11.7 par 5\n",
    "- Remplacez toutes les occurences des valeurs 20 par 0\n",
    "- Calculez la taille (mémoire) du tableau\n",
    "- Modifier le typage en uint8\n",
    "- Calculez la taille du tableau\n",
    "- Observez les valeurs ? Que s'est-il passé ?\n",
    "\n",
    "<br>"
   ]
  },
  {
   "cell_type": "markdown",
   "metadata": {
    "id": "822o_kAlPMrw"
   },
   "source": [
    "# Exercice 2\n",
    "\n",
    "- Créez un Numpy array depuis la matrice suivante [[1, 2, 3], [4, 5, 6], [7, 8, np.nan]]\n",
    "- Affichez :\n",
    "  - Le type de données de la matrice\n",
    "  - Sa forme\n",
    "  - Son nombre de dimensions\n",
    "  - Son nombre d'éléments\n",
    "  - Depuis la forme, pouvez-vous obtenir le nombre de dimensions et le nombre d'éléments ?\n",
    "- Multipliez la dernière colonne par 5 et divisez la première ligne par 0\n",
    "- Modifiez le typage en *int*. Que se passe-t-il ?\n",
    "\n",
    "<br>"
   ]
  },
  {
   "cell_type": "markdown",
   "metadata": {},
   "source": [
    "# Exercice 3\n",
    "\n",
    "1. Créez la matrice suivante dans la variable x1 :\n",
    "```py\n",
    "      [[10, 20, 30],\n",
    "       [40, 50, 60],\n",
    "       [70, 80, 90]]\n",
    "```\n",
    "\n",
    "2. Extrayez une partie de x1 dans la variable x2\n",
    "```py\n",
    "      [[50, 60],\n",
    "       [80, 90]]\n",
    "```\n",
    "\n",
    "3. Remplacez le 50 de x2 par 99\n",
    "4. Réaffichez x1"
   ]
  },
  {
   "cell_type": "markdown",
   "metadata": {},
   "source": [
    "# Exercice 4\n",
    "\n",
    "1. Créez la matrice suivante dans la variable x3\n",
    "```py\n",
    "      [[10, 20, 30],\n",
    "       [40, 50, 60],\n",
    "       [70, 80, 90]]\n",
    "```\n",
    "\n",
    "2. Extrayez __une copie__ d'une partie de x3 dans la variable x4\n",
    "```py\n",
    "      [[50, 60],\n",
    "       [80, 90]]\n",
    "```\n",
    "\n",
    "3. Remplacez le 50 de x4 par 99\n",
    "4. Réaffichez x3"
   ]
  },
  {
   "cell_type": "markdown",
   "metadata": {
    "id": "_dh3U5u1PMry"
   },
   "source": [
    "# Exercice 5\n",
    "\n",
    "- Créez une matrice (4 * 4) remplie de valeurs aléatoires comprises entre 2 et 8\n",
    "- Créez un matrice d'identité (*i.e.* une matrice carrée dont la diagonale descendante principale est remplie de 1 et le reste = 0). Proposez plusieurs solutions.\n",
    "- Créez une matrice dont la diagonale principale sera remplie de 6 valeurs aléatoires. Proposez plusieurs solutions.\n",
    "\n",
    "(Tips : \"zeros\", \"identity\", \"fill_diagonal\")\n",
    "<br>"
   ]
  },
  {
   "cell_type": "markdown",
   "metadata": {
    "id": "Ifr5eMoKPMrz"
   },
   "source": [
    "# Exercice 6\n",
    "\n",
    "- Reproduisez la matrice suivante (sans les noms de lignes ou colonnes)\n",
    "\n",
    "<table border = \"1\" class = \"dataframe\">\n",
    "  <thead>\n",
    "    <tr style = \"text-align: right;\">\n",
    "      <th></th>\n",
    "      <th>pâtes</th>\n",
    "      <th>légumes</th>\n",
    "      <th>divers</th>\n",
    "    </tr>\n",
    "  </thead>\n",
    "  <tbody>\n",
    "    <tr>\n",
    "      <th>bob</th>\n",
    "      <td>10€</td>\n",
    "      <td>30€</td>\n",
    "      <td>5€</td>\n",
    "    </tr>\n",
    "    <tr>\n",
    "      <th>alice</th>\n",
    "      <td>20€</td>\n",
    "      <td>50€</td>\n",
    "      <td>1€</td>\n",
    "    </tr>\n",
    "    <tr>\n",
    "      <th>john</th>\n",
    "      <td>15€</td>\n",
    "      <td>30€</td>\n",
    "      <td>NaN</td>\n",
    "    </tr>\n",
    "  </tbody>\n",
    "</table>\n",
    "\n",
    "- Affichez le montant total des achats\n",
    "- Affichez les totaux des achats par personne\n",
    "- Affichez les moyennes des achats par type d'aliments\n",
    "\n",
    "<br>"
   ]
  },
  {
   "cell_type": "markdown",
   "metadata": {},
   "source": [
    "# Exercice 7\n",
    "\n",
    "Cette fois-ci nous avons les quantités achetées ainsi que le prix unitaire pour chacun des éléments\n",
    "\n",
    "<table border = \"1\" class = \"dataframe\">\n",
    "  <thead>\n",
    "    <tr style = \"text-align: right;\">\n",
    "      <th></th>\n",
    "      <th>pâtes</th>\n",
    "      <th>légumes</th>\n",
    "      <th>divers</th>\n",
    "    </tr>\n",
    "  </thead>\n",
    "  <tbody>\n",
    "    <tr>\n",
    "      <th>bob</th>\n",
    "      <td>1</td>\n",
    "      <td>4</td>\n",
    "      <td>2</td>\n",
    "    </tr>\n",
    "    <tr>\n",
    "      <th>alice</th>\n",
    "      <td>3</td>\n",
    "      <td>5</td>\n",
    "      <td>7</td>\n",
    "    </tr>\n",
    "    <tr>\n",
    "      <th>john</th>\n",
    "      <td>5</td>\n",
    "      <td>4</td>\n",
    "      <td>4</td>\n",
    "    </tr>\n",
    "  </tbody>\n",
    "</table>\n",
    "\n",
    "```py\n",
    "[20, 5, 3]\n",
    "```\n",
    "\n",
    "- Calculez le montant total par personne\n",
    "- Calculez le montant total par produit\n",
    "\n",
    "<br>"
   ]
  }
 ],
 "metadata": {
  "colab": {
   "provenance": []
  },
  "kernelspec": {
   "display_name": "Python 3 (ipykernel)",
   "language": "python",
   "name": "python3"
  },
  "language_info": {
   "codemirror_mode": {
    "name": "ipython",
    "version": 3
   },
   "file_extension": ".py",
   "mimetype": "text/x-python",
   "name": "python",
   "nbconvert_exporter": "python",
   "pygments_lexer": "ipython3",
   "version": "3.10.13"
  },
  "vscode": {
   "interpreter": {
    "hash": "8b038021cdf13f495f9b9095f721a5cca6d620ce47cac75dee16c0cf770fe58e"
   }
  }
 },
 "nbformat": 4,
 "nbformat_minor": 4
}
