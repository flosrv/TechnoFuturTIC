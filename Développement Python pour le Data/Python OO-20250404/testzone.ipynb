{
 "cells": [
  {
   "cell_type": "code",
   "execution_count": 41,
   "metadata": {},
   "outputs": [
    {
     "name": "stdout",
     "output_type": "stream",
     "text": [
      "The autoreload extension is already loaded. To reload it, use:\n",
      "  %reload_ext autoreload\n"
     ]
    }
   ],
   "source": [
    "from liveOO import Elephant, Soigneur, Enclos\n",
    "\n",
    "%load_ext autoreload\n",
    "%autoreload 2"
   ]
  },
  {
   "cell_type": "code",
   "execution_count": 20,
   "metadata": {},
   "outputs": [
    {
     "data": {
      "text/plain": [
       "'\\n    Cette classe a pour but de créer un objet elephant\\n    \\n    \\n    '"
      ]
     },
     "execution_count": 20,
     "metadata": {},
     "output_type": "execute_result"
    }
   ],
   "source": [
    "Elephant.__doc__"
   ]
  },
  {
   "cell_type": "code",
   "execution_count": 48,
   "metadata": {},
   "outputs": [
    {
     "name": "stdout",
     "output_type": "stream",
     "text": [
      "le nom de l'éléphant est Dumbo\n",
      "l'appetit de l'éléphant est 100\n",
      "la satisfaction de l'éléphant est 0\n",
      "l'état de l'éléphant est True\n",
      "le soigneur de l'éléphant est None\n"
     ]
    }
   ],
   "source": [
    "dumbo = Elephant()\n",
    "dumbo.get_info()"
   ]
  },
  {
   "cell_type": "code",
   "execution_count": 37,
   "metadata": {},
   "outputs": [],
   "source": [
    "dumbo.nom = \"Petitjean\""
   ]
  },
  {
   "cell_type": "code",
   "execution_count": 38,
   "metadata": {},
   "outputs": [
    {
     "data": {
      "text/plain": [
       "'Petitjean'"
      ]
     },
     "execution_count": 38,
     "metadata": {},
     "output_type": "execute_result"
    }
   ],
   "source": [
    "dumbo.nom"
   ]
  },
  {
   "cell_type": "code",
   "execution_count": null,
   "metadata": {},
   "outputs": [],
   "source": [
    "dumbo._nom = \"Petitjean\""
   ]
  },
  {
   "cell_type": "code",
   "execution_count": 30,
   "metadata": {},
   "outputs": [
    {
     "data": {
      "text/plain": [
       "'Petitjean'"
      ]
     },
     "execution_count": 30,
     "metadata": {},
     "output_type": "execute_result"
    }
   ],
   "source": [
    "dumbo.nom"
   ]
  },
  {
   "cell_type": "code",
   "execution_count": 3,
   "metadata": {},
   "outputs": [
    {
     "name": "stdout",
     "output_type": "stream",
     "text": [
      "le nom de l'éléphant est Dumbo\n",
      "l'appetit de l'éléphant est 100\n",
      "la satisfaction de l'éléphant est 0\n",
      "l'état de l'éléphant est True\n",
      "le soigneur de l'éléphant est None\n"
     ]
    }
   ],
   "source": [
    "dumbo.nom = \"Dumbo\"\n",
    "dumbo.get_info()"
   ]
  },
  {
   "cell_type": "code",
   "execution_count": 4,
   "metadata": {},
   "outputs": [
    {
     "name": "stdout",
     "output_type": "stream",
     "text": [
      "le nom de l'éléphant est Pitou\n",
      "l'appetit de l'éléphant est 100\n",
      "la satisfaction de l'éléphant est 0\n",
      "l'état de l'éléphant est True\n",
      "le soigneur de l'éléphant est None\n"
     ]
    }
   ],
   "source": [
    "pitou = Elephant()\n",
    "pitou.nom = \"Pitou\"\n",
    "pitou.get_info()"
   ]
  },
  {
   "cell_type": "code",
   "execution_count": 25,
   "metadata": {},
   "outputs": [
    {
     "name": "stdout",
     "output_type": "stream",
     "text": [
      "L'éléphant mange\n",
      "le nom de l'éléphant est Dumbo\n",
      "l'appetit de l'éléphant est 70\n",
      "la satisfaction de l'éléphant est 30\n",
      "l'état de l'éléphant est True\n",
      "le soigneur de l'éléphant est None\n",
      "--------------------------------------------------\n",
      "le nom de l'éléphant est None\n",
      "l'appetit de l'éléphant est 100\n",
      "la satisfaction de l'éléphant est 0\n",
      "l'état de l'éléphant est True\n",
      "le soigneur de l'éléphant est None\n"
     ]
    }
   ],
   "source": [
    "dumbo.manger()\n",
    "dumbo.get_info()\n",
    "print(50*\"-\")\n",
    "pitou.get_info()"
   ]
  },
  {
   "cell_type": "code",
   "execution_count": 9,
   "metadata": {},
   "outputs": [],
   "source": [
    "soigneur1 = Soigneur()\n",
    "soigneur1.nom = \"Ben\"\n"
   ]
  },
  {
   "cell_type": "code",
   "execution_count": 10,
   "metadata": {},
   "outputs": [
    {
     "name": "stdout",
     "output_type": "stream",
     "text": [
      "Ben n'est pas le soigneur de Dumbo\n"
     ]
    }
   ],
   "source": [
    "soigneur1.nourir(dumbo)"
   ]
  },
  {
   "cell_type": "code",
   "execution_count": 11,
   "metadata": {},
   "outputs": [],
   "source": [
    "dumbo.soigneur = soigneur1"
   ]
  },
  {
   "cell_type": "code",
   "execution_count": 12,
   "metadata": {},
   "outputs": [
    {
     "name": "stdout",
     "output_type": "stream",
     "text": [
      "Ben donne a manger a Dumbo\n",
      "L'éléphant mange\n"
     ]
    }
   ],
   "source": [
    "soigneur1.nourir(dumbo)"
   ]
  },
  {
   "cell_type": "code",
   "execution_count": 13,
   "metadata": {},
   "outputs": [
    {
     "name": "stdout",
     "output_type": "stream",
     "text": [
      "le nom de l'éléphant est Dumbo\n",
      "l'appetit de l'éléphant est 90\n",
      "la satisfaction de l'éléphant est 10\n",
      "l'état de l'éléphant est True\n",
      "le soigneur de l'éléphant est <liveOO.Soigneur object at 0x000001D131EB7CE0>\n"
     ]
    }
   ],
   "source": [
    "dumbo.get_info()"
   ]
  },
  {
   "cell_type": "code",
   "execution_count": 14,
   "metadata": {},
   "outputs": [
    {
     "name": "stdout",
     "output_type": "stream",
     "text": [
      "Ben s'occuper de Dumbo\n",
      "le nom de l'éléphant est Dumbo\n",
      "l'appetit de l'éléphant est 90\n",
      "la satisfaction de l'éléphant est 30\n",
      "l'état de l'éléphant est True\n",
      "le soigneur de l'éléphant est <liveOO.Soigneur object at 0x000001D131EB7CE0>\n"
     ]
    }
   ],
   "source": [
    "soigneur1.entretenir(dumbo)\n",
    "dumbo.get_info()"
   ]
  },
  {
   "cell_type": "code",
   "execution_count": 5,
   "metadata": {},
   "outputs": [],
   "source": [
    "jean = Elephant()\n",
    "jean.nom = \"Jean\""
   ]
  },
  {
   "cell_type": "code",
   "execution_count": 6,
   "metadata": {},
   "outputs": [
    {
     "data": {
      "text/plain": [
       "[]"
      ]
     },
     "execution_count": 6,
     "metadata": {},
     "output_type": "execute_result"
    }
   ],
   "source": [
    "enclos = Enclos()\n",
    "enclos.liste_animaux"
   ]
  },
  {
   "cell_type": "code",
   "execution_count": 16,
   "metadata": {},
   "outputs": [
    {
     "data": {
      "text/plain": [
       "['Dumbo']"
      ]
     },
     "execution_count": 16,
     "metadata": {},
     "output_type": "execute_result"
    }
   ],
   "source": [
    "enclos.ajouter_animal(dumbo)\n",
    "enclos.liste_animaux"
   ]
  },
  {
   "cell_type": "code",
   "execution_count": 17,
   "metadata": {},
   "outputs": [
    {
     "data": {
      "text/plain": [
       "['Dumbo', 'Pitou']"
      ]
     },
     "execution_count": 17,
     "metadata": {},
     "output_type": "execute_result"
    }
   ],
   "source": [
    "enclos.ajouter_animal(pitou)\n",
    "enclos.liste_animaux"
   ]
  },
  {
   "cell_type": "code",
   "execution_count": 15,
   "metadata": {},
   "outputs": [
    {
     "name": "stdout",
     "output_type": "stream",
     "text": [
      "Il n'y a plus de place dans l'enclos ou Jean est déja dedans\n"
     ]
    },
    {
     "data": {
      "text/plain": [
       "['Jean']"
      ]
     },
     "execution_count": 15,
     "metadata": {},
     "output_type": "execute_result"
    }
   ],
   "source": [
    "enclos.ajouter_animal(jean)\n",
    "enclos.liste_animaux"
   ]
  },
  {
   "cell_type": "code",
   "execution_count": 19,
   "metadata": {},
   "outputs": [
    {
     "name": "stdout",
     "output_type": "stream",
     "text": [
      "Dumbo n'est pas dans l'enclos\n"
     ]
    },
    {
     "data": {
      "text/plain": [
       "['Pitou']"
      ]
     },
     "execution_count": 19,
     "metadata": {},
     "output_type": "execute_result"
    }
   ],
   "source": [
    "enclos.enlever_animal(dumbo)\n",
    "enclos.liste_animaux"
   ]
  }
 ],
 "metadata": {
  "kernelspec": {
   "display_name": "Condaenv",
   "language": "python",
   "name": "python3"
  },
  "language_info": {
   "codemirror_mode": {
    "name": "ipython",
    "version": 3
   },
   "file_extension": ".py",
   "mimetype": "text/x-python",
   "name": "python",
   "nbconvert_exporter": "python",
   "pygments_lexer": "ipython3",
   "version": "3.12.4"
  }
 },
 "nbformat": 4,
 "nbformat_minor": 2
}
