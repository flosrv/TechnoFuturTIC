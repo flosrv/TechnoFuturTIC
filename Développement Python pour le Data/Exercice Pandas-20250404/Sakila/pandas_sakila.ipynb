{
 "cells": [
  {
   "cell_type": "markdown",
   "id": "38563017-9d9c-4f46-a0ed-a36a8063e2d9",
   "metadata": {},
   "source": [
    "# Sakila: bonus pandas\n",
    "\n",
    "## A) Importez l'excel Sakila \n",
    "(ou établir une connexion avec un SQL serveur Sakila, via SQLAlchemy)\n",
    "\n",
    "vous allez utiliser les tables:\n",
    "- actor\n",
    "- film\n",
    "- category\n",
    "\n",
    "- film_actor\n",
    "- film_category   \n",
    "    \n",
    "## B) Repondez au questions suivantes via des manimpulation Pandas \n",
    "#### Bonus : comparez avec des requêtes SQL equivalentes\n",
    "\n",
    "1. Trouvez le numéro d'identification, le prénom et le nom de famille d'un acteur, dont vous ne connaissez que le prénom «William».\n",
    "1. Affichez le prénom et le nom de chaque acteur dans une seule colonne en majuscules. Nommez la colonne Nom de l'acteur.\n",
    "1. Sélectionner les films sauf 'GREASE YOUTH'.\n",
    "2. Trouvez tous les acteurs dont le nom contient les lettres « GEN ».\n",
    "3. Trouvez tous les acteurs dont les noms contiennent les lettres « LI » ou la 3e lettre est « E » . Cette fois, triez les lignes par nom et prénom, dans cet ordre.\n",
    "4. Sélectionner les 5 premières descriptions de films ayant une description contenant le mot \"Woman\".\n",
    "6. Combien y a-t-il de noms de famille d'acteurs distincts?\n",
    "7. Les acteurs ont joué dans quel film ?\n",
    "8. Énumérez les noms de famille des acteurs, ainsi que le nombre d'acteurs qui portent ce nom de famille. Triez et sélectionnez les 5 noms les plus utilisés dans la base de données.\n",
    "9. Lister les noms de famille des acteurs et le nombre d'acteurs qui portent ce nom de famille, mais uniquement pour les noms partagés par au moins deux acteurs.\n",
    "10. Quelle est la durée moyenne des films par catégorie?\n",
    "11. Quels sont les acteurs qui ont déjà joué dans un film d'horreur (catégorie 'Horror’) ?\n",
    "12. Quels sont les acteurs qui ont joué avec Penelope Guiness ?\n",
    "13. Quels sont les acteurs qui ont joué dans toutes les catégories de film ?"
   ]
  },
  {
   "cell_type": "code",
   "execution_count": null,
   "id": "2a0f9a8e-ad2b-4e4b-8b4b-250e7f3c1f8d",
   "metadata": {},
   "outputs": [],
   "source": []
  }
 ],
 "metadata": {
  "kernelspec": {
   "display_name": "Python 3 (ipykernel)",
   "language": "python",
   "name": "python3"
  },
  "language_info": {
   "codemirror_mode": {
    "name": "ipython",
    "version": 3
   },
   "file_extension": ".py",
   "mimetype": "text/x-python",
   "name": "python",
   "nbconvert_exporter": "python",
   "pygments_lexer": "ipython3",
   "version": "3.10.13"
  }
 },
 "nbformat": 4,
 "nbformat_minor": 5
}
