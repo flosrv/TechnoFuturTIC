{
 "cells": [
  {
   "cell_type": "markdown",
   "metadata": {
    "id": "rPIVKXCNPMrs"
   },
   "source": [
    "**<p style = \"text-align:center; font-size:30px\"><u> Exercices de base Numpy</u></p>**"
   ]
  },
  {
   "cell_type": "code",
   "execution_count": 1,
   "metadata": {},
   "outputs": [],
   "source": [
    "import numpy as np"
   ]
  },
  {
   "cell_type": "markdown",
   "metadata": {
    "id": "aDp8NaOTPMru"
   },
   "source": [
    "# Exercice 1\n",
    "\n",
    "- Créez un Numpy array depuis la liste suivante [11.7, 20, 325, 10.2, 11.7, 20]\n",
    "- Remplacez la première occurence de la valeur 11.7 par 5\n",
    "- Remplacez toutes les occurences des valeurs 20 par 0\n",
    "- Calculez la taille (mémoire) du tableau\n",
    "- Modifier le typage en uint8\n",
    "- Calculez la taille du tableau\n",
    "- Observez les valeurs ? Que s'est-il passé ?\n",
    "\n",
    "<br>"
   ]
  },
  {
   "cell_type": "code",
   "execution_count": 2,
   "metadata": {},
   "outputs": [
    {
     "name": "stdout",
     "output_type": "stream",
     "text": [
      "[11.7 11.7]\n",
      "[  5.   20.  325.   10.2  11.7  20. ]\n",
      "[  5.    0.  325.   10.2  11.7   0. ]\n",
      "48\n",
      "------------------------------\n",
      "6\n",
      "[ 5  0 69 10 11  0]\n"
     ]
    }
   ],
   "source": [
    "arr = np.array([11.7, 20, 325, 10.2, 11.7, 20])\n",
    "\n",
    "## version simpliste, car on connait la liste\n",
    "# arr[0] = 5\n",
    "\n",
    "cond = arr == 11.7\n",
    "print(arr[cond])\n",
    "\n",
    "### Ne fonctionne pas/plus\n",
    "arr[cond][0] = 5\n",
    "\n",
    "### Fonctionne\n",
    "first_where_valid = np.argmax(arr == 11.7)\n",
    "arr[first_where_valid] = 5\n",
    "print(arr)\n",
    "\n",
    "## -----\n",
    "\n",
    "### Version compliquée, mais plus générale\n",
    "# i0 = np.argwhere(arr == 11.7) # les pos où la condition est valide\n",
    "# print(i0)\n",
    "# arr[i0[0]] = 0.05\n",
    "# print(arr)\n",
    "\n",
    "arr[arr == 20] = 0 ## Indexation booléenne\n",
    "\n",
    "print(arr)\n",
    "print(arr.nbytes)\n",
    "\n",
    "print(\"-\"*30)\n",
    "\n",
    "## -- modif\n",
    "\n",
    "arr = arr.astype(np.uint8)\n",
    "arr = np.array(arr, dtype = np.uint8)\n",
    "print(arr.nbytes)\n",
    "\n",
    "print(arr)"
   ]
  },
  {
   "cell_type": "code",
   "execution_count": 3,
   "metadata": {},
   "outputs": [
    {
     "data": {
      "text/plain": [
       "array([False,  True, False, False, False,  True])"
      ]
     },
     "execution_count": 3,
     "metadata": {},
     "output_type": "execute_result"
    }
   ],
   "source": [
    "arr == 0"
   ]
  },
  {
   "cell_type": "code",
   "execution_count": 4,
   "metadata": {},
   "outputs": [
    {
     "data": {
      "text/plain": [
       "array([0, 0], dtype=uint8)"
      ]
     },
     "execution_count": 4,
     "metadata": {},
     "output_type": "execute_result"
    }
   ],
   "source": [
    "arr[arr == 0]"
   ]
  },
  {
   "cell_type": "code",
   "execution_count": 5,
   "metadata": {},
   "outputs": [
    {
     "name": "stdout",
     "output_type": "stream",
     "text": [
      "(array([1, 5], dtype=int64),)\n",
      "[[1]\n",
      " [5]]\n"
     ]
    }
   ],
   "source": [
    "arr = np.array([11.7, 20, 325, 10.2, 11.7, 20])\n",
    "print(np.where(arr == 20))\n",
    "\n",
    "print(np.argwhere(arr == 20))"
   ]
  },
  {
   "cell_type": "markdown",
   "metadata": {},
   "source": [
    "Le typage en uint8 implique que le plage des valeurs ne peut s'étendre qu'entre 0 et 255. Toutes valeurs en dehors de cette plage ne génèrent pas d'erreur.\n",
    "\n",
    "Elles sont ramenées entre les deux bornes à l'aide du modulo.\n",
    "\n",
    "<br>"
   ]
  },
  {
   "cell_type": "code",
   "execution_count": 6,
   "metadata": {},
   "outputs": [
    {
     "data": {
      "text/plain": [
       "array([384, 254, 798])"
      ]
     },
     "metadata": {},
     "output_type": "display_data"
    },
    {
     "data": {
      "text/plain": [
       "array([128, 254,  30], dtype=uint8)"
      ]
     },
     "metadata": {},
     "output_type": "display_data"
    },
    {
     "data": {
      "text/plain": [
       "array([128, 254,  30], dtype=int32)"
      ]
     },
     "metadata": {},
     "output_type": "display_data"
    }
   ],
   "source": [
    "arr = np.array([384, 254, 798], dtype = np.int32)\n",
    "display(arr)\n",
    "\n",
    "display(arr.astype(np.uint8))\n",
    "\n",
    "display(arr%256)"
   ]
  },
  {
   "cell_type": "code",
   "execution_count": 7,
   "metadata": {},
   "outputs": [
    {
     "data": {
      "text/plain": [
       "256"
      ]
     },
     "execution_count": 7,
     "metadata": {},
     "output_type": "execute_result"
    }
   ],
   "source": [
    "2**8 # 255 bit => 1111 1111 \n",
    "\n",
    "# 0 = 0000 0000\n",
    "# 1 = 0000 0001\n",
    "# 2 = 0000 0010\n",
    "# 3 = 0000 0011"
   ]
  },
  {
   "cell_type": "markdown",
   "metadata": {},
   "source": [
    "## Indexation booléenne"
   ]
  },
  {
   "cell_type": "markdown",
   "metadata": {},
   "source": [
    "- Soit deux vecteurs représentant les notes (sur 20) en français d'une classe :\n",
    "```py \n",
    "  [10, 15, 2, 10, 8]\n",
    "```\n",
    "\n",
    "```py \n",
    "  [\"Bob\", \"Alice\", \"John\", \"Marie\", \"Pierre\"]\n",
    "```\n",
    "\n",
    "- Affichez les noms des élèves en échec\n",
    "\n",
    "<br>"
   ]
  },
  {
   "cell_type": "code",
   "execution_count": 8,
   "metadata": {},
   "outputs": [],
   "source": [
    "notes = np.array([10, 15, 2, 10, 8])\n",
    "students = np.array([\"Bob\", \"Alice\", \"John\", \"Marie\", \"Pierre\"])"
   ]
  },
  {
   "cell_type": "markdown",
   "metadata": {},
   "source": [
    "### | or, & and"
   ]
  },
  {
   "cell_type": "code",
   "execution_count": 9,
   "metadata": {},
   "outputs": [
    {
     "data": {
      "text/plain": [
       "array(['Bob', 'John', 'Marie', 'Pierre'], dtype='<U6')"
      ]
     },
     "execution_count": 9,
     "metadata": {},
     "output_type": "execute_result"
    }
   ],
   "source": [
    "students[(notes < 10)|(notes == 10)]  ## <= better!"
   ]
  },
  {
   "cell_type": "markdown",
   "metadata": {
    "id": "822o_kAlPMrw"
   },
   "source": [
    "# Exercice 2\n",
    "\n",
    "- Créez un Numpy array depuis la matrice suivante [[1, 2, 3], [4, 5, 6], [7, 8, np.nan]]\n",
    "- Affichez :\n",
    "  - Le type de données de la matrice\n",
    "  - Sa forme\n",
    "  - Son nombre de dimensions\n",
    "  - Son nombre d'éléments\n",
    "  - Depuis la forme, pouvez-vous obtenir le nombre de dimensions et le nombre d'éléments ?\n",
    "- Multipliez la dernière colonne par 5 et divisez la première ligne par 0\n",
    "- Modifiez le typage en *int*. Que se passe-t-il ?\n",
    "\n",
    "<br>"
   ]
  },
  {
   "cell_type": "code",
   "execution_count": 10,
   "metadata": {},
   "outputs": [
    {
     "name": "stdout",
     "output_type": "stream",
     "text": [
      "dtype: float64\n",
      "Shape: (3, 3)\n",
      "ndim: 2\n",
      "Size: 9\n"
     ]
    }
   ],
   "source": [
    "arr = np.array([[1, 2, 3],\n",
    "                [4, 5, 6],\n",
    "                [7, 8, np.nan]])\n",
    "\n",
    "print(f\"dtype: {arr.dtype}\\nShape: {arr.shape}\\nndim: {arr.ndim}\\nSize: {arr.size}\")"
   ]
  },
  {
   "cell_type": "code",
   "execution_count": 11,
   "metadata": {},
   "outputs": [
    {
     "name": "stdout",
     "output_type": "stream",
     "text": [
      "My string 5\n",
      "My string 5\n"
     ]
    }
   ],
   "source": [
    "var = 5\n",
    "s = \"My string \" + str(var)\n",
    "s2 = f\"My string {var}\"\n",
    "print(s)\n",
    "print(s2)"
   ]
  },
  {
   "cell_type": "code",
   "execution_count": 12,
   "metadata": {},
   "outputs": [
    {
     "name": "stdout",
     "output_type": "stream",
     "text": [
      "<class 'float'>\n"
     ]
    },
    {
     "data": {
      "text/plain": [
       "False"
      ]
     },
     "execution_count": 12,
     "metadata": {},
     "output_type": "execute_result"
    }
   ],
   "source": [
    "print(type(np.nan))\n",
    "np.nan is None"
   ]
  },
  {
   "cell_type": "code",
   "execution_count": 14,
   "metadata": {},
   "outputs": [
    {
     "name": "stdout",
     "output_type": "stream",
     "text": [
      "9 9\n"
     ]
    }
   ],
   "source": [
    "ndim = len(arr.shape)\n",
    "size = 1\n",
    "for i in arr.shape:\n",
    "    size *= i\n",
    "\n",
    "size_ = np.prod(arr.shape) # np.product()\n",
    "\n",
    "print(size_, size)"
   ]
  },
  {
   "cell_type": "code",
   "execution_count": 15,
   "metadata": {},
   "outputs": [
    {
     "name": "stdout",
     "output_type": "stream",
     "text": [
      "[[ 1.  2.  3.]\n",
      " [ 4.  5.  6.]\n",
      " [ 7.  8. nan]] \n",
      " ------------------------------\n",
      "[[ 1.  2. 15.]\n",
      " [ 4.  5. 30.]\n",
      " [ 7.  8. nan]]\n",
      "------------------------------\n",
      "[[inf inf inf]\n",
      " [ 4.  5. 30.]\n",
      " [ 7.  8. nan]]\n"
     ]
    },
    {
     "name": "stderr",
     "output_type": "stream",
     "text": [
      "C:\\Users\\waterschoot\\AppData\\Local\\Temp\\ipykernel_16268\\3641412570.py:8: RuntimeWarning: divide by zero encountered in divide\n",
      "  arr[0,:] = arr[0,:] / 0\n"
     ]
    }
   ],
   "source": [
    "print(arr, \"\\n\", \"-\"*30)\n",
    "\n",
    "arr[:, -1] *= 5 # = arr[:, -1] * 5\n",
    "print(arr)\n",
    "\n",
    "print(\"-\"*30)\n",
    "\n",
    "arr[0,:] = arr[0,:] / 0\n",
    "print(arr)"
   ]
  },
  {
   "cell_type": "code",
   "execution_count": 16,
   "metadata": {},
   "outputs": [
    {
     "data": {
      "text/plain": [
       "0.0"
      ]
     },
     "execution_count": 16,
     "metadata": {},
     "output_type": "execute_result"
    }
   ],
   "source": [
    "np.exp(-np.inf)"
   ]
  },
  {
   "cell_type": "markdown",
   "metadata": {
    "jp-MarkdownHeadingCollapsed": true
   },
   "source": [
    "# Warning Numpy"
   ]
  },
  {
   "cell_type": "code",
   "execution_count": 17,
   "metadata": {},
   "outputs": [
    {
     "name": "stdout",
     "output_type": "stream",
     "text": [
      "ignore\n",
      "\n",
      "[       inf 5.         2.5        1.66666667 1.25      ]\n",
      "[nan  1.  1.  1.  1.]\n",
      "------------------------------\n",
      "warn\n",
      "\n",
      "[       inf 5.         2.5        1.66666667 1.25      ]\n",
      "[nan  1.  1.  1.  1.]\n",
      "------------------------------\n",
      "raise\n",
      "\n",
      "[       inf 5.         2.5        1.66666667 1.25      ]\n",
      "[nan  1.  1.  1.  1.]\n",
      "------------------------------\n"
     ]
    },
    {
     "name": "stderr",
     "output_type": "stream",
     "text": [
      "C:\\Users\\waterschoot\\AppData\\Local\\Temp\\ipykernel_16268\\1282759143.py:18: RuntimeWarning: divide by zero encountered in divide\n",
      "  b = 5 / a\n",
      "C:\\Users\\waterschoot\\AppData\\Local\\Temp\\ipykernel_16268\\1282759143.py:20: RuntimeWarning: invalid value encountered in divide\n",
      "  c = a / a\n"
     ]
    }
   ],
   "source": [
    "#----\n",
    "np.seterr(divide = \"ignore\", invalid = \"ignore\")\n",
    "\n",
    "print(\"ignore\\n\")\n",
    "a = np.arange(5)\n",
    "\n",
    "b = 5 / a\n",
    "print(b)\n",
    "c = a / a\n",
    "print(c)\n",
    "\n",
    "print(\"-\"*30)\n",
    "\n",
    "#----\n",
    "\n",
    "np.seterr(divide = \"warn\", invalid = \"warn\")\n",
    "print(\"warn\\n\")\n",
    "b = 5 / a\n",
    "print(b)\n",
    "c = a / a\n",
    "print(c)\n",
    "print(\"-\"*30)\n",
    "\n",
    "#----\n",
    "\n",
    "np.seterr(divide = \"ignore\", invalid = \"raise\")\n",
    "print(\"raise\\n\")\n",
    "b = 5 / a \n",
    "print(b)\n",
    "\n",
    "\"\"\"c = a / a ## raise error\"\"\"\n",
    "\n",
    "print(c)\n",
    "print(\"-\"*30)"
   ]
  },
  {
   "cell_type": "code",
   "execution_count": 18,
   "metadata": {},
   "outputs": [
    {
     "data": {
      "text/plain": [
       "{'divide': 'ignore', 'over': 'warn', 'under': 'ignore', 'invalid': 'raise'}"
      ]
     },
     "execution_count": 18,
     "metadata": {},
     "output_type": "execute_result"
    }
   ],
   "source": [
    "np.seterr(divide = \"warn\", invalid = \"warn\")"
   ]
  },
  {
   "cell_type": "markdown",
   "metadata": {},
   "source": [
    "# End warning"
   ]
  },
  {
   "cell_type": "code",
   "execution_count": 19,
   "metadata": {},
   "outputs": [
    {
     "data": {
      "text/plain": [
       "array([[inf, inf, inf],\n",
       "       [ 4.,  5., 30.],\n",
       "       [ 7.,  8., nan]])"
      ]
     },
     "metadata": {},
     "output_type": "display_data"
    },
    {
     "name": "stdout",
     "output_type": "stream",
     "text": [
      "[[-2147483648 -2147483648 -2147483648]\n",
      " [          4           5          30]\n",
      " [          7           8 -2147483648]]\n"
     ]
    },
    {
     "name": "stderr",
     "output_type": "stream",
     "text": [
      "C:\\Users\\waterschoot\\AppData\\Local\\Temp\\ipykernel_16268\\939719749.py:2: RuntimeWarning: invalid value encountered in cast\n",
      "  arr_ = arr.astype(int)\n"
     ]
    },
    {
     "data": {
      "text/plain": [
       "dtype('int32')"
      ]
     },
     "execution_count": 19,
     "metadata": {},
     "output_type": "execute_result"
    }
   ],
   "source": [
    "display(arr)\n",
    "arr_ = arr.astype(int)\n",
    "print(arr_)\n",
    "arr_.dtype"
   ]
  },
  {
   "cell_type": "code",
   "execution_count": 20,
   "metadata": {},
   "outputs": [
    {
     "name": "stdout",
     "output_type": "stream",
     "text": [
      "[[-2147483648 -2147483648 -2147483648]\n",
      " [          4           5          30]\n",
      " [          7           8 -2147483648]]\n"
     ]
    },
    {
     "name": "stderr",
     "output_type": "stream",
     "text": [
      "C:\\Users\\waterschoot\\AppData\\Local\\Temp\\ipykernel_16268\\4159571076.py:1: RuntimeWarning: invalid value encountered in cast\n",
      "  arr__ = arr.astype(np.int_)\n"
     ]
    },
    {
     "data": {
      "text/plain": [
       "dtype('int32')"
      ]
     },
     "execution_count": 20,
     "metadata": {},
     "output_type": "execute_result"
    }
   ],
   "source": [
    "arr__ = arr.astype(np.int_)\n",
    "print(arr__)\n",
    "arr__.dtype"
   ]
  },
  {
   "cell_type": "markdown",
   "metadata": {},
   "source": [
    "# Exercice 3\n",
    "\n",
    "1. Créez la matrice suivante dans la variable x1 :\n",
    "```py\n",
    "      [[10, 20, 30],\n",
    "       [40, 50, 60],\n",
    "       [70, 80, 90]]\n",
    "```\n",
    "\n",
    "2. Extrayez une partie de x1 dans la variable x2\n",
    "```py\n",
    "      [[50, 60],\n",
    "       [80, 90]]\n",
    "```\n",
    "\n",
    "3. Remplacez le 50 de x2 par 99\n",
    "4. Réaffichez x1"
   ]
  },
  {
   "cell_type": "code",
   "execution_count": 21,
   "metadata": {},
   "outputs": [
    {
     "data": {
      "text/plain": [
       "array([10, 20, 30, 40, 50, 60, 70, 80, 90])"
      ]
     },
     "execution_count": 21,
     "metadata": {},
     "output_type": "execute_result"
    }
   ],
   "source": [
    "np.arange(10,100,10)"
   ]
  },
  {
   "cell_type": "code",
   "execution_count": 22,
   "metadata": {},
   "outputs": [
    {
     "name": "stdout",
     "output_type": "stream",
     "text": [
      "[[10 20 30]\n",
      " [40 50 60]\n",
      " [70 80 90]]\n",
      "------------------------------\n",
      "[[50 60]\n",
      " [80 90]]\n",
      "------------------------------\n",
      "[[99 60]\n",
      " [80 90]]\n",
      "------------------------------\n",
      "[[10 20 30]\n",
      " [40 99 60]\n",
      " [70 80 90]]\n"
     ]
    }
   ],
   "source": [
    "x1 = np.arange(10,100,10).reshape(3,3)\n",
    "print(x1)\n",
    "\n",
    "print(\"-\"*30)\n",
    "\n",
    "x2 = x1[1:,1:] ## une vue: fait référence au même objet\n",
    "print(x2)\n",
    "\n",
    "print(\"-\"*30)\n",
    "\n",
    "x2[0,0] = 99\n",
    "print(x2)\n",
    "\n",
    "print(\"-\"*30)\n",
    "\n",
    "print(x1)"
   ]
  },
  {
   "cell_type": "markdown",
   "metadata": {},
   "source": [
    "# Exercice 4\n",
    "\n",
    "1. Créez la matrice suivante dans la variable x3\n",
    "```py\n",
    "      [[10, 20, 30],\n",
    "       [40, 50, 60],\n",
    "       [70, 80, 90]]\n",
    "```\n",
    "\n",
    "2. Extrayez __une copie__ d'une partie de x3 dans la variable x4\n",
    "```py\n",
    "      [[50, 60],\n",
    "       [80, 90]]\n",
    "```\n",
    "\n",
    "3. Remplacez le 50 de x4 par 99\n",
    "4. Réaffichez x3"
   ]
  },
  {
   "cell_type": "code",
   "execution_count": 23,
   "metadata": {},
   "outputs": [
    {
     "name": "stdout",
     "output_type": "stream",
     "text": [
      "[[10 20 30]\n",
      " [40 50 60]\n",
      " [70 80 90]]\n",
      "------------------------------\n",
      "[[50 60]\n",
      " [80 90]]\n",
      "------------------------------\n",
      "[[99 60]\n",
      " [80 90]]\n",
      "------------------------------\n",
      "[[10 20 30]\n",
      " [40 50 60]\n",
      " [70 80 90]]\n"
     ]
    }
   ],
   "source": [
    "x3 = np.arange(10,100,10).reshape(3,3)\n",
    "print(x3)\n",
    "\n",
    "print(\"-\"*30)\n",
    "# From copy import deepcopy ## Pas nécéssaire\n",
    "\n",
    "x4 = x3[1:,1:].copy()\n",
    "print(x4)\n",
    "\n",
    "print(\"-\"*30)\n",
    "\n",
    "x4[0,0] = 99\n",
    "print(x4)\n",
    "\n",
    "print(\"-\"*30)\n",
    "\n",
    "print(x3)"
   ]
  },
  {
   "cell_type": "markdown",
   "metadata": {
    "id": "_dh3U5u1PMry"
   },
   "source": [
    "# Exercice 5\n",
    "\n",
    "- Créez une matrice (4 * 4) remplie de valeurs aléatoires comprises entre 2 et 8\n",
    "- Créez un matrice d'identité (*i.e.* une matrice carrée dont la diagonale descendante principale est remplie de 1 et le reste = 0). Proposez plusieurs solutions.\n",
    "- Créez une matrice dont la diagonale principale sera remplie de 6 valeurs aléatoires. Proposez plusieurs solutions.\n",
    "\n",
    "(Tips : \"zeros\", \"identity\", \"fill_diagonal\")\n",
    "<br>"
   ]
  },
  {
   "cell_type": "code",
   "execution_count": 24,
   "metadata": {},
   "outputs": [
    {
     "name": "stdout",
     "output_type": "stream",
     "text": [
      "[[3 2 2 5]\n",
      " [5 3 8 3]\n",
      " [8 5 2 4]\n",
      " [8 2 6 4]]\n",
      "------------------------------\n"
     ]
    }
   ],
   "source": [
    "arr = np.random.randint(2, 9, (4, 4))\n",
    "print(arr)\n",
    "\n",
    "print(\"-\"*30)"
   ]
  },
  {
   "cell_type": "code",
   "execution_count": 25,
   "metadata": {},
   "outputs": [
    {
     "data": {
      "text/plain": [
       "array([[1, 0, 0, 0, 0],\n",
       "       [0, 1, 0, 0, 0],\n",
       "       [0, 0, 1, 0, 0],\n",
       "       [0, 0, 0, 1, 0],\n",
       "       [0, 0, 0, 0, 1]])"
      ]
     },
     "execution_count": 25,
     "metadata": {},
     "output_type": "execute_result"
    }
   ],
   "source": [
    "## diag v0\n",
    "identity = np.zeros((5, 5), dtype = np.int32)\n",
    "\n",
    "for i in range(identity.shape[0]):\n",
    "    identity[i, i] = 1\n",
    "\n",
    "identity"
   ]
  },
  {
   "cell_type": "code",
   "execution_count": 26,
   "metadata": {},
   "outputs": [
    {
     "data": {
      "text/plain": [
       "array([[1, 0, 0, 0, 0],\n",
       "       [0, 1, 0, 0, 0],\n",
       "       [0, 0, 1, 0, 0],\n",
       "       [0, 0, 0, 1, 0],\n",
       "       [0, 0, 0, 0, 1]])"
      ]
     },
     "execution_count": 26,
     "metadata": {},
     "output_type": "execute_result"
    }
   ],
   "source": [
    "## diag v1\n",
    "identity = np.zeros((5, 5), dtype = np.int32)\n",
    "# np.fill_diagonal does not return a view\n",
    "\n",
    "np.fill_diagonal(identity, 1)\n",
    "\n",
    "identity"
   ]
  },
  {
   "cell_type": "code",
   "execution_count": 27,
   "metadata": {},
   "outputs": [
    {
     "data": {
      "text/plain": [
       "array([[1, 0, 0, 0, 0],\n",
       "       [0, 1, 0, 0, 0],\n",
       "       [0, 0, 1, 0, 0],\n",
       "       [0, 0, 0, 1, 0],\n",
       "       [0, 0, 0, 0, 1]])"
      ]
     },
     "execution_count": 27,
     "metadata": {},
     "output_type": "execute_result"
    }
   ],
   "source": [
    "## diag v2\n",
    "## much faster\n",
    "np.identity(5, dtype = np.int32)"
   ]
  },
  {
   "cell_type": "code",
   "execution_count": 28,
   "metadata": {},
   "outputs": [
    {
     "data": {
      "text/plain": [
       "array([[ 3,  0,  0,  0,  0,  0],\n",
       "       [ 0,  9,  0,  0,  0,  0],\n",
       "       [ 0,  0, 13,  0,  0,  0],\n",
       "       [ 0,  0,  0, 10,  0,  0],\n",
       "       [ 0,  0,  0,  0,  5,  0],\n",
       "       [ 0,  0,  0,  0,  0, 13]])"
      ]
     },
     "execution_count": 28,
     "metadata": {},
     "output_type": "execute_result"
    }
   ],
   "source": [
    "size = 6\n",
    "diag = np.random.randint(0, 20, 6)\n",
    "arr = np.zeros((size, size), dtype = np.int32)\n",
    "\n",
    "for idx, val in enumerate(diag):\n",
    "    arr[idx, idx] = val\n",
    "arr"
   ]
  },
  {
   "cell_type": "code",
   "execution_count": 29,
   "metadata": {},
   "outputs": [
    {
     "data": {
      "text/plain": [
       "array([[ 0,  0,  0,  0,  0,  0],\n",
       "       [ 0, 15,  0,  0,  0,  0],\n",
       "       [ 0,  0,  4,  0,  0,  0],\n",
       "       [ 0,  0,  0,  2,  0,  0],\n",
       "       [ 0,  0,  0,  0, 11,  0],\n",
       "       [ 0,  0,  0,  0,  0, 17]])"
      ]
     },
     "execution_count": 29,
     "metadata": {},
     "output_type": "execute_result"
    }
   ],
   "source": [
    "size = 6\n",
    "diag = np.random.randint(0, 20, 6)\n",
    "arr = np.zeros((size, size), dtype = np.int32)\n",
    "\n",
    "np.fill_diagonal(arr, diag)\n",
    "arr"
   ]
  },
  {
   "cell_type": "markdown",
   "metadata": {
    "id": "Ifr5eMoKPMrz"
   },
   "source": [
    "# Exercice 6\n",
    "\n",
    "- Reproduisez la matrice suivante (sans les noms de lignes ou colonnes)\n",
    "\n",
    "<table border = \"1\" class = \"dataframe\">\n",
    "  <thead>\n",
    "    <tr style = \"text-align: right;\">\n",
    "      <th></th>\n",
    "      <th>pâtes</th>\n",
    "      <th>légumes</th>\n",
    "      <th>divers</th>\n",
    "    </tr>\n",
    "  </thead>\n",
    "  <tbody>\n",
    "    <tr>\n",
    "      <th>bob</th>\n",
    "      <td>10€</td>\n",
    "      <td>30€</td>\n",
    "      <td>5€</td>\n",
    "    </tr>\n",
    "    <tr>\n",
    "      <th>alice</th>\n",
    "      <td>20€</td>\n",
    "      <td>50€</td>\n",
    "      <td>1€</td>\n",
    "    </tr>\n",
    "    <tr>\n",
    "      <th>john</th>\n",
    "      <td>15€</td>\n",
    "      <td>30€</td>\n",
    "      <td>NaN</td>\n",
    "    </tr>\n",
    "  </tbody>\n",
    "</table>\n",
    "\n",
    "- Affichez le montant total des achats\n",
    "- Affichez les totaux des achats par personne\n",
    "- Affichez les moyennes des achats par type d'aliments\n",
    "\n",
    "<br>"
   ]
  },
  {
   "cell_type": "code",
   "execution_count": 30,
   "metadata": {},
   "outputs": [
    {
     "name": "stdout",
     "output_type": "stream",
     "text": [
      "[[10. 30.  5.]\n",
      " [20. 50.  1.]\n",
      " [15. 30. nan]]\n",
      "------------------------------\n",
      "sum nan\n",
      "nansum 161.0\n",
      "------------------------------\n",
      "sum oo nan\n",
      "------------------------------\n"
     ]
    }
   ],
   "source": [
    "arr = np.array([\n",
    "    [10, 30, 5],\n",
    "    [20, 50, 1],\n",
    "    [15, 30, np.nan]\n",
    "])\n",
    "\n",
    "## Affichez le montant total des achats\n",
    "print(arr)\n",
    "print(\"-\"*30)\n",
    "print(\"sum\", np.sum(arr)) # Version fonction: nan-sensitive\n",
    "print(\"nansum\", np.nansum(arr)) # Version fonction: nan-safe\n",
    "print(\"-\"*30)\n",
    "print(\"sum oo\", arr.sum()) # Version OO : nan-sensitive\n",
    "\n",
    "print(\"-\"*30)"
   ]
  },
  {
   "cell_type": "markdown",
   "metadata": {},
   "source": [
    "### x == np.nan ==> np.isnan(x)\n",
    "\n",
    "Il faut absolument utiliser la fonction np.isnan pour identifier les nan dans un Numpy array et les modifier.\n",
    "\n",
    "Autrement dit, la solution suivante ne fonctionne pas:\n",
    "\n",
    "```py\n",
    "arr[arr == np.nan]\n",
    "```\n",
    "\n",
    "<br>"
   ]
  },
  {
   "cell_type": "code",
   "execution_count": 31,
   "metadata": {},
   "outputs": [
    {
     "name": "stdout",
     "output_type": "stream",
     "text": [
      "[[False False False]\n",
      " [False False False]\n",
      " [False False  True]]\n",
      "------------------------------\n",
      "[[10. 30.  5.]\n",
      " [20. 50.  1.]\n",
      " [15. 30.  0.]]\n",
      "------------------------------\n",
      "161.0\n"
     ]
    }
   ],
   "source": [
    "### Ici on aurait voulu remplacer les \"nan\" par \"0\"\n",
    "print(np.isnan(arr)) ## J'ai besoin de np.isnan()\n",
    "print(\"-\"*30)\n",
    "arr_ = arr.copy() \n",
    "arr_[np.isnan(arr_)] = 0 # Indexation booléenne (Vrai/Faux)\n",
    "# Changer toutes les valeurs, WHERE isnan == True\n",
    "\n",
    "print(arr_)\n",
    "print(\"-\"*30)\n",
    "print(arr_.sum())"
   ]
  },
  {
   "cell_type": "code",
   "execution_count": 32,
   "metadata": {},
   "outputs": [
    {
     "name": "stdout",
     "output_type": "stream",
     "text": [
      "nan-sensitive\n",
      "[45. 71. nan]\n",
      "[15.         36.66666667         nan]\n",
      "------------------------------\n",
      "[[10. 30.  5.]\n",
      " [20. 50.  1.]\n",
      " [15. 30. nan]]\n",
      "------------------------------\n",
      "nan-safe\n",
      "[[45.]\n",
      " [71.]\n",
      " [45.]]\n",
      "[[15.         36.66666667  3.        ]]\n"
     ]
    }
   ],
   "source": [
    "\"\"\"\n",
    "Affichez les totaux des achats par personne\n",
    "\n",
    "Affichez les moyennes des achats par type d'aliments\n",
    "\"\"\"\n",
    "\n",
    "print(\"nan-sensitive\")\n",
    "print(np.sum(arr, axis = 1)) #aggr. sur l'axe = 1 : résultat par personne\n",
    "print(np.mean(arr, axis = 0)) #aggr. sur l'axe = 0 : résultat par produit\n",
    "print(\"-\"*30)\n",
    "print(arr)\n",
    "print(\"-\"*30)\n",
    "print(\"nan-safe\")\n",
    "print((np.nansum(arr, axis = 1, keepdims = True)))# .reshape(3,1)) #aggr. sur l'axe = 1 : résultat par personne\n",
    "print((np.nanmean(arr, axis = 0)).reshape(1,3)) # aggr. sur l'axe = 0 : résultat par produit"
   ]
  },
  {
   "cell_type": "code",
   "execution_count": 33,
   "metadata": {},
   "outputs": [
    {
     "name": "stdout",
     "output_type": "stream",
     "text": [
      "[45. 71. nan]\n"
     ]
    }
   ],
   "source": [
    "### Einstein Summation\n",
    "### Affichez les totaux des achats par personne\n",
    "\n",
    "arr2 = np.einsum('ij->i', arr)\n",
    "print(arr2)"
   ]
  },
  {
   "cell_type": "code",
   "execution_count": 34,
   "metadata": {},
   "outputs": [
    {
     "name": "stdout",
     "output_type": "stream",
     "text": [
      "[ 45. 110.  nan]\n"
     ]
    }
   ],
   "source": [
    "### Affichez les moyennes des achats par type d'aliments\n",
    "arr2 = np.einsum('ij->j', arr)\n",
    "print(arr2)"
   ]
  },
  {
   "cell_type": "code",
   "execution_count": 34,
   "metadata": {},
   "outputs": [],
   "source": [
    "## Version algo: à éviter, \n",
    "## utiliser de préférence les fonctions des librairies/modules (= optimisées)"
   ]
  },
  {
   "cell_type": "code",
   "execution_count": 35,
   "metadata": {},
   "outputs": [
    {
     "name": "stdout",
     "output_type": "stream",
     "text": [
      "[45. 71. nan]\n"
     ]
    }
   ],
   "source": [
    "### Affichez les totaux des achats par personne\n",
    "somme_pers = np.zeros(3) ### Initialisation de la structure (avec valeur = 0)\n",
    "                         ### [\"Bob\", \"Alice\", \"John\"]\n",
    "for j in range(3): ## Itérer sur chaque colonne\n",
    "    somme_pers += arr[:,j] ## Somme des valeurs de la colonne pour Bob, Alice, John\n",
    "print(somme_pers)"
   ]
  },
  {
   "cell_type": "code",
   "execution_count": 36,
   "metadata": {},
   "outputs": [
    {
     "data": {
      "text/plain": [
       "array([0., 0., 0.])"
      ]
     },
     "execution_count": 36,
     "metadata": {},
     "output_type": "execute_result"
    }
   ],
   "source": [
    "np.zeros(3)"
   ]
  },
  {
   "cell_type": "code",
   "execution_count": 37,
   "metadata": {},
   "outputs": [
    {
     "name": "stdout",
     "output_type": "stream",
     "text": [
      "45.0\n",
      "71.0\n",
      "45.0\n"
     ]
    }
   ],
   "source": [
    "for i in range(3):\n",
    "    print(np.nansum(arr[i,:]))"
   ]
  },
  {
   "cell_type": "markdown",
   "metadata": {},
   "source": [
    "# Exercice 7\n",
    "\n",
    "Cette fois-ci nous avons les quantités achetées ainsi que le prix unitaire pour chacun des éléments\n",
    "\n",
    "<table border = \"1\" class = \"dataframe\">\n",
    "  <thead>\n",
    "    <tr style = \"text-align: right;\">\n",
    "      <th></th>\n",
    "      <th>pâtes</th>\n",
    "      <th>légumes</th>\n",
    "      <th>divers</th>\n",
    "    </tr>\n",
    "  </thead>\n",
    "  <tbody>\n",
    "    <tr>\n",
    "      <th>bob</th>\n",
    "      <td>1</td>\n",
    "      <td>4</td>\n",
    "      <td>2</td>\n",
    "    </tr>\n",
    "    <tr>\n",
    "      <th>alice</th>\n",
    "      <td>3</td>\n",
    "      <td>5</td>\n",
    "      <td>7</td>\n",
    "    </tr>\n",
    "    <tr>\n",
    "      <th>john</th>\n",
    "      <td>5</td>\n",
    "      <td>4</td>\n",
    "      <td>4</td>\n",
    "    </tr>\n",
    "  </tbody>\n",
    "</table>\n",
    "\n",
    "```py\n",
    "[20, 5, 3]\n",
    "```\n",
    "\n",
    "- Calculez le montant total par personne\n",
    "- Calculez le montant total par produit\n",
    "\n",
    "<br>"
   ]
  },
  {
   "cell_type": "code",
   "execution_count": 38,
   "metadata": {},
   "outputs": [
    {
     "data": {
      "text/plain": [
       "array([ 46, 106, 132])"
      ]
     },
     "execution_count": 38,
     "metadata": {},
     "output_type": "execute_result"
    }
   ],
   "source": [
    "# Par personne\n",
    "arr = np.array([\n",
    "    [1, 4, 2],\n",
    "    [3, 5, 7],\n",
    "    [5, 4, 4]\n",
    "])\n",
    "\n",
    "price = np.array([20, 5, 3])\n",
    "\n",
    "## Produit (interieur / inner) matriciel: \n",
    "np.dot(arr, price)"
   ]
  },
  {
   "cell_type": "code",
   "execution_count": 39,
   "metadata": {},
   "outputs": [
    {
     "name": "stdout",
     "output_type": "stream",
     "text": [
      "[[ 20  20   6]\n",
      " [ 60  25  21]\n",
      " [100  20  12]]\n",
      "--------------------------------------------------\n",
      "[ 46 106 132]\n"
     ]
    }
   ],
   "source": [
    "# Slower\n",
    "## Produit matriciel\n",
    "print(arr * price)\n",
    "print(\"-\"*50)\n",
    "print((arr * price).sum(axis = -1)) # axis = -1 : dernier axe"
   ]
  },
  {
   "cell_type": "code",
   "execution_count": 40,
   "metadata": {},
   "outputs": [
    {
     "name": "stdout",
     "output_type": "stream",
     "text": [
      "[[ 20  20   6]\n",
      " [ 60  25  21]\n",
      " [100  20  12]]\n",
      "--------------------------------------------------\n",
      "[180  65  39]\n"
     ]
    },
    {
     "data": {
      "text/plain": [
       "array([180,  65,  39])"
      ]
     },
     "execution_count": 40,
     "metadata": {},
     "output_type": "execute_result"
    }
   ],
   "source": [
    "# Par produit\n",
    "\n",
    "print(arr * price)\n",
    "print(\"-\"*50)\n",
    "print((arr * price).sum(axis = 0)) # axis = -1 : dernier axe\n",
    "\n",
    "## Produit matriciel avec \"Einstein summation\"\n",
    "# np.einsum(\"i, ji->i\", price, arr)\n",
    "np.einsum(\"ij, j->j\", arr, price)"
   ]
  }
 ],
 "metadata": {
  "colab": {
   "provenance": []
  },
  "kernelspec": {
   "display_name": "Python 3",
   "language": "python",
   "name": "python3"
  },
  "language_info": {
   "codemirror_mode": {
    "name": "ipython",
    "version": 3
   },
   "file_extension": ".py",
   "mimetype": "text/x-python",
   "name": "python",
   "nbconvert_exporter": "python",
   "pygments_lexer": "ipython3",
   "version": "3.12.0"
  }
 },
 "nbformat": 4,
 "nbformat_minor": 4
}
