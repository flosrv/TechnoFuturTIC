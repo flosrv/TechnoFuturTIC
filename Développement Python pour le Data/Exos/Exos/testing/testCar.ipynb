{
 "cells": [
  {
   "cell_type": "code",
   "execution_count": null,
   "metadata": {},
   "outputs": [],
   "source": [
    "class Car:\n",
    "    _marque = \"\"\n",
    "    _model = \"\"\n",
    "    _annee = 0\n",
    "\n",
    "    def __eq__(self, other):\n",
    "        return self._marque == other._marque and self._model == other._model and self._année == self._annee\n",
    "\n",
    "    def __ne__(self, other):\n",
    "        return not self == other\n",
    "\n",
    "    def __lt__(self, other): \n",
    "        if self._annee != other._annee:\n",
    "            return self._annee < other._annee\n",
    "        elif self._marque != other._marque:\n",
    "            return self._marque < other._marque\n",
    "        elif self._model != other._model:\n",
    "            return self._model < other._model\n",
    "\n",
    "    def __le__(self,other):\n",
    "        return self < other or self == other\n",
    "    \n",
    "    def __gt__(self,other):\n",
    "        return not ( self <= other )\n",
    "    \n",
    "    def __ge__(self,other):\n",
    "        return not self < other\n"
   ]
  },
  {
   "cell_type": "code",
   "execution_count": 4,
   "metadata": {},
   "outputs": [
    {
     "name": "stdout",
     "output_type": "stream",
     "text": [
      "False\n",
      "True\n",
      "True\n",
      "False\n",
      "True\n",
      "False\n"
     ]
    }
   ],
   "source": [
    "car1 = Car()\n",
    "car1._annee = 2020\n",
    "car1._marque = \"Toyota\"\n",
    "car1._model = \"Camry\"\n",
    "\n",
    "car2 = Car()\n",
    "car2._annee = 2019\n",
    "car2._marque = \"Honda\"\n",
    "car2._model = \"Accord\"\n",
    "\n",
    "car3 = Car()\n",
    "car3._annee = 2020\n",
    "car3._marque = \"Toyota\"\n",
    "car3._model = \"Corolla\"\n",
    "\n",
    "\n",
    "print(car1 == car2)\n",
    "print(car1 != car2)\n",
    "print(car1 < car2)\n",
    "print(car1 > car2)\n",
    "print(car1 <= car3)\n",
    "print(car2 >= car3)"
   ]
  }
 ],
 "metadata": {
  "kernelspec": {
   "display_name": "envCondaKeras",
   "language": "python",
   "name": "python3"
  },
  "language_info": {
   "codemirror_mode": {
    "name": "ipython",
    "version": 3
   },
   "file_extension": ".py",
   "mimetype": "text/x-python",
   "name": "python",
   "nbconvert_exporter": "python",
   "pygments_lexer": "ipython3",
   "version": "3.12.3"
  }
 },
 "nbformat": 4,
 "nbformat_minor": 2
}
