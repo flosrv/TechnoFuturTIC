{
 "cells": [
  {
   "cell_type": "code",
   "execution_count": 1,
   "metadata": {},
   "outputs": [],
   "source": [
    "\n",
    "from girafe import Girafe\n",
    "from elephant import Elephant\n",
    "from soigneur import Soigneur\n",
    "from enclos import Enclos   \n",
    "\n",
    "from outils import Outils"
   ]
  },
  {
   "cell_type": "code",
   "execution_count": 2,
   "metadata": {},
   "outputs": [
    {
     "ename": "TypeError",
     "evalue": "Animal.__init__() takes 1 positional argument but 2 were given",
     "output_type": "error",
     "traceback": [
      "\u001b[1;31m---------------------------------------------------------------------------\u001b[0m",
      "\u001b[1;31mTypeError\u001b[0m                                 Traceback (most recent call last)",
      "Cell \u001b[1;32mIn[2], line 4\u001b[0m\n\u001b[0;32m      2\u001b[0m Dumbo \u001b[38;5;241m=\u001b[39m Elephant(\u001b[38;5;124m\"\u001b[39m\u001b[38;5;124mFifi\u001b[39m\u001b[38;5;124m\"\u001b[39m)\n\u001b[0;32m      3\u001b[0m MyEnclos\u001b[38;5;241m.\u001b[39majouter_animal(Dumbo)\n\u001b[1;32m----> 4\u001b[0m LongCou \u001b[38;5;241m=\u001b[39m \u001b[43mGirafe\u001b[49m\u001b[43m(\u001b[49m\u001b[38;5;124;43m\"\u001b[39;49m\u001b[38;5;124;43mLong cou\u001b[39;49m\u001b[38;5;124;43m\"\u001b[39;49m\u001b[43m)\u001b[49m\n\u001b[0;32m      5\u001b[0m MyEnclos\u001b[38;5;241m.\u001b[39majouter_animal(LongCou)\n\u001b[0;32m      7\u001b[0m \u001b[38;5;28mprint\u001b[39m(LongCou\u001b[38;5;241m.\u001b[39mget_info())\n",
      "File \u001b[1;32mc:\\Users\\BStorm\\Desktop\\BStorm\\Formation\\TF - DataEngineer\\Exos\\girafe.py:23\u001b[0m, in \u001b[0;36mGirafe.__init__\u001b[1;34m(self, nom)\u001b[0m\n\u001b[0;32m     22\u001b[0m \u001b[38;5;28;01mdef\u001b[39;00m \u001b[38;5;21m__init__\u001b[39m(\u001b[38;5;28mself\u001b[39m, nom):\n\u001b[1;32m---> 23\u001b[0m     \u001b[38;5;28;43msuper\u001b[39;49m\u001b[43m(\u001b[49m\u001b[43m)\u001b[49m\u001b[38;5;241;43m.\u001b[39;49m\u001b[38;5;21;43m__init__\u001b[39;49m\u001b[43m(\u001b[49m\u001b[43mnom\u001b[49m\u001b[43m)\u001b[49m\n\u001b[0;32m     24\u001b[0m     \u001b[38;5;28mself\u001b[39m\u001b[38;5;241m.\u001b[39m_nom \u001b[38;5;241m=\u001b[39m \u001b[38;5;124m\"\u001b[39m\u001b[38;5;124mGirafe\u001b[39m\u001b[38;5;124m\"\u001b[39m\n",
      "\u001b[1;31mTypeError\u001b[0m: Animal.__init__() takes 1 positional argument but 2 were given"
     ]
    }
   ],
   "source": [
    "MyEnclos = Enclos()\n",
    "Dumbo = Elephant(\"Fifi\")\n",
    "MyEnclos.ajouter_animal(Dumbo)\n",
    "LongCou = Girafe(\"Long cou\")\n",
    "MyEnclos.ajouter_animal(LongCou)\n",
    "\n",
    "print(LongCou.get_info())"
   ]
  },
  {
   "cell_type": "code",
   "execution_count": null,
   "metadata": {},
   "outputs": [
    {
     "name": "stdout",
     "output_type": "stream",
     "text": [
      "La girafe mange\n",
      "le nom de l'animal est Long cou\n",
      "l'appetit de l'animal est 90\n",
      "la satisfaction de l'animal est 10\n",
      "l'état de l'animal est True\n",
      "le soigneur de l'animal est None\n",
      "None\n"
     ]
    }
   ],
   "source": [
    "LongCou.manger()\n",
    "print(LongCou.get_info())"
   ]
  },
  {
   "cell_type": "code",
   "execution_count": null,
   "metadata": {},
   "outputs": [
    {
     "data": {
      "text/plain": [
       "39"
      ]
     },
     "execution_count": 4,
     "metadata": {},
     "output_type": "execute_result"
    }
   ],
   "source": [
    "MySoigneur = Soigneur()\n",
    "MySoigneur.age"
   ]
  },
  {
   "cell_type": "code",
   "execution_count": null,
   "metadata": {},
   "outputs": [
    {
     "name": "stdout",
     "output_type": "stream",
     "text": [
      "La girafe observe son environnement\n",
      "L'éléphant observe son environnement\n"
     ]
    }
   ],
   "source": [
    "LongCou.observer_environnements()\n",
    "Dumbo.observer_environnements()"
   ]
  },
  {
   "cell_type": "code",
   "execution_count": null,
   "metadata": {},
   "outputs": [
    {
     "name": "stdout",
     "output_type": "stream",
     "text": [
      "La girafe boit de l'eau\n",
      "La girafe mange des feuilles\n",
      "La girafe mange des feuilles\n",
      "L'animal existe\n",
      "L'animal existe\n"
     ]
    }
   ],
   "source": [
    "LongCou.comportement_hasard()\n",
    "Outils.pause(5)\n",
    "LongCou.comportement_hasard()\n",
    "Outils.pause(2)\n",
    "Outils.clear_console()\n",
    "Outils.pause(2)\n",
    "LongCou.comportement_hasard()\n",
    "LongCou.comportement_hasard()\n",
    "LongCou.comportement_hasard()"
   ]
  },
  {
   "cell_type": "code",
   "execution_count": null,
   "metadata": {},
   "outputs": [],
   "source": [
    "MyEnclos.enlever_animal(Dumbo)"
   ]
  }
 ],
 "metadata": {
  "kernelspec": {
   "display_name": "envCondaKeras",
   "language": "python",
   "name": "python3"
  },
  "language_info": {
   "codemirror_mode": {
    "name": "ipython",
    "version": 3
   },
   "file_extension": ".py",
   "mimetype": "text/x-python",
   "name": "python",
   "nbconvert_exporter": "python",
   "pygments_lexer": "ipython3",
   "version": "3.12.3"
  }
 },
 "nbformat": 4,
 "nbformat_minor": 2
}
