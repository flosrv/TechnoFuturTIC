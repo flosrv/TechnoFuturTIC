{
 "cells": [
  {
   "cell_type": "code",
   "execution_count": 1,
   "metadata": {},
   "outputs": [],
   "source": [
    "\n",
    "from girafe import Girafe\n",
    "from elephant import Elephant\n",
    "from soigneur import Soigneur\n",
    "from enclos import Enclos   \n",
    "\n",
    "from outils import Outils"
   ]
  },
  {
   "cell_type": "code",
   "execution_count": 2,
   "metadata": {},
   "outputs": [
    {
     "name": "stdout",
     "output_type": "stream",
     "text": [
      "Il n'y a plus de place dans l'enclos ou Long cou est déja dedans\n",
      "le nom de l'animal est Long cou\n",
      "l'appetit de l'animal est 100\n",
      "la satisfaction de l'animal est 0\n",
      "l'état de l'animal est True\n",
      "le soigneur de l'animal est None\n",
      "None\n"
     ]
    }
   ],
   "source": [
    "MyEnclos = Enclos()\n",
    "Dumbo = Elephant(\"Dumbo 2\")\n",
    "MyEnclos.ajouter_animal(Dumbo)\n",
    "Default = Elephant()\n",
    "Default.init()\n",
    "MyEnclos.ajouter_animal(Default)\n",
    "LongCou = Girafe(\"Long cou\")\n",
    "MyEnclos.ajouter_animal(LongCou)\n",
    "\n",
    "print(LongCou.get_info())"
   ]
  },
  {
   "cell_type": "code",
   "execution_count": 3,
   "metadata": {},
   "outputs": [
    {
     "name": "stdout",
     "output_type": "stream",
     "text": [
      "La girafe mange\n",
      "le nom de l'animal est Long cou\n",
      "l'appetit de l'animal est 90\n",
      "la satisfaction de l'animal est 10\n",
      "l'état de l'animal est True\n",
      "le soigneur de l'animal est None\n",
      "None\n"
     ]
    }
   ],
   "source": [
    "LongCou.manger()\n",
    "print(LongCou.get_info())"
   ]
  },
  {
   "cell_type": "code",
   "execution_count": 4,
   "metadata": {},
   "outputs": [
    {
     "data": {
      "text/plain": [
       "39"
      ]
     },
     "execution_count": 4,
     "metadata": {},
     "output_type": "execute_result"
    }
   ],
   "source": [
    "MySoigneur = Soigneur()\n",
    "MySoigneur.age"
   ]
  },
  {
   "cell_type": "code",
   "execution_count": 5,
   "metadata": {},
   "outputs": [
    {
     "name": "stdout",
     "output_type": "stream",
     "text": [
      "La girafe observe son environnement\n",
      "L'éléphant observe son environnement\n"
     ]
    }
   ],
   "source": [
    "LongCou.observer_environnements()\n",
    "Dumbo.observer_environnements()"
   ]
  },
  {
   "cell_type": "code",
   "execution_count": 6,
   "metadata": {},
   "outputs": [
    {
     "name": "stdout",
     "output_type": "stream",
     "text": [
      "La girafe mange des feuilles\n",
      "La girafe boit de l'eau\n",
      "L'animal existe\n",
      "L'animal existe\n",
      "L'animal existe\n"
     ]
    }
   ],
   "source": [
    "LongCou.comportement_hasard()\n",
    "Outils.pause(5)\n",
    "LongCou.comportement_hasard()\n",
    "Outils.pause(2)\n",
    "Outils.clear_console()\n",
    "Outils.pause(2)\n",
    "LongCou.comportement_hasard()\n",
    "LongCou.comportement_hasard()\n",
    "LongCou.comportement_hasard()"
   ]
  },
  {
   "cell_type": "code",
   "execution_count": 7,
   "metadata": {},
   "outputs": [
    {
     "name": "stdout",
     "output_type": "stream",
     "text": [
      "Dumbo\n",
      "Long cou\n",
      "Dumbo 2\n",
      "False\n"
     ]
    }
   ],
   "source": [
    "print(Default.nom)\n",
    "print(LongCou.nom)\n",
    "print(Dumbo.nom)\n",
    "print(Default._en_vie)"
   ]
  },
  {
   "cell_type": "code",
   "execution_count": null,
   "metadata": {},
   "outputs": [
    {
     "name": "stdout",
     "output_type": "stream",
     "text": [
      "None\n",
      "Ceci est un nom\n",
      "Ceci est un nom\n",
      "Modifier par underscore\n"
     ]
    }
   ],
   "source": [
    "MySoigneur = Soigneur(5)\n",
    "print(MySoigneur.nom)\n",
    "MySoigneur.nom = \"Ceci est un nom\"\n",
    "print(MySoigneur._nom)\n",
    "print(MySoigneur.nom)\n",
    "\n",
    "MySoigneur._nom = \"Modifier par underscore\"\n",
    "print(MySoigneur.nom)"
   ]
  }
 ],
 "metadata": {
  "kernelspec": {
   "display_name": "envCondaKeras",
   "language": "python",
   "name": "python3"
  },
  "language_info": {
   "codemirror_mode": {
    "name": "ipython",
    "version": 3
   },
   "file_extension": ".py",
   "mimetype": "text/x-python",
   "name": "python",
   "nbconvert_exporter": "python",
   "pygments_lexer": "ipython3",
   "version": "3.12.3"
  }
 },
 "nbformat": 4,
 "nbformat_minor": 2
}
