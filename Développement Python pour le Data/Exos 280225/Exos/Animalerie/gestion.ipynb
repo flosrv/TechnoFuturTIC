{
 "cells": [
  {
   "cell_type": "code",
   "execution_count": 3,
   "metadata": {},
   "outputs": [],
   "source": [
    "from chat import Chat\n",
    "from chien import Chien\n",
    "from oiseau import Oiseau\n",
    "\n",
    "from animal import IVolant"
   ]
  },
  {
   "cell_type": "code",
   "execution_count": 4,
   "metadata": {},
   "outputs": [
    {
     "name": "stdout",
     "output_type": "stream",
     "text": [
      "Rantanplan : \n"
     ]
    },
    {
     "ename": "TypeError",
     "evalue": "Chien.crier() takes 0 positional arguments but 1 was given",
     "output_type": "error",
     "traceback": [
      "\u001b[1;31m---------------------------------------------------------------------------\u001b[0m",
      "\u001b[1;31mTypeError\u001b[0m                                 Traceback (most recent call last)",
      "Cell \u001b[1;32mIn[4], line 17\u001b[0m\n\u001b[0;32m     15\u001b[0m \u001b[38;5;28;01mif\u001b[39;00m(\u001b[38;5;28misinstance\u001b[39m(animal,IVolant)):\n\u001b[0;32m     16\u001b[0m     animal\u001b[38;5;241m.\u001b[39mvoler()\n\u001b[1;32m---> 17\u001b[0m \u001b[43manimal\u001b[49m\u001b[38;5;241;43m.\u001b[39;49m\u001b[43mcrier\u001b[49m\u001b[43m(\u001b[49m\u001b[43m)\u001b[49m\n",
      "\u001b[1;31mTypeError\u001b[0m: Chien.crier() takes 0 positional arguments but 1 was given"
     ]
    }
   ],
   "source": [
    "\n",
    "myArray = []\n",
    "\n",
    "chien1 = Chien(\"Rantanplan\", 10, 0.5, \"M\", \"28/02/2020\",\"28/2/2021\",\"Berger\",\"Rouge\",True)\n",
    "oiseau1 = Oiseau(\"Piou piou\", 0.5, 0.1, \"F\", \"03/05/2024\",\"28/2/2021\",\"Jaune\",True)\n",
    "chat1 = Chat(\"Ylang\", 1.5, 0.2, \"F\", \"03/05/2020\",\"03/05/2020\",)\n",
    "\n",
    "myArray.append(chien1)\n",
    "myArray.append(oiseau1)\n",
    "myArray.append(chat1)\n",
    "\n",
    "for animal in myArray:\n",
    "\n",
    "    print(f\"{animal.nom} : \")\n",
    "\n",
    "    if(isinstance(animal,IVolant)):\n",
    "        animal.voler()\n",
    "    animal.crier()\n",
    "\n",
    "\n"
   ]
  }
 ],
 "metadata": {
  "kernelspec": {
   "display_name": "envCondaKeras",
   "language": "python",
   "name": "python3"
  },
  "language_info": {
   "codemirror_mode": {
    "name": "ipython",
    "version": 3
   },
   "file_extension": ".py",
   "mimetype": "text/x-python",
   "name": "python",
   "nbconvert_exporter": "python",
   "pygments_lexer": "ipython3",
   "version": "3.12.3"
  }
 },
 "nbformat": 4,
 "nbformat_minor": 2
}
