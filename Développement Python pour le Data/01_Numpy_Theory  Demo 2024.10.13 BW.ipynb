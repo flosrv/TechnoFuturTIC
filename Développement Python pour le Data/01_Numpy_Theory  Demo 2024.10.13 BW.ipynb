{
 "cells": [
  {
   "cell_type": "markdown",
   "id": "6a9a8a6f",
   "metadata": {},
   "source": [
    "<a id=\"toc\"></a>\n",
    "\n",
    "## Theory NumPy\n",
    "\n",
    "- [Why not native Python lists](#why)\n",
    "  - Benchmarks\n",
    "<br>\n",
    "\n",
    "- [ARRAYS](#arrays)\n",
    "  - np.array\n",
    "  - types\n",
    "  - np.arange\n",
    "  - np.linspace\n",
    "<br>\n",
    "\n",
    "- [IO](#io)\n",
    "  - loadtxt, savetxt\n",
    "<br>     \n",
    "\n",
    "- [OPERATIONS](#ops)\n",
    "  - Additions / Multiplications\n",
    "  - Comparisons\n",
    "  - Broadcasting\n",
    "<br>     \n",
    "\n",
    "- [WHERE](#indexing)\n",
    "  - Indexing & slicing\n",
    "  - Where & Boolean indexing\n",
    "  - argmax, argmin\n",
    "  - copy *vs.* view\n",
    "<br>  \n",
    "\n",
    "- [AGG & FUNCTIONS](#agg)\n",
    "  - sum, mean,...\n",
    "  - np.nan\n",
    "  - nansum, nanmean\n",
    "  - ufunc\n",
    "<br>  \n",
    "\n",
    "- [CONCATENATE](#concat)\n",
    "    - concatenate\n",
    "<br>   \n",
    "\n",
    "- [Matix and linear algebra](#la)\n",
    "    - Vectors\n",
    "    - Matrices\n",
    "    - Rotation\n",
    "    - Inner product\n",
    "    - Einsum"
   ]
  },
  {
   "cell_type": "markdown",
   "id": "65fb4ef2",
   "metadata": {},
   "source": [
    "<a id = \"why\"></a>\n",
    "\n",
    "# Why not native?\n",
    "\n",
    "[toc](#toc)"
   ]
  },
  {
   "cell_type": "markdown",
   "id": "a7e1be52-7581-4432-8919-78e3bb7b0131",
   "metadata": {},
   "source": [
    "Basic syntax / design differences between Python and C\n",
    "\n",
    "```python\n",
    "# Python\n",
    "result = 0  \n",
    "for i in range(100):\n",
    "    result += 1 \n",
    "```\n",
    "\n",
    "```C\n",
    "/* C */\n",
    "int result = 0; \n",
    "for (int i = 0; i < 100; i++) \n",
    "    {\n",
    "        result += 1; \n",
    "    }\n",
    "\n",
    "```\n",
    "--- \n",
    "\n",
    "```python\n",
    "# Python is implicit / build in\n",
    "result = 0  # Could be anything, probably integer good enough, \n",
    "            # less code, more readable\n",
    "for i in range(100):\n",
    "    result +=1 # \"what kind/type result here?\" , \n",
    "               # \"what is addition for this type?\"\n",
    "               # much slower\n",
    "```\n",
    "```C\n",
    "/* C  is very explicit */\n",
    "int result = 0; // Result can only be an integer, \n",
    "                // more code, less readable \n",
    "for (int i=0; i<100; i++) // how to do a for loop here\n",
    "    {\n",
    "        result += 1; // \"I know what kind/type result is\",\n",
    "                     // \"I already know addition for integers\"\n",
    "                     // much faster\n",
    "    }\n",
    "\n",
    "```\n",
    "---\n",
    "Design choices \"dynamic\"-types vs \"static\"-types\n",
    "\n",
    "```python\n",
    "# Python is dynamic\n",
    "x = 4\n",
    "x = 'four' ## \"ok, now x is 'four', got it\"\n",
    "\n",
    "```\n",
    "\n",
    "```C\n",
    "/* C is static */\n",
    "int x = 4\n",
    "x = 'four' // error , \"you told me x is an integer\"\n",
    "```\n",
    "\n",
    "<br>"
   ]
  },
  {
   "cell_type": "markdown",
   "id": "a53ff3e0-5897-4e26-a81e-2d2e138546b1",
   "metadata": {},
   "source": [
    "## A Python integer vs a C integer\n",
    "\n",
    "- Much more memory required to account for dynamic-aspects\n",
    "\n",
    "![](static/py_vs_C_integer.png)\n",
    "\n",
    "---\n",
    "\n",
    "## Python list\n",
    "\n",
    "- Information like types is stored in each individual cell of the list\n",
    "    -  This is what makes it possible to have anything in a list ! = very dynamic\n",
    "\n",
    "![](static/py_list.png)\n",
    "\n",
    "---\n",
    "\n",
    "## Numpy array\n",
    "\n",
    "- In data, we often (always?) have same data types for single columns:\n",
    "    - We can therefore hope to \"factor out\" those types\n",
    "    - We are willing to sacrifice \"dynamism\" for \"static/speed\" without too much effort\n",
    "\n",
    "![](static/numpy_list.png)"
   ]
  },
  {
   "cell_type": "markdown",
   "id": "f8ced82c-3d04-475d-9ee7-5514f97759be",
   "metadata": {},
   "source": [
    "## What is NumPy?\n",
    "\n",
    "- **Num**eric **Py**thon\n",
    "- A library / module with functionalities for numeric computation\n",
    "    - Simple usage:\n",
    "        - Faster Python lists\n",
    "        - Math functions\n",
    "        - Random number generators\n",
    "    - Advanced:\n",
    "        - Tools for linear algebra\n",
    "        - Fourier transforms  \n",
    "\n",
    "- Basically a toolbox:\n",
    "  - Objects and functions for Python users (= easy/readable)\n",
    "  - But \"written\" in C / C++ / Fortran (= fast/performance)\n",
    "\n",
    "- https://numpy.org/"
   ]
  },
  {
   "cell_type": "markdown",
   "id": "5a524858",
   "metadata": {},
   "source": [
    "### Benchmarks: aggregations"
   ]
  },
  {
   "cell_type": "code",
   "execution_count": 1,
   "id": "d83ce618",
   "metadata": {},
   "outputs": [],
   "source": [
    "import numpy as np\n",
    "import array ## native python arrays\n",
    "import sys\n",
    "\n",
    "do_benchmarks = True"
   ]
  },
  {
   "cell_type": "code",
   "execution_count": 2,
   "id": "cc6d5e27",
   "metadata": {},
   "outputs": [
    {
     "name": "stdout",
     "output_type": "stream",
     "text": [
      "8000056\n",
      "42.1 ms ± 4.29 ms per loop (mean ± std. dev. of 7 runs, 10 loops each)\n"
     ]
    }
   ],
   "source": [
    "if do_benchmarks:\n",
    "\n",
    "    ### Native Python\n",
    "\n",
    "    big_list = list(range(1_000_000))\n",
    "    print(sys.getsizeof(big_list)) ## (Flawed) memory footprint estimate of *whole* object\n",
    "    %timeit sum(big_list)"
   ]
  },
  {
   "cell_type": "code",
   "execution_count": 3,
   "id": "51d1ab51",
   "metadata": {},
   "outputs": [
    {
     "name": "stdout",
     "output_type": "stream",
     "text": [
      "8000040\n",
      "41.9 ms ± 3.14 ms per loop (mean ± std. dev. of 7 runs, 10 loops each)\n"
     ]
    }
   ],
   "source": [
    "if do_benchmarks:\n",
    "\n",
    "    ### Native Python\n",
    "    \n",
    "    big_list = tuple(range(1_000_000))\n",
    "    print(sys.getsizeof(big_list))\n",
    "    %timeit sum(big_list)"
   ]
  },
  {
   "cell_type": "code",
   "execution_count": 4,
   "id": "1deaeb0e-4740-4927-820f-4704e3d79366",
   "metadata": {},
   "outputs": [
    {
     "name": "stdout",
     "output_type": "stream",
     "text": [
      "4091948\n",
      "60.2 ms ± 3.04 ms per loop (mean ± std. dev. of 7 runs, 10 loops each)\n"
     ]
    }
   ],
   "source": [
    "if do_benchmarks:\n",
    "\n",
    "    ### Native Python array module: optimised memory usage: same type for all elements\n",
    "\n",
    "    big_list = array.array(\"i\", range(1_000_000))\n",
    "    print(sys.getsizeof(big_list))\n",
    "    %timeit sum(big_list)"
   ]
  },
  {
   "cell_type": "code",
   "execution_count": 6,
   "id": "2ceba0c3",
   "metadata": {},
   "outputs": [
    {
     "name": "stdout",
     "output_type": "stream",
     "text": [
      "4000112\n",
      "735 µs ± 76.7 µs per loop (mean ± std. dev. of 7 runs, 1,000 loops each)\n"
     ]
    }
   ],
   "source": [
    "if do_benchmarks:\n",
    "\n",
    "    ### Numpy: C-under the hood\n",
    "\n",
    "    big_array = np.arange(1_000_000)\n",
    "    print(sys.getsizeof(big_array))\n",
    "    %timeit np.sum(big_array)"
   ]
  },
  {
   "cell_type": "code",
   "execution_count": 7,
   "id": "c2de4483",
   "metadata": {},
   "outputs": [
    {
     "data": {
      "text/plain": [
       "100.0"
      ]
     },
     "execution_count": 7,
     "metadata": {},
     "output_type": "execute_result"
    }
   ],
   "source": [
    "40 / 0.4"
   ]
  },
  {
   "cell_type": "code",
   "execution_count": 8,
   "id": "217aea5a-dd22-4d9c-a29b-c6ba61c29b2c",
   "metadata": {},
   "outputs": [
    {
     "name": "stdout",
     "output_type": "stream",
     "text": [
      "48\n",
      "56.4 ms ± 3.16 ms per loop (mean ± std. dev. of 7 runs, 10 loops each)\n"
     ]
    }
   ],
   "source": [
    "### Using generators: not as relevant in data:\n",
    "### In data: we use already existing values, we don't \"generate\" new ones\n",
    "\n",
    "if do_benchmarks:\n",
    "\n",
    "    generator_big_list = range(1_000_000) ## Generator of values: how to \"produce\" the next value\n",
    "    print(sys.getsizeof(generator_big_list))\n",
    "    %timeit sum(generator_big_list)"
   ]
  },
  {
   "cell_type": "markdown",
   "id": "57fc4ada",
   "metadata": {},
   "source": [
    "### Benchmarks: simple addition"
   ]
  },
  {
   "cell_type": "code",
   "execution_count": 9,
   "id": "8f6fa9f8",
   "metadata": {},
   "outputs": [
    {
     "name": "stdout",
     "output_type": "stream",
     "text": [
      "127 ms ± 9.03 ms per loop (mean ± std. dev. of 7 runs, 1 loop each)\n"
     ]
    }
   ],
   "source": [
    "if do_benchmarks:\n",
    "    \n",
    "    big_list = list(range(1_000_000))\n",
    "    \n",
    "    def f0(big_array):\n",
    "        for i,el in enumerate(big_list):\n",
    "            big_list[i] = el+1\n",
    "\n",
    "    %timeit f0(big_array)"
   ]
  },
  {
   "cell_type": "code",
   "execution_count": 11,
   "id": "5524b730-ab2b-4a2b-8d40-2f7650181987",
   "metadata": {},
   "outputs": [
    {
     "name": "stdout",
     "output_type": "stream",
     "text": [
      "196 ms ± 116 ms per loop (mean ± std. dev. of 7 runs, 1 loop each)\n"
     ]
    }
   ],
   "source": [
    "if do_benchmarks:\n",
    "    \n",
    "    big_array= np.arange(1_000_000)\n",
    "    def f0(big_array):\n",
    "        for i,el in enumerate(big_list):\n",
    "            big_list[i] = el+1\n",
    "\n",
    "    %timeit f0(big_array)"
   ]
  },
  {
   "cell_type": "code",
   "execution_count": 12,
   "id": "82b579ca",
   "metadata": {},
   "outputs": [
    {
     "name": "stdout",
     "output_type": "stream",
     "text": [
      "2.8 ms ± 842 µs per loop (mean ± std. dev. of 7 runs, 100 loops each)\n"
     ]
    }
   ],
   "source": [
    "if do_benchmarks:\n",
    "\n",
    "    big_array= np.arange(1_000_000)\n",
    "    def f0(big_array):\n",
    "        big_array= big_array+ 1 ## Vectorised computation: same operation \"at once\"\n",
    "\n",
    "    %timeit f0(big_array)"
   ]
  },
  {
   "cell_type": "markdown",
   "id": "c89765b9-6fbc-46bc-b26a-8cc46b30a301",
   "metadata": {},
   "source": [
    "#### Conclusion\n",
    "\n",
    "- Numpy **can** speed things up dramatically, but this require some **rewrites / refactoring** of native Python code"
   ]
  },
  {
   "cell_type": "code",
   "execution_count": 13,
   "id": "323b1c08",
   "metadata": {},
   "outputs": [
    {
     "name": "stdout",
     "output_type": "stream",
     "text": [
      "39.39393939393939\n",
      "64.14141414141415\n"
     ]
    }
   ],
   "source": [
    "print(156 / 3.96)\n",
    "print(254 / 3.96)"
   ]
  },
  {
   "cell_type": "markdown",
   "id": "0c0c0aad-5e43-458a-a4b7-1fe49cbac251",
   "metadata": {},
   "source": [
    "## What are the most important things to remember from NumPy?\n",
    "\n",
    "0. Numpy are faster lists (if used correctly)\n",
    "1. Creation of np.array\n",
    "2. Indexing\n",
    "3. Boolean indexing\n",
    "4. Aggregation functions along axes\n",
    "5. np.nan\n",
    "6. Datatypes\n",
    "\n",
    "## Python as a data science ecosystem\n",
    "\n",
    "source: jupytearth.org\n",
    "![](static/python_stack.png)"
   ]
  },
  {
   "cell_type": "markdown",
   "id": "8b0f6e4c",
   "metadata": {},
   "source": [
    "<a id = \"arrays\"></a>\n",
    "\n",
    "# Arrays\n",
    "\n",
    "[toc](#toc)"
   ]
  },
  {
   "cell_type": "code",
   "execution_count": 14,
   "id": "10e9a717",
   "metadata": {},
   "outputs": [],
   "source": [
    "import numpy as np ## np is a convention"
   ]
  },
  {
   "cell_type": "markdown",
   "id": "8c04dd9d",
   "metadata": {},
   "source": [
    "Quick help\n",
    "\n",
    "```py \n",
    "import numpy as np\n",
    "np? \n",
    "```\n",
    "  \n",
    "documentation  \n",
    "https://numpy.org/doc/stable/reference/index.html"
   ]
  },
  {
   "cell_type": "code",
   "execution_count": 15,
   "id": "1638244c",
   "metadata": {},
   "outputs": [],
   "source": [
    "### py\n",
    "lst_a = list(\"abcde\")\n",
    "lst_1 = list(range(5))\n",
    "\n",
    "### np\n",
    "arr_a = np.array(lst_a)\n",
    "arr_1 = np.array(lst_1)"
   ]
  },
  {
   "cell_type": "code",
   "execution_count": 16,
   "id": "01cee7ae",
   "metadata": {},
   "outputs": [
    {
     "name": "stdout",
     "output_type": "stream",
     "text": [
      "['a' 'b' 'c' 'd' 'e']\n"
     ]
    },
    {
     "data": {
      "text/plain": [
       "array(['a', 'b', 'c', 'd', 'e'], dtype='<U1')"
      ]
     },
     "metadata": {},
     "output_type": "display_data"
    },
    {
     "data": {
      "text/plain": [
       "array(['a', 'b', 'c', 'd', 'e'], dtype='<U1')"
      ]
     },
     "execution_count": 16,
     "metadata": {},
     "output_type": "execute_result"
    }
   ],
   "source": [
    "print(arr_a)\n",
    "display(arr_a) ## Jupyter Notebooks\n",
    "arr_a          ## Jupyter Notebooks"
   ]
  },
  {
   "cell_type": "code",
   "execution_count": 17,
   "id": "70bb116d",
   "metadata": {},
   "outputs": [
    {
     "name": "stdout",
     "output_type": "stream",
     "text": [
      "[0 1 2 3 4]\n",
      "[0.   0.25 0.5  0.75 1.  ]\n",
      "--------------------------------------------------\n",
      "[[0. 0. 0. 0.]\n",
      " [0. 0. 0. 0.]\n",
      " [0. 0. 0. 0.]]\n",
      "--------------------------------------------------\n",
      "[[1. 1. 1. 1.]\n",
      " [1. 1. 1. 1.]\n",
      " [1. 1. 1. 1.]]\n"
     ]
    }
   ],
   "source": [
    "print(np.arange(0,5,1))   ## Similar to list(range(0,5,1)): start (included) = default 0, stop (exluded), step = default 1  \n",
    "\n",
    "print(np.linspace(0,1,5)) ## 0 (included) to 1 (included), 5 values in total\n",
    "print(\"-\"*50)\n",
    "print(np.zeros((3,4)))\n",
    "print(\"-\"*50)\n",
    "print(np.ones((3,4)))"
   ]
  },
  {
   "cell_type": "markdown",
   "id": "52c903a2-bc3f-4802-82d0-9ec82265975f",
   "metadata": {},
   "source": [
    "### Random sampling / generation\n",
    "\n",
    "https://numpy.org/doc/stable/reference/random/index.html"
   ]
  },
  {
   "cell_type": "code",
   "execution_count": 18,
   "id": "0a8ac380",
   "metadata": {},
   "outputs": [
    {
     "data": {
      "text/plain": [
       "array([[0, 1, 2],\n",
       "       [0, 1, 3]])"
      ]
     },
     "metadata": {},
     "output_type": "display_data"
    },
    {
     "data": {
      "text/plain": [
       "array([[6.36184299, 3.699352  , 5.51855504],\n",
       "       [5.56458491, 5.95763472, 4.63653286]])"
      ]
     },
     "metadata": {},
     "output_type": "display_data"
    }
   ],
   "source": [
    "display(np.random.randint(-1,5,(2,3))) ## min(included), max(excluded), shape\n",
    "\n",
    "display(np.random.normal(5,1,(2,3)))   ## mean, std, shape"
   ]
  },
  {
   "cell_type": "markdown",
   "id": "554c152b",
   "metadata": {},
   "source": [
    "### Numpy data types\n",
    "\n",
    "https://numpy.org/doc/stable/user/basics.types.html\n",
    "\n",
    "- np.int32\n",
    "- np.float64\n",
    "- np.uint8\n",
    "- ..."
   ]
  },
  {
   "cell_type": "code",
   "execution_count": 19,
   "id": "f5e5cd88-daa2-4170-a712-b225c00f73db",
   "metadata": {},
   "outputs": [
    {
     "data": {
      "text/plain": [
       "array([1.  , 2.  , 3.14])"
      ]
     },
     "metadata": {},
     "output_type": "display_data"
    },
    {
     "data": {
      "text/plain": [
       "array([1, 2, 3], dtype=int64)"
      ]
     },
     "metadata": {},
     "output_type": "display_data"
    },
    {
     "data": {
      "text/plain": [
       "array([1., 2., 3.], dtype=float16)"
      ]
     },
     "metadata": {},
     "output_type": "display_data"
    },
    {
     "data": {
      "text/plain": [
       "array([1., 2., 3.], dtype=float32)"
      ]
     },
     "metadata": {},
     "output_type": "display_data"
    }
   ],
   "source": [
    "display(np.array([1, 2 ,3.14])) ## float because 3.14 is float and float > int\n",
    "\n",
    "arr_int = np.array([1,2,3], dtype = np.int64) ## default int = int32\n",
    "display(arr_int)\n",
    "\n",
    "arr_float = arr_int.astype(np.float16)\n",
    "display(arr_float)\n",
    "\n",
    "arr_float = np.array(arr_int, dtype = np.float32)\n",
    "display(arr_float)"
   ]
  },
  {
   "cell_type": "markdown",
   "id": "04fda34a-c158-416f-9612-7fcbce48ccff",
   "metadata": {},
   "source": [
    "### Numpy array attributes"
   ]
  },
  {
   "cell_type": "code",
   "execution_count": 20,
   "id": "81d1e650",
   "metadata": {},
   "outputs": [
    {
     "name": "stdout",
     "output_type": "stream",
     "text": [
      "[[0 1 2]\n",
      " [3 4 5]]\n",
      "--------------------------------------------------\n",
      "ndim 2\n",
      "size 6\n",
      "shape (2, 3)\n",
      "dtype int32\n",
      "itemsize 4\n",
      "nbytes 24\n"
     ]
    }
   ],
   "source": [
    "arr_2D = np.arange(6).reshape(2,3)\n",
    "print(arr_2D)\n",
    "print(\"-\"*50)\n",
    "print(\"ndim\", arr_2D.ndim)   ## Number of levels\n",
    "print(\"size\", arr_2D.size)   ## Number of cells\n",
    "print(\"shape\", arr_2D.shape) ## Shape\n",
    "print(\"dtype\", arr_2D.dtype) ## Datatype\n",
    "print(\"itemsize\", arr_2D.itemsize) ## Memory footprint of one cell-values\n",
    "print(\"nbytes\", arr_2D.nbytes)     ## Memory footprint of whole array-values"
   ]
  },
  {
   "cell_type": "code",
   "execution_count": 21,
   "id": "03824d07",
   "metadata": {},
   "outputs": [
    {
     "name": "stdout",
     "output_type": "stream",
     "text": [
      "[[0 1 2]\n",
      " [3 4 5]]\n",
      "--------------------------------------------------\n",
      "ndim 2\n",
      "size 6\n",
      "shape (2, 3)\n",
      "dtype uint8\n",
      "itemsize 1\n",
      "nbytes 6\n"
     ]
    }
   ],
   "source": [
    "arr_2D = np.arange(6, dtype = np.uint8).reshape(2,-1) ## Changed dtype\n",
    "arr_2D = np.array([[0,1,2],[3,4,5]]).astype(np.uint8) ### Alternative\n",
    "print(arr_2D)\n",
    "print(\"-\"*50)\n",
    "print(\"ndim\", arr_2D.ndim)\n",
    "print(\"size\", arr_2D.size) \n",
    "print(\"shape\", arr_2D.shape)\n",
    "print(\"dtype\", arr_2D.dtype)\n",
    "print(\"itemsize\", arr_2D.itemsize)\n",
    "print(\"nbytes\", arr_2D.nbytes)"
   ]
  },
  {
   "cell_type": "code",
   "execution_count": 22,
   "id": "9f607469-38c7-49ba-8eaa-7e54421fe84e",
   "metadata": {},
   "outputs": [
    {
     "ename": "ValueError",
     "evalue": "cannot convert float NaN to integer",
     "output_type": "error",
     "traceback": [
      "\u001b[1;31m---------------------------------------------------------------------------\u001b[0m",
      "\u001b[1;31mValueError\u001b[0m                                Traceback (most recent call last)",
      "Cell \u001b[1;32mIn[22], line 1\u001b[0m\n\u001b[1;32m----> 1\u001b[0m \u001b[43marr_2D\u001b[49m\u001b[43m[\u001b[49m\u001b[38;5;241;43m0\u001b[39;49m\u001b[43m,\u001b[49m\u001b[38;5;241;43m0\u001b[39;49m\u001b[43m]\u001b[49m \u001b[38;5;241m=\u001b[39m np\u001b[38;5;241m.\u001b[39mnan\n\u001b[0;32m      2\u001b[0m arr_2D\n",
      "\u001b[1;31mValueError\u001b[0m: cannot convert float NaN to integer"
     ]
    }
   ],
   "source": [
    "arr_2D[0,0] = np.nan\n",
    "arr_2D"
   ]
  },
  {
   "cell_type": "code",
   "execution_count": 23,
   "id": "6d3e2839-dc50-45c1-a018-016e0eeec21b",
   "metadata": {},
   "outputs": [
    {
     "name": "stdout",
     "output_type": "stream",
     "text": [
      "[] : <class 'numpy.ndarray'>\n",
      "nan : <class 'float'>\n",
      "inf : <class 'float'>\n",
      "<class 'numpy.uint8'> : <class 'type'>\n",
      "<class 'numpy.int32'> : <class 'type'>\n",
      "<class 'numpy.float16'> : <class 'type'>\n",
      "<class 'numpy.float64'> : <class 'type'>\n"
     ]
    }
   ],
   "source": [
    "for el in [np.array([]), np.nan, np.inf, np.uint8, np.int32, np.float16, np.float64]:\n",
    "    print(el,\":\",type(el))"
   ]
  },
  {
   "cell_type": "code",
   "execution_count": 24,
   "id": "fc651252-3800-45f8-9a85-bfdad496ba81",
   "metadata": {},
   "outputs": [
    {
     "name": "stdout",
     "output_type": "stream",
     "text": [
      "inf\n",
      "0.0\n",
      "inf\n",
      "nan\n"
     ]
    }
   ],
   "source": [
    "print(np.inf + 1)\n",
    "print(1 / np.inf)\n",
    "print(np.inf * np.inf)\n",
    "print(np.inf - np.inf)"
   ]
  },
  {
   "cell_type": "markdown",
   "id": "b9f94a48-08a6-4bf2-b28e-b81890435ba5",
   "metadata": {},
   "source": [
    "<a id = \"io\"></a>\n",
    "\n",
    "# IO\n",
    "\n",
    "[toc](#toc)  \n",
    "\n",
    "Note: \n",
    "- We **can** import / read / write data via Numpy,\n",
    "- But we will (usually) **use Pandas** for import / read / write instead (among other things)"
   ]
  },
  {
   "cell_type": "code",
   "execution_count": 25,
   "id": "d342a8c6",
   "metadata": {},
   "outputs": [
    {
     "name": "stdout",
     "output_type": "stream",
     "text": [
      "[[0 1 2]\n",
      " [3 4 5]]\n"
     ]
    }
   ],
   "source": [
    "print(arr_2D)\n",
    "\n",
    "### Store into a csv\n",
    "np.savetxt(\"./saves/mycsv.csv\",\n",
    "           arr_2D,\n",
    "           delimiter = \";\",\n",
    "           fmt = \"%d\"  ## Keep same format as data\n",
    "           )"
   ]
  },
  {
   "cell_type": "code",
   "execution_count": 26,
   "id": "f29f95c2",
   "metadata": {},
   "outputs": [
    {
     "name": "stdout",
     "output_type": "stream",
     "text": [
      "[[0 2]\n",
      " [3 5]]\n"
     ]
    }
   ],
   "source": [
    "### Get from csv\n",
    "from_csv = np.loadtxt(\"./saves/mycsv.csv\",\n",
    "                      delimiter = \";\",\n",
    "                      dtype = np.uint8, ## Must be the same datatype for all columns \n",
    "                                        ## (= limitation of Numpy, we will use Pandas later instead)\n",
    "                      usecols = [0,2],  ## Use columns 0,2\n",
    "                      skiprows = 0,     ## Don't skip any rows \n",
    "                      unpack = False    ## Unpack into multiple variables \n",
    "                                        ## = as much as number of columns\n",
    "                      ) \n",
    "print(from_csv)"
   ]
  },
  {
   "cell_type": "markdown",
   "id": "e9881b88-c53e-40f6-9462-163accbd7420",
   "metadata": {},
   "source": [
    "## Save and load Numpy objects\n",
    "\n",
    "- https://numpy.org/doc/stable/reference/generated/numpy.save.html\n",
    "- https://numpy.org/doc/stable/reference/generated/numpy.load.html"
   ]
  },
  {
   "cell_type": "markdown",
   "id": "487c7f42",
   "metadata": {},
   "source": [
    "<a id = \"ops\"></a>\n",
    "\n",
    "# Operations\n",
    "\n",
    "[toc](#toc)"
   ]
  },
  {
   "cell_type": "code",
   "execution_count": 27,
   "id": "79d55f91-622f-426a-adb1-c9aa732f7685",
   "metadata": {},
   "outputs": [
    {
     "data": {
      "text/plain": [
       "array([12, 10,  8,  6,  4])"
      ]
     },
     "metadata": {},
     "output_type": "display_data"
    }
   ],
   "source": [
    "arr_2 = 2 * np.arange(5,0,-1) + 2\n",
    "display(arr_2)"
   ]
  },
  {
   "cell_type": "code",
   "execution_count": 28,
   "id": "cf3118e5",
   "metadata": {},
   "outputs": [
    {
     "data": {
      "text/plain": [
       "array([0, 1, 2, 0, 1], dtype=int32)"
      ]
     },
     "execution_count": 28,
     "metadata": {},
     "output_type": "execute_result"
    }
   ],
   "source": [
    "arr_2%3"
   ]
  },
  {
   "cell_type": "code",
   "execution_count": 29,
   "id": "048448b3",
   "metadata": {},
   "outputs": [
    {
     "data": {
      "text/plain": [
       "array([False, False,  True,  True,  True])"
      ]
     },
     "execution_count": 29,
     "metadata": {},
     "output_type": "execute_result"
    }
   ],
   "source": [
    "arr_2 < 9"
   ]
  },
  {
   "cell_type": "code",
   "execution_count": 30,
   "id": "9282988f",
   "metadata": {},
   "outputs": [
    {
     "data": {
      "text/plain": [
       "array([12, 11, 10,  9,  8])"
      ]
     },
     "execution_count": 30,
     "metadata": {},
     "output_type": "execute_result"
    }
   ],
   "source": [
    "arr_2 + arr_1"
   ]
  },
  {
   "cell_type": "code",
   "execution_count": 31,
   "id": "529e1344",
   "metadata": {},
   "outputs": [
    {
     "name": "stdout",
     "output_type": "stream",
     "text": [
      "Shape of arr_1: (5,)\n",
      "Shape of arr_3: (6,)\n",
      "operands could not be broadcast together with shapes (5,) (6,) \n"
     ]
    }
   ],
   "source": [
    "arr_3 = np.arange(6)\n",
    "\n",
    "print(f\"Shape of arr_1: {arr_1.shape}\")\n",
    "print(f\"Shape of arr_3: {arr_3.shape}\")\n",
    "\n",
    "try:\n",
    "    arr_1 + arr_3\n",
    "except Exception as err:\n",
    "    print(err)"
   ]
  },
  {
   "cell_type": "markdown",
   "id": "9093840f-3b55-470f-9939-bc65b9e33e9d",
   "metadata": {},
   "source": [
    "### Broadcasting\n",
    "\n",
    "- Normally: shapes must match to apply operations\n",
    "- If they don't match rules of broadcasting apply:\n",
    "    https://numpy.org/doc/stable/user/basics.broadcasting.html"
   ]
  },
  {
   "cell_type": "code",
   "execution_count": 32,
   "id": "10d63ed6",
   "metadata": {},
   "outputs": [
    {
     "name": "stdout",
     "output_type": "stream",
     "text": [
      "original\n",
      " [[0 1 2]\n",
      " [3 4 5]]\n",
      "--------------------------------------------------\n",
      "--------------------------------------------------\n",
      "[[10 11 12]\n",
      " [13 14 15]]\n",
      "--------------------------------------------------\n",
      "[[ 0  1 12]\n",
      " [ 3  4 15]]\n",
      "[[ 0  1 12]\n",
      " [ 3  4 15]]\n",
      "--------------------------------------------------\n",
      "[[ 0  1  2]\n",
      " [13 14 15]]\n",
      "--------------------------------------------------\n",
      "[[  0   1   2]\n",
      " [ 10  11  12]\n",
      " [100 101 102]]\n"
     ]
    }
   ],
   "source": [
    "### Broadcasting\n",
    "print(\"original\\n\", arr_2D)\n",
    "print(\"-\"*50)\n",
    "print(\"-\"*50)\n",
    "\n",
    "print(arr_2D + 10) ### Add fixed value to array: add to ALL cells \n",
    "print(\"-\"*50)\n",
    "\n",
    "print(arr_2D + np.array([0,0,10])) ### Matching/compatible level 1\n",
    "print(arr_2D + np.array([0,0,10]).reshape(1,-1))\n",
    "\n",
    "print(\"-\"*50)\n",
    "print(arr_2D + np.array([0,10]).reshape(-1,1)) ### Matching/compatible level 0\n",
    "print(\"-\"*50)\n",
    "print(np.array([[0,1,2]]) + np.array([[0],[10], [100]]))"
   ]
  },
  {
   "cell_type": "code",
   "execution_count": 33,
   "id": "f582b134-cfce-404a-89b5-92d515f89f91",
   "metadata": {},
   "outputs": [
    {
     "data": {
      "text/plain": [
       "array([ 0,  0, 10])"
      ]
     },
     "execution_count": 33,
     "metadata": {},
     "output_type": "execute_result"
    }
   ],
   "source": [
    "np.array([0,0,10])"
   ]
  },
  {
   "cell_type": "code",
   "execution_count": 34,
   "id": "f6b30285-76fb-4687-bfb7-4f5dc2fbdffa",
   "metadata": {},
   "outputs": [
    {
     "data": {
      "text/plain": [
       "array([[ 0,  0, 10]])"
      ]
     },
     "execution_count": 34,
     "metadata": {},
     "output_type": "execute_result"
    }
   ],
   "source": [
    "np.array([0,0,10]).reshape(1,-1)"
   ]
  },
  {
   "cell_type": "code",
   "execution_count": 35,
   "id": "49ee3ed4-aed4-4637-aa11-624c6954bf35",
   "metadata": {},
   "outputs": [
    {
     "data": {
      "text/plain": [
       "array([[ 0],\n",
       "       [10]])"
      ]
     },
     "execution_count": 35,
     "metadata": {},
     "output_type": "execute_result"
    }
   ],
   "source": [
    "np.array([0,10]).reshape(-1,1)"
   ]
  },
  {
   "cell_type": "markdown",
   "id": "a2de1c5e",
   "metadata": {},
   "source": [
    "<a id = \"indexing\"></a>\n",
    "\n",
    "# Where\n",
    "\n",
    "[toc](#toc)"
   ]
  },
  {
   "cell_type": "markdown",
   "id": "3c9c24bb",
   "metadata": {},
   "source": [
    "### Indexing"
   ]
  },
  {
   "cell_type": "code",
   "execution_count": 36,
   "id": "ee3ec7bf",
   "metadata": {},
   "outputs": [
    {
     "name": "stdout",
     "output_type": "stream",
     "text": [
      "original\n"
     ]
    },
    {
     "data": {
      "text/plain": [
       "array([[0, 1, 2],\n",
       "       [3, 4, 5]], dtype=uint8)"
      ]
     },
     "metadata": {},
     "output_type": "display_data"
    },
    {
     "name": "stdout",
     "output_type": "stream",
     "text": [
      "--------------------------------------------------\n",
      "--------------------------------------------------\n"
     ]
    },
    {
     "data": {
      "text/plain": [
       "array([0, 1, 2], dtype=uint8)"
      ]
     },
     "metadata": {},
     "output_type": "display_data"
    },
    {
     "data": {
      "text/plain": [
       "array([0, 1, 2], dtype=uint8)"
      ]
     },
     "metadata": {},
     "output_type": "display_data"
    },
    {
     "name": "stdout",
     "output_type": "stream",
     "text": [
      "--------------------------------------------------\n"
     ]
    },
    {
     "data": {
      "text/plain": [
       "array([0, 3], dtype=uint8)"
      ]
     },
     "metadata": {},
     "output_type": "display_data"
    },
    {
     "name": "stdout",
     "output_type": "stream",
     "text": [
      "--------------------------------------------------\n"
     ]
    },
    {
     "data": {
      "text/plain": [
       "5"
      ]
     },
     "metadata": {},
     "output_type": "display_data"
    }
   ],
   "source": [
    "print(\"original\")\n",
    "display(arr_2D)\n",
    "print(\"-\"*50)\n",
    "print(\"-\"*50)\n",
    "\n",
    "display(arr_2D[0])       ## At rows (level/axis = 0), get position 0 (all \"columns\")\n",
    "display(arr_2D[0,None:]) ## Same thing as above\n",
    "print(\"-\"*50)\n",
    "display(arr_2D[:,0])     ## At columns (level/axis = 1), get position 0 (all \"rows\")\n",
    "print(\"-\"*50)\n",
    "display(arr_2D[-1,-1])   ## Get element from last row, last column"
   ]
  },
  {
   "cell_type": "code",
   "execution_count": 37,
   "id": "663d1afa-f4c1-4ba0-8cf6-9434593bda6e",
   "metadata": {},
   "outputs": [
    {
     "name": "stdout",
     "output_type": "stream",
     "text": [
      "[[0, 1, 2], [0, 1, 2]]\n"
     ]
    }
   ],
   "source": [
    "my_lst = [list(range(3)) for _ in range(2)]\n",
    "print(my_lst)"
   ]
  },
  {
   "cell_type": "code",
   "execution_count": 38,
   "id": "982623a7-26c0-4b6c-a8be-5c427d9e2e07",
   "metadata": {},
   "outputs": [
    {
     "data": {
      "text/plain": [
       "[0, 1, 2]"
      ]
     },
     "execution_count": 38,
     "metadata": {},
     "output_type": "execute_result"
    }
   ],
   "source": [
    "my_lst[:][-1]"
   ]
  },
  {
   "cell_type": "code",
   "execution_count": 39,
   "id": "57bbe836",
   "metadata": {},
   "outputs": [
    {
     "data": {
      "text/plain": [
       "array([[[0],\n",
       "        [1],\n",
       "        [2]],\n",
       "\n",
       "       [[3],\n",
       "        [4],\n",
       "        [5]]], dtype=uint8)"
      ]
     },
     "metadata": {},
     "output_type": "display_data"
    },
    {
     "data": {
      "text/plain": [
       "2"
      ]
     },
     "metadata": {},
     "output_type": "display_data"
    }
   ],
   "source": [
    "display(arr_2D.reshape(2 ,-1, 1))   ## Array with 3 levels/dimensions/axes \n",
    "                                    ## Arbitrary number of levels possible\n",
    "display(arr_2D.reshape(2 ,-1, 1)[0,-1, 0])  ## First element of level/axis = 0,(rows)\n",
    "                                            ## Last  element of level/axis = 1 (columns)\n",
    "                                            ## First element of level/axis = 2 (depth)"
   ]
  },
  {
   "cell_type": "markdown",
   "id": "dcc8001c",
   "metadata": {},
   "source": [
    "### Slicing"
   ]
  },
  {
   "cell_type": "code",
   "execution_count": 40,
   "id": "a07d81e9-1282-4b8c-8a08-c49ee150b293",
   "metadata": {},
   "outputs": [
    {
     "data": {
      "text/plain": [
       "array([0, 1, 2, 3, 4])"
      ]
     },
     "metadata": {},
     "output_type": "display_data"
    },
    {
     "name": "stdout",
     "output_type": "stream",
     "text": [
      "--------------------------------------------------\n"
     ]
    },
    {
     "data": {
      "text/plain": [
       "array([1, 3])"
      ]
     },
     "metadata": {},
     "output_type": "display_data"
    },
    {
     "data": {
      "text/plain": [
       "array([1, 0])"
      ]
     },
     "metadata": {},
     "output_type": "display_data"
    }
   ],
   "source": [
    "display(arr_1)\n",
    "print(\"-\"*50)\n",
    "display(arr_1[1::2])    ## From index 1 to end, step of 2\n",
    "display(arr_1[1::-1])   ## From index 1 to end, step of -1 \n",
    "                        ## => reverse order: select [1, 0]"
   ]
  },
  {
   "cell_type": "code",
   "execution_count": 41,
   "id": "f4bdb4a6",
   "metadata": {},
   "outputs": [
    {
     "name": "stdout",
     "output_type": "stream",
     "text": [
      "original\n"
     ]
    },
    {
     "data": {
      "text/plain": [
       "array([[0, 1, 2],\n",
       "       [3, 4, 5]], dtype=uint8)"
      ]
     },
     "metadata": {},
     "output_type": "display_data"
    },
    {
     "name": "stdout",
     "output_type": "stream",
     "text": [
      "--------------------------------------------------\n",
      "--------------------------------------------------\n"
     ]
    },
    {
     "data": {
      "text/plain": [
       "array([[0, 1],\n",
       "       [3, 4]], dtype=uint8)"
      ]
     },
     "metadata": {},
     "output_type": "display_data"
    },
    {
     "name": "stdout",
     "output_type": "stream",
     "text": [
      "--------------------------------------------------\n"
     ]
    },
    {
     "data": {
      "text/plain": [
       "array([[3, 4]], dtype=uint8)"
      ]
     },
     "metadata": {},
     "output_type": "display_data"
    }
   ],
   "source": [
    "print(\"original\")\n",
    "display(arr_2D)\n",
    "print(\"-\"*50)\n",
    "print(\"-\"*50)\n",
    "\n",
    "display(arr_2D[:,:2])   ## All rows, up to (excluded) columns position = 2\n",
    "print(\"-\"*50)\n",
    "display(arr_2D[1:2,:2]) ## For rows: from row pos = 1 up to pos 2 (excluded)\n",
    "                        ## For columns : from start (= 0) up to pos 2 (excluded)"
   ]
  },
  {
   "cell_type": "markdown",
   "id": "9e377f30",
   "metadata": {},
   "source": [
    "### Slicing != Indexing"
   ]
  },
  {
   "cell_type": "code",
   "execution_count": 42,
   "id": "226ba9a3",
   "metadata": {},
   "outputs": [
    {
     "data": {
      "text/plain": [
       "array([[0, 1, 2]], dtype=uint8)"
      ]
     },
     "metadata": {},
     "output_type": "display_data"
    },
    {
     "data": {
      "text/plain": [
       "array([0, 1, 2], dtype=uint8)"
      ]
     },
     "metadata": {},
     "output_type": "display_data"
    },
    {
     "name": "stdout",
     "output_type": "stream",
     "text": [
      "False\n",
      "[[ True  True  True]]\n"
     ]
    }
   ],
   "source": [
    "display(arr_2D[0:1])\n",
    "display(arr_2D[0])\n",
    "print(arr_2D[0:1].shape == arr_2D[0].shape)\n",
    "print(arr_2D[0:1] == arr_2D[0])"
   ]
  },
  {
   "cell_type": "markdown",
   "id": "fb9abe6a",
   "metadata": {},
   "source": [
    "### Boolean indexing"
   ]
  },
  {
   "cell_type": "code",
   "execution_count": 43,
   "id": "0707853b",
   "metadata": {},
   "outputs": [
    {
     "data": {
      "text/plain": [
       "array([[0, 1, 2],\n",
       "       [3, 4, 5]], dtype=uint8)"
      ]
     },
     "metadata": {},
     "output_type": "display_data"
    },
    {
     "name": "stdout",
     "output_type": "stream",
     "text": [
      "--------------------------------------------------\n"
     ]
    },
    {
     "data": {
      "text/plain": [
       "array([[ True,  True,  True],\n",
       "       [ True, False, False]])"
      ]
     },
     "metadata": {},
     "output_type": "display_data"
    },
    {
     "data": {
      "text/plain": [
       "array([0, 1, 2, 3], dtype=uint8)"
      ]
     },
     "metadata": {},
     "output_type": "display_data"
    }
   ],
   "source": [
    "display(arr_2D)\n",
    "print(\"-\"*50)\n",
    "\n",
    "cond = arr_2D <= 3\n",
    "display(cond)\n",
    "display(arr_2D[cond])"
   ]
  },
  {
   "cell_type": "markdown",
   "id": "e900ee7f-a0a2-4835-8eed-766762e6de76",
   "metadata": {},
   "source": [
    "#### And / Or / Not"
   ]
  },
  {
   "cell_type": "code",
   "execution_count": 44,
   "id": "61ca9af8-719f-41f2-836d-1698979f4453",
   "metadata": {},
   "outputs": [
    {
     "data": {
      "text/plain": [
       "array([[0, 1, 2],\n",
       "       [3, 4, 5]], dtype=uint8)"
      ]
     },
     "metadata": {},
     "output_type": "display_data"
    },
    {
     "name": "stdout",
     "output_type": "stream",
     "text": [
      "--------------------------------------------------\n"
     ]
    },
    {
     "data": {
      "text/plain": [
       "array([0, 1, 5], dtype=uint8)"
      ]
     },
     "metadata": {},
     "output_type": "display_data"
    },
    {
     "data": {
      "text/plain": [
       "array([], dtype=uint8)"
      ]
     },
     "metadata": {},
     "output_type": "display_data"
    },
    {
     "data": {
      "text/plain": [
       "array([2, 3, 4, 5], dtype=uint8)"
      ]
     },
     "metadata": {},
     "output_type": "display_data"
    }
   ],
   "source": [
    "display(arr_2D)\n",
    "print(\"-\"*50)\n",
    "cond = arr_2D < 2\n",
    "cond2 = arr_2D > 4\n",
    "\n",
    "cond3 = ~cond                 ## Not\n",
    "\n",
    "display(arr_2D[cond | cond2]) ## Or\n",
    "display(arr_2D[cond & cond2]) ## And\n",
    "\n",
    "display(arr_2D[cond3])"
   ]
  },
  {
   "cell_type": "markdown",
   "id": "5e0faa29-0d2e-46be-a717-ca07e7eefba3",
   "metadata": {},
   "source": [
    "#### In"
   ]
  },
  {
   "cell_type": "code",
   "execution_count": 45,
   "id": "de3ad4ff",
   "metadata": {},
   "outputs": [
    {
     "data": {
      "text/plain": [
       "array(['a', 'b', 'c', 'd', 'e'], dtype='<U1')"
      ]
     },
     "metadata": {},
     "output_type": "display_data"
    },
    {
     "name": "stdout",
     "output_type": "stream",
     "text": [
      "--------------------------------------------------\n"
     ]
    },
    {
     "data": {
      "text/plain": [
       "array([ True, False,  True, False, False])"
      ]
     },
     "metadata": {},
     "output_type": "display_data"
    },
    {
     "data": {
      "text/plain": [
       "array(['a', 'c'], dtype='<U1')"
      ]
     },
     "metadata": {},
     "output_type": "display_data"
    },
    {
     "data": {
      "text/plain": [
       "array([0, 2])"
      ]
     },
     "metadata": {},
     "output_type": "display_data"
    }
   ],
   "source": [
    "cond_ac = np.isin(arr_a,[\"a\", \"c\"])\n",
    "display(arr_a)\n",
    "print(\"-\"*50)\n",
    "display(cond_ac)\n",
    "display(arr_a[cond_ac]) ## Using position where true \n",
    "                        ## to select values from SAME array\n",
    "\n",
    "display(arr_1[cond_ac]) ## Using position where true \n",
    "                        ## to select values from OTHER array"
   ]
  },
  {
   "cell_type": "markdown",
   "id": "23240817-56d1-44cc-a558-781d47fb12e7",
   "metadata": {},
   "source": [
    "#### Mind the shape / size"
   ]
  },
  {
   "cell_type": "code",
   "execution_count": 46,
   "id": "c6ed0aa9",
   "metadata": {},
   "outputs": [
    {
     "name": "stdout",
     "output_type": "stream",
     "text": [
      "boolean index did not match indexed array along dimension 0; dimension is 2 but corresponding boolean dimension is 5\n"
     ]
    }
   ],
   "source": [
    "try:\n",
    "    arr_2D[cond_ac]\n",
    "except Exception as err:\n",
    "    print(err)"
   ]
  },
  {
   "cell_type": "code",
   "execution_count": 47,
   "id": "609eb234",
   "metadata": {},
   "outputs": [
    {
     "data": {
      "text/plain": [
       "array([ True, False,  True])"
      ]
     },
     "metadata": {},
     "output_type": "display_data"
    },
    {
     "name": "stdout",
     "output_type": "stream",
     "text": [
      "--------------------------------------------------\n"
     ]
    },
    {
     "data": {
      "text/plain": [
       "array([[0, 1, 2],\n",
       "       [3, 4, 5]], dtype=uint8)"
      ]
     },
     "metadata": {},
     "output_type": "display_data"
    },
    {
     "data": {
      "text/plain": [
       "array([[0, 2],\n",
       "       [3, 5]], dtype=uint8)"
      ]
     },
     "metadata": {},
     "output_type": "display_data"
    }
   ],
   "source": [
    "cond_3 = cond_ac[:3]\n",
    "display(cond_3)\n",
    "print(\"-\"*50)\n",
    "display(arr_2D)\n",
    "display(arr_2D[:,cond_3])"
   ]
  },
  {
   "cell_type": "markdown",
   "id": "e451d5e8",
   "metadata": {},
   "source": [
    "### Where function"
   ]
  },
  {
   "cell_type": "code",
   "execution_count": 48,
   "id": "91c846e1",
   "metadata": {},
   "outputs": [
    {
     "data": {
      "text/plain": [
       "array([[ 0,  1,  2],\n",
       "       [30, 40, 50]], dtype=uint8)"
      ]
     },
     "execution_count": 48,
     "metadata": {},
     "output_type": "execute_result"
    }
   ],
   "source": [
    "np.where(arr_2D < 3, arr_2D, 10 * arr_2D) ## Condition, result if True, result if False\n",
    "                                          ## Faster than loop + if-else"
   ]
  },
  {
   "cell_type": "markdown",
   "id": "7605e45f",
   "metadata": {},
   "source": [
    "### Argmax & Argmin"
   ]
  },
  {
   "cell_type": "code",
   "execution_count": 49,
   "id": "0bb4fdff",
   "metadata": {},
   "outputs": [
    {
     "data": {
      "text/plain": [
       "array([[5, 6, 5],\n",
       "       [1, 5, 5]])"
      ]
     },
     "metadata": {},
     "output_type": "display_data"
    },
    {
     "name": "stdout",
     "output_type": "stream",
     "text": [
      "--------------------------------------------------\n"
     ]
    },
    {
     "data": {
      "text/plain": [
       "1"
      ]
     },
     "metadata": {},
     "output_type": "display_data"
    },
    {
     "data": {
      "text/plain": [
       "array([0, 0], dtype=int64)"
      ]
     },
     "metadata": {},
     "output_type": "display_data"
    },
    {
     "data": {
      "text/plain": [
       "array([[0, 0, 0]], dtype=int64)"
      ]
     },
     "metadata": {},
     "output_type": "display_data"
    }
   ],
   "source": [
    "arr_rdm = np.random.randint(0,10,6).reshape(2,3)\n",
    "display(arr_rdm)\n",
    "print(\"-\"*50)\n",
    "\n",
    "display(np.argmax(arr_rdm))           ## Return position of max\n",
    "display(np.argmin(arr_rdm, axis = 1)) ## Search along level/axis = 1\n",
    "\n",
    "display(np.argmax(arr_rdm, axis = 0, keepdims = True)) "
   ]
  },
  {
   "cell_type": "markdown",
   "id": "2b6b37c7",
   "metadata": {},
   "source": [
    "### Copy *vs.* View"
   ]
  },
  {
   "cell_type": "code",
   "execution_count": 50,
   "id": "cda4166d",
   "metadata": {},
   "outputs": [
    {
     "name": "stdout",
     "output_type": "stream",
     "text": [
      "original\n"
     ]
    },
    {
     "data": {
      "text/plain": [
       "array([[6, 1, 1],\n",
       "       [9, 1, 1]])"
      ]
     },
     "metadata": {},
     "output_type": "display_data"
    },
    {
     "name": "stdout",
     "output_type": "stream",
     "text": [
      "--------------------------------------------------\n"
     ]
    },
    {
     "data": {
      "text/plain": [
       "array([[99,  1],\n",
       "       [ 9,  1]])"
      ]
     },
     "metadata": {},
     "output_type": "display_data"
    },
    {
     "data": {
      "text/plain": [
       "array([[99,  1,  1],\n",
       "       [ 9,  1,  1]])"
      ]
     },
     "metadata": {},
     "output_type": "display_data"
    }
   ],
   "source": [
    "print(\"original\")\n",
    "arr_rdm = np.random.randint(0,10,6).reshape(2,3)\n",
    "display(arr_rdm)\n",
    "print(\"-\"*50)\n",
    "\n",
    "arr_rdm_view = arr_rdm[:2,:2]\n",
    "arr_rdm_view[0,0] = 99\n",
    "display(arr_rdm_view)\n",
    "display(arr_rdm)"
   ]
  },
  {
   "cell_type": "code",
   "execution_count": 51,
   "id": "aeea3f79",
   "metadata": {},
   "outputs": [
    {
     "data": {
      "text/plain": [
       "array([[-99,   1],\n",
       "       [  9,   1]])"
      ]
     },
     "metadata": {},
     "output_type": "display_data"
    },
    {
     "data": {
      "text/plain": [
       "array([[99,  1,  1],\n",
       "       [ 9,  1,  1]])"
      ]
     },
     "metadata": {},
     "output_type": "display_data"
    }
   ],
   "source": [
    "arr_rdm_copy = arr_rdm[:2,:2].copy()\n",
    "arr_rdm_copy[0,0] = -99\n",
    "display(arr_rdm_copy)\n",
    "display(arr_rdm)"
   ]
  },
  {
   "cell_type": "markdown",
   "id": "74840876",
   "metadata": {},
   "source": [
    "<a id = \"agg\"></a>\n",
    "\n",
    "# Aggregations\n",
    "\n",
    "[toc](#toc)\n",
    "\n",
    "https://numpy.org/doc/stable/reference/routines.math.html"
   ]
  },
  {
   "cell_type": "markdown",
   "id": "9ae8172d",
   "metadata": {},
   "source": [
    "### sum, mean, std, cumsum,..."
   ]
  },
  {
   "cell_type": "code",
   "execution_count": 52,
   "id": "096340c5",
   "metadata": {},
   "outputs": [
    {
     "data": {
      "text/plain": [
       "array([[ 0,  1,  2,  3],\n",
       "       [ 4,  5,  6,  7],\n",
       "       [ 8,  9, 10, 11]])"
      ]
     },
     "metadata": {},
     "output_type": "display_data"
    },
    {
     "name": "stdout",
     "output_type": "stream",
     "text": [
      "--------------------------------------------------\n",
      "66\n"
     ]
    },
    {
     "data": {
      "text/plain": [
       "array([[4., 5., 6., 7.]])"
      ]
     },
     "metadata": {},
     "output_type": "display_data"
    },
    {
     "data": {
      "text/plain": [
       "array([[1.5],\n",
       "       [5.5],\n",
       "       [9.5]])"
      ]
     },
     "metadata": {},
     "output_type": "display_data"
    }
   ],
   "source": [
    "arr_arg = np.arange(0,12).reshape(3,4)\n",
    "display(arr_arg)\n",
    "\n",
    "print(\"-\"*50)\n",
    "\n",
    "print(np.sum(arr_arg))\n",
    "display(np.mean(arr_arg, axis = 0, keepdims = True)) ## Mean along specific axis\n",
    "display(arr_arg.mean(axis = 1, keepdims = True))     ## Mean along specific axis"
   ]
  },
  {
   "cell_type": "markdown",
   "id": "14260b43",
   "metadata": {},
   "source": [
    "### NaN"
   ]
  },
  {
   "cell_type": "code",
   "execution_count": 53,
   "id": "1862255c",
   "metadata": {},
   "outputs": [
    {
     "name": "stdout",
     "output_type": "stream",
     "text": [
      "nan\n",
      "<class 'float'>\n"
     ]
    },
    {
     "data": {
      "text/plain": [
       "array([[ 0.,  1.,  2., nan],\n",
       "       [ 3.,  4.,  5.,  6.]])"
      ]
     },
     "metadata": {},
     "output_type": "display_data"
    }
   ],
   "source": [
    "print(np.nan)\n",
    "print(type(np.nan))\n",
    "\n",
    "arr_nan = np.array([[0,1,2,np.nan],[3,4,5,6]])\n",
    "\n",
    "display(arr_nan)"
   ]
  },
  {
   "cell_type": "code",
   "execution_count": 54,
   "id": "57d611be",
   "metadata": {},
   "outputs": [
    {
     "name": "stdout",
     "output_type": "stream",
     "text": [
      "nan\n",
      "nan\n"
     ]
    }
   ],
   "source": [
    "print(np.sum(arr_nan))  ## Sum not defined with nan\n",
    "print(np.mean(arr_nan)) ## Mean not defined with nan"
   ]
  },
  {
   "cell_type": "code",
   "execution_count": 55,
   "id": "3af48e66-2def-42a3-be09-d5e243f4f69a",
   "metadata": {},
   "outputs": [
    {
     "name": "stdout",
     "output_type": "stream",
     "text": [
      "[nan 18.]\n",
      "[1.5 2.5 3.5 nan]\n"
     ]
    }
   ],
   "source": [
    "print(np.sum(arr_nan, axis = 1))  ## Where nan encountered -> nan value\n",
    "print(np.mean(arr_nan, axis = 0))"
   ]
  },
  {
   "cell_type": "markdown",
   "id": "2da18805",
   "metadata": {},
   "source": [
    "### nansum, nanmean"
   ]
  },
  {
   "cell_type": "code",
   "execution_count": 56,
   "id": "cbd35893",
   "metadata": {},
   "outputs": [
    {
     "name": "stdout",
     "output_type": "stream",
     "text": [
      "21.0\n",
      "3.0\n"
     ]
    }
   ],
   "source": [
    "print(np.nansum(arr_nan))  ## Ignoring nans\n",
    "print(np.nanmean(arr_nan)) ## Ignoring nans "
   ]
  },
  {
   "cell_type": "code",
   "execution_count": 57,
   "id": "0e99b721-9117-47a5-ab08-c05b1134c9ec",
   "metadata": {},
   "outputs": [
    {
     "name": "stdout",
     "output_type": "stream",
     "text": [
      "[ 3. 18.]\n",
      "[1.5 2.5 3.5 6. ]\n"
     ]
    }
   ],
   "source": [
    "print(np.nansum(arr_nan, axis = 1))  \n",
    "print(np.nanmean(arr_nan, axis = 0))"
   ]
  },
  {
   "cell_type": "markdown",
   "id": "dfe55b91-a49a-4a72-9fbf-d913c5a52e2c",
   "metadata": {},
   "source": [
    "## Ufunc: universal functions\n",
    "\n",
    "https://numpy.org/doc/stable/reference/ufuncs.html#ufuncs"
   ]
  },
  {
   "cell_type": "code",
   "execution_count": 58,
   "id": "7bafb385-b10f-4cce-9050-fa62b249f70b",
   "metadata": {},
   "outputs": [
    {
     "name": "stdout",
     "output_type": "stream",
     "text": [
      "1.0\n",
      "--------------------------------------------------\n",
      "[[  1.      2.719   7.39 ]\n",
      " [ 20.08   54.6   148.4  ]]\n"
     ]
    }
   ],
   "source": [
    "print(np.exp(0)) ## Exponential e**(x)\n",
    "print(\"-\"*50)\n",
    "print(np.exp(arr_2D))"
   ]
  },
  {
   "cell_type": "markdown",
   "id": "f05cf863-2492-4da4-9789-42c96c4b83ca",
   "metadata": {},
   "source": [
    "<a id = \"concat\"></a>\n",
    "\n",
    "# Concatenate & restructure\n",
    "\n",
    "[toc](#toc)"
   ]
  },
  {
   "cell_type": "markdown",
   "id": "30e81d40-3749-4e16-8b67-cb86011d4253",
   "metadata": {},
   "source": [
    "## concatenate"
   ]
  },
  {
   "cell_type": "code",
   "execution_count": 59,
   "id": "c52c9c39-ea15-4cbb-aee9-2b400db84ba8",
   "metadata": {},
   "outputs": [
    {
     "data": {
      "text/plain": [
       "array([0, 1, 2, 3, 4])"
      ]
     },
     "metadata": {},
     "output_type": "display_data"
    },
    {
     "data": {
      "text/plain": [
       "array([12, 10,  8,  6,  4])"
      ]
     },
     "metadata": {},
     "output_type": "display_data"
    },
    {
     "name": "stdout",
     "output_type": "stream",
     "text": [
      "--------------------------------------------------\n"
     ]
    },
    {
     "data": {
      "text/plain": [
       "array([ 0,  1,  2,  3,  4, 12, 10,  8,  6,  4,  0,  1,  2,  3,  4])"
      ]
     },
     "metadata": {},
     "output_type": "display_data"
    },
    {
     "data": {
      "text/plain": [
       "array([[ 0,  1,  2,  3,  4],\n",
       "       [12, 10,  8,  6,  4],\n",
       "       [ 0,  1,  2,  3,  4]])"
      ]
     },
     "metadata": {},
     "output_type": "display_data"
    },
    {
     "data": {
      "text/plain": [
       "array([[ 0, 12,  0],\n",
       "       [ 1, 10,  1],\n",
       "       [ 2,  8,  2],\n",
       "       [ 3,  6,  3],\n",
       "       [ 4,  4,  4]])"
      ]
     },
     "metadata": {},
     "output_type": "display_data"
    }
   ],
   "source": [
    "display(arr_1)\n",
    "display(arr_2)\n",
    "\n",
    "print(\"-\"*50)\n",
    "display(np.concatenate([arr_1, arr_2, arr_1]))\n",
    "\n",
    "arr_concat = np.concatenate([arr_1.reshape(1,-1),\n",
    "                             arr_2.reshape(1,-1),\n",
    "                             arr_1.reshape(1,-1)\n",
    "                             ],\n",
    "                            axis = 0\n",
    "                            )\n",
    "\n",
    "display(arr_concat)\n",
    "\n",
    "display(np.concatenate([arr_1.reshape(-1,1),\n",
    "                        arr_2.reshape(-1,1),\n",
    "                        arr_1.reshape(-1,1)\n",
    "                        ],\n",
    "                       axis = 1))"
   ]
  },
  {
   "cell_type": "markdown",
   "id": "66068aee-1321-45c5-af2d-0f5405840e08",
   "metadata": {},
   "source": [
    "## transpose"
   ]
  },
  {
   "cell_type": "code",
   "execution_count": 60,
   "id": "4fbefe3a-e97e-42d4-bf5a-ad93846e5a7b",
   "metadata": {},
   "outputs": [
    {
     "data": {
      "text/plain": [
       "array([[0, 1, 2],\n",
       "       [3, 4, 5]], dtype=uint8)"
      ]
     },
     "metadata": {},
     "output_type": "display_data"
    },
    {
     "data": {
      "text/plain": [
       "array([[0, 3],\n",
       "       [1, 4],\n",
       "       [2, 5]], dtype=uint8)"
      ]
     },
     "metadata": {},
     "output_type": "display_data"
    },
    {
     "data": {
      "text/plain": [
       "array([[0, 3],\n",
       "       [1, 4],\n",
       "       [2, 5]], dtype=uint8)"
      ]
     },
     "execution_count": 60,
     "metadata": {},
     "output_type": "execute_result"
    }
   ],
   "source": [
    "display(arr_2D)\n",
    "display(arr_2D.T)\n",
    "np.transpose(arr_2D, axes = [1,0])"
   ]
  },
  {
   "cell_type": "markdown",
   "id": "7c42101c-d45d-4e60-8fea-5bb1c9243ae4",
   "metadata": {},
   "source": [
    "# Other functions"
   ]
  },
  {
   "cell_type": "code",
   "execution_count": 61,
   "id": "fdb56257-935c-42ae-85b3-82cd208f29bb",
   "metadata": {},
   "outputs": [
    {
     "data": {
      "text/plain": [
       "array([0, 1, 2])"
      ]
     },
     "metadata": {},
     "output_type": "display_data"
    }
   ],
   "source": [
    "display(np.unique([0,1,1,2,2]))"
   ]
  },
  {
   "cell_type": "markdown",
   "id": "4d18cc9f",
   "metadata": {},
   "source": [
    "<a id = \"la\"></a>\n",
    "\n",
    "# Matrices & linear algebra\n",
    "\n",
    "[toc](#toc)\n",
    "\n",
    "- Vectors\n",
    "- Matrices\n",
    "- Rotation\n",
    "- Inner product\n",
    "- Einsum\n",
    "\n",
    "https://numpy.org/doc/stable/reference/routines.linalg.html"
   ]
  },
  {
   "cell_type": "markdown",
   "id": "8c61c871-e1f5-4651-b428-4bfa76f873b7",
   "metadata": {},
   "source": [
    "## Vectors\n",
    "\n",
    "if A, B are (2D) vectors\n",
    "\n",
    "$\n",
    "A = \n",
    "\\begin{bmatrix}\n",
    "    a_0 \\\\\n",
    "    a_1 \n",
    "\\end{bmatrix},\n",
    "\n",
    "B = \n",
    "\\begin{bmatrix}\n",
    "    b_0 \\\\\n",
    "    b_1 \n",
    "\\end{bmatrix}\n",
    "$ \n",
    "\n",
    "$\n",
    "C = \\alpha \\cdot A + \\beta \\cdot B \n",
    "\\\\ = \\alpha \\cdot \\begin{bmatrix}\n",
    "    a_0 \\\\\n",
    "    a_1 \n",
    "\\end{bmatrix} + \n",
    "\\beta \\cdot \\begin{bmatrix}\n",
    "    b_0 \\\\\n",
    "    b_1 \n",
    "\\end{bmatrix}\n",
    "\\\\ = \\begin{bmatrix}\n",
    "    \\alpha \\cdot a_0 \\\\\n",
    "    \\alpha \\cdot a_1 \n",
    "\\end{bmatrix} + \n",
    "\\begin{bmatrix}\n",
    "    \\beta \\cdot b_0 \\\\\n",
    "    \\beta \\cdot b_1 \n",
    "\\end{bmatrix}\n",
    "\\\\ = \\begin{bmatrix}\n",
    "    \\alpha \\cdot a_0 + \\beta \\cdot b_0 \\\\\n",
    "    \\alpha \\cdot a_1 + \\beta \\cdot b_1 \n",
    "\\end{bmatrix}\n",
    "\\\\ = \\begin{bmatrix}\n",
    "    c_0 \\\\\n",
    "    c_1 \n",
    "\\end{bmatrix} \n",
    "$ \n",
    "\n",
    "then C is also a vector\n",
    "\n",
    "Example:\n",
    "\n",
    "$\n",
    "E = \n",
    "\\begin{bmatrix}\n",
    "    1 \\\\\n",
    "    0 \n",
    "\\end{bmatrix},\n",
    "\n",
    "F = \n",
    "\\begin{bmatrix}\n",
    "    0 \\\\\n",
    "    1 \n",
    "\\end{bmatrix}\n",
    "$\n",
    "\n",
    "$ G = 0.5 \\cdot E + 3 \\cdot F = \\begin{bmatrix}\n",
    "    0.5 \\\\\n",
    "    3 \n",
    "\\end{bmatrix}\n",
    "$"
   ]
  },
  {
   "cell_type": "code",
   "execution_count": 62,
   "id": "f9631294-2ed3-4cb9-b517-df1462d3eb33",
   "metadata": {},
   "outputs": [
    {
     "data": {
      "text/plain": [
       "array([0.5, 3. ])"
      ]
     },
     "execution_count": 62,
     "metadata": {},
     "output_type": "execute_result"
    }
   ],
   "source": [
    "E = np.array([1,0]) \n",
    "F = np.array([0,1])\n",
    "G = 0.5 * E + 3 * F ## Numpy arrays are like vectors (but also more: see broadcasting)\n",
    "G"
   ]
  },
  {
   "cell_type": "markdown",
   "id": "66ddde5a-3734-4b18-8b6b-88ef4ecd5dfb",
   "metadata": {},
   "source": [
    "## Matrices\n",
    "\n",
    "a matrix is $N_1$x$N_2$-dimension vector\n",
    "\n",
    "here M,N are 2x2 matrices\n",
    "\n",
    "$\n",
    "M = \\begin{bmatrix}\n",
    "    m_{00} & m_{01} \\\\\n",
    "    m_{10} & m_{11}\n",
    "\\end{bmatrix},\n",
    "N = \\begin{bmatrix}\n",
    "    n_{00} & n_{01} \\\\\n",
    "    n_{10} & n_{11}\n",
    "\\end{bmatrix}\n",
    "$\n",
    "\n",
    "$\n",
    "M+\\gamma \\cdot N = \n",
    "\\begin{bmatrix}\n",
    "    m_{00} & m_{01}\\\\\n",
    "    m_{10} & m_{11}\n",
    "\\end{bmatrix} + \\gamma \\cdot \\begin{bmatrix}\n",
    "    n_{00} & n_{01}\\\\\n",
    "    n_{10} & n_{11}\n",
    "\\end{bmatrix} = \n",
    "\\begin{bmatrix}\n",
    "    m_{00} + \\gamma \\cdot n_{00} & m_{01} + \\gamma \\cdot n_{01}\\\\\n",
    "    m_{10} + \\gamma \\cdot n_{10} & m_{11} + \\gamma \\cdot n_{11}\n",
    "\\end{bmatrix} \n",
    "$"
   ]
  },
  {
   "cell_type": "code",
   "execution_count": 63,
   "id": "c53f663a-a743-4973-ac83-32c3e9fd9f22",
   "metadata": {},
   "outputs": [
    {
     "data": {
      "text/plain": [
       "array([[0.4, 5. ],\n",
       "       [2. , 3.9]])"
      ]
     },
     "execution_count": 63,
     "metadata": {},
     "output_type": "execute_result"
    }
   ],
   "source": [
    "H = np.array([[0.5, 5 ],[2,4]])\n",
    "I = np.array([[1,0],[0,1]])\n",
    "\n",
    "H-0.1 * I"
   ]
  },
  {
   "cell_type": "markdown",
   "id": "c967840e-880e-42da-b3b3-9e6fead51304",
   "metadata": {},
   "source": [
    "### Matrix as transformation for vectors and dot product\n",
    "\n",
    "One can look at matrices as translators of vectors: they can map one vector to another.\n",
    "\n",
    "![](static/mapping_A_B.png)\n",
    "\n",
    "We need 4 values to be able to express a (linear) relation between all ${a_{i}}$ and all ${b_{j}}$ \n",
    "\n",
    "This transformation is expressed by the **\"dot-product\"** between matrices (or vectors)\n",
    "\n",
    "$ B = W \\cdot A = \\begin{bmatrix}\n",
    "    w_{00} & w_{01} \\\\\n",
    "    w_{10} & w_{11}\n",
    "\\end{bmatrix} \\cdot\n",
    "\\begin{bmatrix}\n",
    "    a_0 \\\\\n",
    "    a_1 \n",
    "\\end{bmatrix} =\n",
    "\\begin{bmatrix}\n",
    "    w_{00} \\cdot a_0 + w_{01} \\cdot a_1 \\\\\n",
    "    w_{10} \\cdot a_0 + w_{11} \\cdot a_1 \n",
    "\\end{bmatrix} =\n",
    "\\begin{bmatrix}\n",
    "    b_0 \\\\\n",
    "    b_1 \n",
    "\\end{bmatrix}\n",
    "$ \n",
    "\n",
    "$w_{00}$ = how much of $a_0$ is transferred to $b_{0}$  \n",
    "$w_{01}$ = how much of $a_1$ is transferred to $b_{0}$  \n",
    "..."
   ]
  },
  {
   "cell_type": "markdown",
   "id": "a9b8e6ae-e357-4c07-bfb6-50250a361b3d",
   "metadata": {},
   "source": [
    "#### Example\n",
    "\n",
    "$R = \\begin{bmatrix}\n",
    "    1 \\\\\n",
    "    0 \n",
    "\\end{bmatrix} = [\\rightarrow]$, \n",
    "$U  = \\begin{bmatrix}\n",
    "    0 \\\\\n",
    "    1 \n",
    "\\end{bmatrix} = [\\uparrow] $,\n",
    "$L = \\begin{bmatrix}\n",
    "    -1 \\\\\n",
    "    0 \n",
    "\\end{bmatrix} = [\\leftarrow] $, \n",
    "$ D = \\begin{bmatrix}\n",
    "    0 \\\\\n",
    "    -1 \n",
    "\\end{bmatrix} = [\\downarrow] $\n",
    "\n",
    "If we want to a transformation that cycles R,U,L,D,R,..\n",
    "\n",
    "This can be done with the (counter-clockwise) rotation matrix W:  \n",
    "$ W = \\begin{bmatrix}\n",
    "    0 & -1 \\\\\n",
    "    1 & 0 \n",
    "\\end{bmatrix}$"
   ]
  },
  {
   "cell_type": "code",
   "execution_count": 64,
   "id": "b752bb85-2575-48da-b51f-d9a8cbec4539",
   "metadata": {},
   "outputs": [
    {
     "name": "stdout",
     "output_type": "stream",
     "text": [
      "[0 1]\n",
      "--------------------------------------------------\n",
      "[ True  True]\n",
      "True\n"
     ]
    }
   ],
   "source": [
    "R = np.array([1,0])\n",
    "U = np.array([0,1])\n",
    "L = -R\n",
    "D = -U\n",
    "\n",
    "W = np.array([[0,-1],[1,0]])\n",
    "\n",
    "print(np.dot(W,R)) ## dot product\n",
    "print(\"-\"*50)\n",
    "print(U == np.dot(W,R))\n",
    "print(np.all(U == np.dot(W,R)))"
   ]
  },
  {
   "cell_type": "markdown",
   "id": "a8a951f6-b6ab-4153-8b35-017b18d9245f",
   "metadata": {},
   "source": [
    "### Euclidean distance with dot product\n",
    "\n",
    "It is possible to calculate the (Euclidean) distance between 2 vectors with dot product:\n",
    "\n",
    "distance_square = $||A - B||^2 = (a_0 - b_0)^2 + (a_1 - b_1)^2$ = $u_0^2 + u_1^2$  \n",
    "\n",
    "(set $u_i= (a_i - b_i)$ for convenience)\n",
    "\n",
    "$(A - B)^T \\cdot (A - B) = \\begin{bmatrix}\n",
    "    (a_0 - b_0) & (a_1 - b_1)\n",
    "\\end{bmatrix} \\cdot \\begin{bmatrix}\n",
    "    (a_0 - b_0) \\\\\n",
    "    (a_1 - b_1) \n",
    "\\end{bmatrix} = \\begin{bmatrix}\n",
    "    u_0 & u_1 \\\\\n",
    "\\end{bmatrix} \\cdot \\begin{bmatrix}\n",
    "    u_0 \\\\\n",
    "    u_1 \n",
    "\\end{bmatrix} = \\begin{bmatrix}\n",
    "    u_0 \\cdot u_0 + u_1 \\cdot u_1\n",
    "\\end{bmatrix} = u_0 ^2 + u_1^2 = ||A - B||^2$\n",
    "\n",
    "with $A^T = \\begin{bmatrix}\n",
    "    a_0 & a_1\n",
    "\\end{bmatrix} \n",
    "$ the transposed (flipped) matrix/vector of $A = \\begin{bmatrix}\n",
    "    a_0 \\\\\n",
    "    a_1 \n",
    "\\end{bmatrix} $"
   ]
  },
  {
   "cell_type": "code",
   "execution_count": 65,
   "id": "78f5158a-36df-4941-a087-cd84b7815783",
   "metadata": {},
   "outputs": [
    {
     "name": "stdout",
     "output_type": "stream",
     "text": [
      "[ 1 -1]\n",
      "[ 1 -1]\n",
      "--------------------------------------------------\n",
      "2\n",
      "1.4142135623730951\n"
     ]
    }
   ],
   "source": [
    "print((E - F))\n",
    "print((E - F).T)\n",
    "print(\"-\"*50)\n",
    "\n",
    "dist_E_F_square = np.dot((E - F).T, (E - F))\n",
    "dist_E_F = np.sqrt(dist_E_F_square)\n",
    "\n",
    "print (dist_E_F_square)\n",
    "print(dist_E_F)"
   ]
  }
 ],
 "metadata": {
  "kernelspec": {
   "display_name": "Python 3",
   "language": "python",
   "name": "python3"
  },
  "language_info": {
   "codemirror_mode": {
    "name": "ipython",
    "version": 3
   },
   "file_extension": ".py",
   "mimetype": "text/x-python",
   "name": "python",
   "nbconvert_exporter": "python",
   "pygments_lexer": "ipython3",
   "version": "3.12.0"
  }
 },
 "nbformat": 4,
 "nbformat_minor": 5
}
