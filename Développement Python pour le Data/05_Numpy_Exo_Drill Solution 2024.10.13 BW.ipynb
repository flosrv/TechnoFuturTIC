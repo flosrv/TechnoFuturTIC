{
 "cells": [
  {
   "cell_type": "markdown",
   "metadata": {},
   "source": [
    "# 100 Numpy Exercises\n",
    "\n",
    "This is a collection of exercises that have been collected in the numpy mailing list, on stack overflow\n",
    "and in the numpy documentation. The goal of this collection is to offer a quick reference for both old\n",
    "and new users but also to provide a set of exercises for those who teach."
   ]
  },
  {
   "cell_type": "markdown",
   "metadata": {},
   "source": [
    "#### 1. Import the numpy package under the name `np` (★☆☆)"
   ]
  },
  {
   "cell_type": "code",
   "execution_count": 2,
   "metadata": {},
   "outputs": [],
   "source": [
    "import numpy as np\n",
    "import random as rd"
   ]
  },
  {
   "cell_type": "markdown",
   "metadata": {},
   "source": [
    "#### 2. Print the numpy version and the configuration (★☆☆)"
   ]
  },
  {
   "cell_type": "code",
   "execution_count": 4,
   "metadata": {},
   "outputs": [
    {
     "data": {
      "text/plain": [
       "'1.24.3'"
      ]
     },
     "execution_count": 4,
     "metadata": {},
     "output_type": "execute_result"
    }
   ],
   "source": [
    "np.__version__"
   ]
  },
  {
   "cell_type": "markdown",
   "metadata": {},
   "source": [
    "#### 3. Create a null vector of size 10 (★☆☆)"
   ]
  },
  {
   "cell_type": "code",
   "execution_count": 340,
   "metadata": {},
   "outputs": [
    {
     "name": "stdout",
     "output_type": "stream",
     "text": [
      " [0. 0. 0. 0. 0. 0. 0. 0. 0. 0.] \n",
      " [0. 0. 0. 0. 0. 0. 0. 0. 0. 0.]\n"
     ]
    }
   ],
   "source": [
    "vec1 = np.zeros(10)\n",
    "vec2 = np.empty(10)\n",
    "print(\"\", vec1, \"\\n\", vec2)"
   ]
  },
  {
   "cell_type": "markdown",
   "metadata": {},
   "source": [
    "#### 4. How to find the memory size of any array (★☆☆)"
   ]
  },
  {
   "cell_type": "code",
   "execution_count": 11,
   "metadata": {},
   "outputs": [
    {
     "data": {
      "text/plain": [
       "80"
      ]
     },
     "execution_count": 11,
     "metadata": {},
     "output_type": "execute_result"
    }
   ],
   "source": [
    "vec1.nbytes"
   ]
  },
  {
   "cell_type": "markdown",
   "metadata": {},
   "source": [
    "#### 5. How to get the documentation of the numpy add function from the command line? (★☆☆)"
   ]
  },
  {
   "cell_type": "code",
   "execution_count": 14,
   "metadata": {},
   "outputs": [
    {
     "name": "stdout",
     "output_type": "stream",
     "text": [
      "add(x1, x2, /, out=None, *, where=True, casting='same_kind', order='K', dtype=None, subok=True[, signature, extobj])\n",
      "\n",
      "Add arguments element-wise.\n",
      "\n",
      "Parameters\n",
      "----------\n",
      "x1, x2 : array_like\n",
      "    The arrays to be added.\n",
      "    If ``x1.shape != x2.shape``, they must be broadcastable to a common\n",
      "    shape (which becomes the shape of the output).\n",
      "out : ndarray, None, or tuple of ndarray and None, optional\n",
      "    A location into which the result is stored. If provided, it must have\n",
      "    a shape that the inputs broadcast to. If not provided or None,\n",
      "    a freshly-allocated array is returned. A tuple (possible only as a\n",
      "    keyword argument) must have length equal to the number of outputs.\n",
      "where : array_like, optional\n",
      "    This condition is broadcast over the input. At locations where the\n",
      "    condition is True, the `out` array will be set to the ufunc result.\n",
      "    Elsewhere, the `out` array will retain its original value.\n",
      "    Note that if an uninitialized `out` array is created via the default\n",
      "    ``out=None``, locations within it where the condition is False will\n",
      "    remain uninitialized.\n",
      "**kwargs\n",
      "    For other keyword-only arguments, see the\n",
      "    :ref:`ufunc docs <ufuncs.kwargs>`.\n",
      "\n",
      "Returns\n",
      "-------\n",
      "add : ndarray or scalar\n",
      "    The sum of `x1` and `x2`, element-wise.\n",
      "    This is a scalar if both `x1` and `x2` are scalars.\n",
      "\n",
      "Notes\n",
      "-----\n",
      "Equivalent to `x1` + `x2` in terms of array broadcasting.\n",
      "\n",
      "Examples\n",
      "--------\n",
      ">>> np.add(1.0, 4.0)\n",
      "5.0\n",
      ">>> x1 = np.arange(9.0).reshape((3, 3))\n",
      ">>> x2 = np.arange(3.0)\n",
      ">>> np.add(x1, x2)\n",
      "array([[  0.,   2.,   4.],\n",
      "       [  3.,   5.,   7.],\n",
      "       [  6.,   8.,  10.]])\n",
      "\n",
      "The ``+`` operator can be used as a shorthand for ``np.add`` on ndarrays.\n",
      "\n",
      ">>> x1 = np.arange(9.0).reshape((3, 3))\n",
      ">>> x2 = np.arange(3.0)\n",
      ">>> x1 + x2\n",
      "array([[ 0.,  2.,  4.],\n",
      "       [ 3.,  5.,  7.],\n",
      "       [ 6.,  8., 10.]])\n"
     ]
    }
   ],
   "source": [
    "np.info(np.add)"
   ]
  },
  {
   "cell_type": "markdown",
   "metadata": {},
   "source": [
    "#### 6. Create a null vector of size 10 but the fifth value which is 1 (★☆☆)"
   ]
  },
  {
   "cell_type": "code",
   "execution_count": 16,
   "metadata": {},
   "outputs": [
    {
     "data": {
      "text/plain": [
       "array([0., 0., 0., 0., 1., 0., 0., 0., 0., 0.])"
      ]
     },
     "execution_count": 16,
     "metadata": {},
     "output_type": "execute_result"
    }
   ],
   "source": [
    "vec = np.zeros(10)\n",
    "vec[4] = 1\n",
    "vec"
   ]
  },
  {
   "cell_type": "markdown",
   "metadata": {},
   "source": [
    "#### 7. Create a vector with values ranging from 10 to 49 (★☆☆)"
   ]
  },
  {
   "cell_type": "code",
   "execution_count": 19,
   "metadata": {},
   "outputs": [
    {
     "data": {
      "text/plain": [
       "array([10, 11, 12, 13, 14, 15, 16, 17, 18, 19, 20, 21, 22, 23, 24, 25, 26,\n",
       "       27, 28, 29, 30, 31, 32, 33, 34, 35, 36, 37, 38, 39, 40, 41, 42, 43,\n",
       "       44, 45, 46, 47, 48, 49])"
      ]
     },
     "execution_count": 19,
     "metadata": {},
     "output_type": "execute_result"
    }
   ],
   "source": [
    "vec = np.arange(10, 50)\n",
    "vec"
   ]
  },
  {
   "cell_type": "markdown",
   "metadata": {},
   "source": [
    "#### 8. Reverse a vector (first element becomes last) (★☆☆)"
   ]
  },
  {
   "cell_type": "code",
   "execution_count": 21,
   "metadata": {},
   "outputs": [
    {
     "data": {
      "text/plain": [
       "array([20, 19, 18, 17, 16, 15, 14, 13, 12, 11, 10])"
      ]
     },
     "execution_count": 21,
     "metadata": {},
     "output_type": "execute_result"
    }
   ],
   "source": [
    "vec = np.arange(10, 21)\n",
    "vec = vec[::-1]\n",
    "vec"
   ]
  },
  {
   "cell_type": "markdown",
   "metadata": {},
   "source": [
    "#### 9. Create a 3x3 matrix with values ranging from 0 to 8 (★☆☆)"
   ]
  },
  {
   "cell_type": "code",
   "execution_count": 23,
   "metadata": {},
   "outputs": [
    {
     "data": {
      "text/plain": [
       "array([[0, 1, 2],\n",
       "       [3, 4, 5],\n",
       "       [6, 7, 8]])"
      ]
     },
     "execution_count": 23,
     "metadata": {},
     "output_type": "execute_result"
    }
   ],
   "source": [
    "Tab = np.arange(0,9).reshape(3,3)\n",
    "Tab"
   ]
  },
  {
   "cell_type": "markdown",
   "metadata": {},
   "source": [
    "#### 10. Find indices of non-zero elements from [1,2,0,0,4,0] (★☆☆)"
   ]
  },
  {
   "cell_type": "code",
   "execution_count": 342,
   "metadata": {},
   "outputs": [
    {
     "name": "stdout",
     "output_type": "stream",
     "text": [
      "(array([0, 1, 4], dtype=int64),)\n"
     ]
    }
   ],
   "source": [
    "vec = np.array([1,2,0,0,4,0])\n",
    "vec.nonzero()"
   ]
  },
  {
   "cell_type": "markdown",
   "metadata": {},
   "source": [
    "#### 11. Create a 3x3 identity matrix (★☆☆)"
   ]
  },
  {
   "cell_type": "code",
   "execution_count": 32,
   "metadata": {},
   "outputs": [
    {
     "name": "stdout",
     "output_type": "stream",
     "text": [
      "[[1. 0. 0.]\n",
      " [0. 1. 0.]\n",
      " [0. 0. 1.]]\n"
     ]
    }
   ],
   "source": [
    "Tab = np.identity(3)\n",
    "print(Tab)"
   ]
  },
  {
   "cell_type": "markdown",
   "metadata": {},
   "source": [
    "#### 12. Create a 3x3x3 array with random values (★☆☆)"
   ]
  },
  {
   "cell_type": "code",
   "execution_count": 56,
   "metadata": {},
   "outputs": [
    {
     "name": "stdout",
     "output_type": "stream",
     "text": [
      "[[[7072 1528 6209]\n",
      "  [4437 5882 7153]\n",
      "  [8007 7417 2099]]\n",
      "\n",
      " [[8922 3115 6946]\n",
      "  [5269 9866 6934]\n",
      "  [7353 2229 4311]]\n",
      "\n",
      " [[ 962 9209 4804]\n",
      "  [9353 3607 1387]\n",
      "  [7218  985 9331]]]\n"
     ]
    }
   ],
   "source": [
    "MultiTab = np.asarray(rd.sample(range(0, 10000), 27)).reshape(3,3,3)\n",
    "print(MultiTab)"
   ]
  },
  {
   "cell_type": "markdown",
   "metadata": {},
   "source": [
    "#### 13. Create a 10x10 array with random values and find the minimum and maximum values (★☆☆)"
   ]
  },
  {
   "cell_type": "code",
   "execution_count": 258,
   "metadata": {},
   "outputs": [
    {
     "name": "stdout",
     "output_type": "stream",
     "text": [
      "[[4184 7876 2246 9525 1297  738 4713 3207 2900 4141]\n",
      " [9074 8241 3655 7801 9610 9738 3318 1124 5244 8297]\n",
      " [7360 8293  190 6705 2779 1301 5084 2835 3477 5845]\n",
      " [5616 8744 7627 1240 6406 2494 6475 5402 3590 2715]\n",
      " [6139 8812 2496 9065 5234 3182 6405 8073 3877 2473]\n",
      " [7310 5856 8850 1650 5383 6834 8411 6067 3914 1973]\n",
      " [ 537 1761 2418 5434 9865 4879 3365 1739 5195 2178]\n",
      " [5562 7703 8166 5170 3790 8824 1715 2268 2977 6227]\n",
      " [8050 8570  535 9087 5916 5080 4327 2359 7794 8059]\n",
      " [2790 9653 1073 6781 8251  845 9110 8321 6361 7365]]\n",
      "9865 190\n"
     ]
    }
   ],
   "source": [
    "Tab = np.asarray(rd.sample(range(0, 10000), 100)).reshape(10,10)\n",
    "print(Tab)\n",
    "\n",
    "Max = np.max(Tab)\n",
    "Min = np.min(Tab)\n",
    "print(Max, Min)"
   ]
  },
  {
   "cell_type": "markdown",
   "metadata": {},
   "source": [
    "#### 14. Create a random vector of size 30 and find the mean value (★☆☆)"
   ]
  },
  {
   "cell_type": "code",
   "execution_count": 346,
   "metadata": {},
   "outputs": [
    {
     "name": "stdout",
     "output_type": "stream",
     "text": [
      " [7800 5059 7425  771 7236 1534 9883 6025 2949 5726 3474 2968 4407 5857\n",
      " 6620 9822  308 8720 3965 3131 9421 2995 4487  443 7639 4856 2225 4325\n",
      " 8829 6895] \n",
      " 5193.166666666667\n"
     ]
    }
   ],
   "source": [
    "vec = np.asarray(rd.sample(range(1, 10000), 30))\n",
    "\n",
    "Mean = np.mean(vec)\n",
    "print(\"\", vec, \"\\n\", Mean)"
   ]
  },
  {
   "cell_type": "markdown",
   "metadata": {},
   "source": [
    "#### 15. Create a 2d array with 1 on the border and 0 inside (★☆☆)"
   ]
  },
  {
   "cell_type": "code",
   "execution_count": 83,
   "metadata": {},
   "outputs": [
    {
     "data": {
      "text/plain": [
       "array([1., 0., 0., 0., 0., 0., 0., 0., 0., 0., 0., 0., 0., 0., 0., 0., 0.,\n",
       "       0., 0., 0., 0., 0., 0., 0., 1.])"
      ]
     },
     "execution_count": 83,
     "metadata": {},
     "output_type": "execute_result"
    }
   ],
   "source": [
    "Tab = np.zeros(25)\n",
    "Tab[[0, -1]] = 1\n",
    "Tab"
   ]
  },
  {
   "cell_type": "markdown",
   "metadata": {},
   "source": [
    "#### 16. How to add a border (filled with 0's) around an existing array? (★☆☆)"
   ]
  },
  {
   "cell_type": "code",
   "execution_count": 126,
   "metadata": {},
   "outputs": [
    {
     "data": {
      "text/plain": [
       "array([[0., 0., 0., 0., 0., 0., 0., 0., 0., 0., 0., 0.],\n",
       "       [0., 1., 1., 1., 1., 1., 1., 1., 1., 1., 1., 0.],\n",
       "       [0., 1., 1., 1., 1., 1., 1., 1., 1., 1., 1., 0.],\n",
       "       [0., 1., 1., 1., 1., 1., 1., 1., 1., 1., 1., 0.],\n",
       "       [0., 1., 1., 1., 1., 1., 1., 1., 1., 1., 1., 0.],\n",
       "       [0., 1., 1., 1., 1., 1., 1., 1., 1., 1., 1., 0.],\n",
       "       [0., 1., 1., 1., 1., 1., 1., 1., 1., 1., 1., 0.],\n",
       "       [0., 1., 1., 1., 1., 1., 1., 1., 1., 1., 1., 0.],\n",
       "       [0., 1., 1., 1., 1., 1., 1., 1., 1., 1., 1., 0.],\n",
       "       [0., 1., 1., 1., 1., 1., 1., 1., 1., 1., 1., 0.],\n",
       "       [0., 1., 1., 1., 1., 1., 1., 1., 1., 1., 1., 0.],\n",
       "       [0., 0., 0., 0., 0., 0., 0., 0., 0., 0., 0., 0.]])"
      ]
     },
     "execution_count": 126,
     "metadata": {},
     "output_type": "execute_result"
    }
   ],
   "source": [
    "def add_border_zero_padding(arr, border_width) :\n",
    "   height, width = arr.shape\n",
    "   new_height = height + 2 * border_width\n",
    "   new_width = width + 2 * border_width\n",
    "\n",
    "   new_arr = np.pad(arr, pad_width = border_width, mode = \"constant\")\n",
    "\n",
    "   return new_arr\n",
    "\n",
    "Tab = np.ones(100).reshape(10,10)\n",
    "Tab = add_border_zero_padding(Tab, 1)\n",
    "Tab"
   ]
  },
  {
   "cell_type": "markdown",
   "metadata": {},
   "source": [
    "#### 17. What is the result of the following expression? (★☆☆)\n",
    "```python\n",
    "0 * np.nan\n",
    "np.nan == np.nan\n",
    "np.inf > np.nan\n",
    "np.nan - np.nan\n",
    "np.nan in set([np.nan])\n",
    "0.3 == 3 * 0.1\n",
    "```"
   ]
  },
  {
   "cell_type": "code",
   "execution_count": 127,
   "metadata": {},
   "outputs": [
    {
     "data": {
      "text/plain": [
       "False"
      ]
     },
     "execution_count": 127,
     "metadata": {},
     "output_type": "execute_result"
    }
   ],
   "source": [
    "0 * np.nan\n",
    "np.nan == np.nan\n",
    "np.inf > np.nan\n",
    "np.nan - np.nan\n",
    "np.nan in set([np.nan])\n",
    "0.3 == 3 * 0.1"
   ]
  },
  {
   "cell_type": "markdown",
   "metadata": {},
   "source": [
    "#### 18. Create a 5x5 matrix with values 1,2,3,4 just below the diagonal (★☆☆)"
   ]
  },
  {
   "cell_type": "code",
   "execution_count": 188,
   "metadata": {},
   "outputs": [
    {
     "data": {
      "text/plain": [
       "array([[0., 0., 0., 0., 0.],\n",
       "       [1., 0., 0., 0., 0.],\n",
       "       [0., 2., 0., 0., 0.],\n",
       "       [0., 0., 3., 0., 0.],\n",
       "       [0., 0., 0., 4., 0.]])"
      ]
     },
     "execution_count": 188,
     "metadata": {},
     "output_type": "execute_result"
    }
   ],
   "source": [
    "Tab = np.zeros(25).reshape(5,5)\n",
    "Values = np.arange(1,5)\n",
    "Tab[1:2:,:1:], Tab[2:3:,1:2:], Tab[3:4:,2:3:], Tab[4:5:,3:4:] = Values\n",
    "Tab"
   ]
  },
  {
   "cell_type": "markdown",
   "metadata": {},
   "source": [
    "#### 19. Create a 8x8 matrix and fill it with a checkerboard pattern (★☆☆)"
   ]
  },
  {
   "cell_type": "code",
   "execution_count": 227,
   "metadata": {},
   "outputs": [
    {
     "data": {
      "text/plain": [
       "array([[1., 0., 1., 0., 1., 0., 1., 0.],\n",
       "       [0., 1., 0., 1., 0., 1., 0., 1.],\n",
       "       [1., 0., 1., 0., 1., 0., 1., 0.],\n",
       "       [0., 1., 0., 1., 0., 1., 0., 1.],\n",
       "       [1., 0., 1., 0., 1., 0., 1., 0.],\n",
       "       [0., 1., 0., 1., 0., 1., 0., 1.],\n",
       "       [1., 0., 1., 0., 1., 0., 1., 0.],\n",
       "       [0., 1., 0., 1., 0., 1., 0., 1.]])"
      ]
     },
     "execution_count": 227,
     "metadata": {},
     "output_type": "execute_result"
    }
   ],
   "source": [
    "Tab = np.zeros(64).reshape(8,8)\n",
    "Tab[::2,::2] = 1\n",
    "Tab[::-2,::-2] = 1\n",
    "Tab"
   ]
  },
  {
   "cell_type": "markdown",
   "metadata": {},
   "source": [
    "#### 20. Consider a (6,7,8) shape array, what is the index (x,y,z) of the 100th element?"
   ]
  },
  {
   "cell_type": "code",
   "execution_count": 232,
   "metadata": {},
   "outputs": [
    {
     "name": "stdout",
     "output_type": "stream",
     "text": [
      "[[[1. 1. 1. 1. 1. 1. 1. 1.]\n",
      "  [1. 1. 1. 1. 1. 1. 1. 1.]\n",
      "  [1. 1. 1. 1. 1. 1. 1. 1.]\n",
      "  [1. 1. 1. 1. 1. 1. 1. 1.]\n",
      "  [1. 1. 1. 1. 1. 1. 1. 1.]\n",
      "  [1. 1. 1. 1. 1. 1. 1. 1.]\n",
      "  [1. 1. 1. 1. 1. 1. 1. 1.]]\n",
      "\n",
      " [[1. 1. 1. 1. 1. 1. 1. 1.]\n",
      "  [1. 1. 1. 1. 1. 1. 1. 1.]\n",
      "  [1. 1. 1. 1. 1. 1. 1. 1.]\n",
      "  [1. 1. 1. 1. 1. 1. 1. 1.]\n",
      "  [1. 1. 1. 1. 1. 1. 1. 1.]\n",
      "  [1. 1. 1. 1. 1. 1. 1. 1.]\n",
      "  [1. 1. 1. 1. 1. 1. 1. 1.]]\n",
      "\n",
      " [[1. 1. 1. 1. 1. 1. 1. 1.]\n",
      "  [1. 1. 1. 1. 1. 1. 1. 1.]\n",
      "  [1. 1. 1. 1. 1. 1. 1. 1.]\n",
      "  [1. 1. 1. 1. 1. 1. 1. 1.]\n",
      "  [1. 1. 1. 1. 1. 1. 1. 1.]\n",
      "  [1. 1. 1. 1. 1. 1. 1. 1.]\n",
      "  [1. 1. 1. 1. 1. 1. 1. 1.]]\n",
      "\n",
      " [[1. 1. 1. 1. 1. 1. 1. 1.]\n",
      "  [1. 1. 1. 1. 1. 1. 1. 1.]\n",
      "  [1. 1. 1. 1. 1. 1. 1. 1.]\n",
      "  [1. 1. 1. 1. 1. 1. 1. 1.]\n",
      "  [1. 1. 1. 1. 1. 1. 1. 1.]\n",
      "  [1. 1. 1. 1. 1. 1. 1. 1.]\n",
      "  [1. 1. 1. 1. 1. 1. 1. 1.]]\n",
      "\n",
      " [[1. 1. 1. 1. 1. 1. 1. 1.]\n",
      "  [1. 1. 1. 1. 1. 1. 1. 1.]\n",
      "  [1. 1. 1. 1. 1. 1. 1. 1.]\n",
      "  [1. 1. 1. 1. 1. 1. 1. 1.]\n",
      "  [1. 1. 1. 1. 1. 1. 1. 1.]\n",
      "  [1. 1. 1. 1. 1. 1. 1. 1.]\n",
      "  [1. 1. 1. 1. 1. 1. 1. 1.]]\n",
      "\n",
      " [[1. 1. 1. 1. 1. 1. 1. 1.]\n",
      "  [1. 1. 1. 1. 1. 1. 1. 1.]\n",
      "  [1. 1. 1. 1. 1. 1. 1. 1.]\n",
      "  [1. 1. 1. 1. 1. 1. 1. 1.]\n",
      "  [1. 1. 1. 1. 1. 1. 1. 1.]\n",
      "  [1. 1. 1. 1. 1. 1. 1. 1.]\n",
      "  [1. 1. 1. 1. 1. 1. 1. 1.]]] \n",
      " (1, 5, 3)\n"
     ]
    }
   ],
   "source": [
    "MultiTab = np.ones(336).reshape(6,7,8)\n",
    "\n",
    "print(MultiTab, \"\\n\", np.unravel_index(99,(6,7,8)))"
   ]
  },
  {
   "cell_type": "markdown",
   "metadata": {},
   "source": [
    "#### 21. Create a checkerboard 8x8 matrix using the tile function (★☆☆)"
   ]
  },
  {
   "cell_type": "code",
   "execution_count": 244,
   "metadata": {},
   "outputs": [
    {
     "data": {
      "text/plain": [
       "array([[1, 0, 1, 0, 1, 0, 1, 0],\n",
       "       [0, 1, 0, 1, 0, 1, 0, 1],\n",
       "       [1, 0, 1, 0, 1, 0, 1, 0],\n",
       "       [0, 1, 0, 1, 0, 1, 0, 1],\n",
       "       [1, 0, 1, 0, 1, 0, 1, 0],\n",
       "       [0, 1, 0, 1, 0, 1, 0, 1],\n",
       "       [1, 0, 1, 0, 1, 0, 1, 0],\n",
       "       [0, 1, 0, 1, 0, 1, 0, 1]])"
      ]
     },
     "execution_count": 244,
     "metadata": {},
     "output_type": "execute_result"
    }
   ],
   "source": [
    "Tab = np.tile((np.tile((1,0), 4), np.tile((0,1), 4)), (4,1))\n",
    "Tab"
   ]
  },
  {
   "cell_type": "markdown",
   "metadata": {},
   "source": [
    "#### 22. Normalize a 5x5 random matrix (★☆☆)"
   ]
  },
  {
   "cell_type": "code",
   "execution_count": 267,
   "metadata": {},
   "outputs": [
    {
     "name": "stdout",
     "output_type": "stream",
     "text": [
      "[[ 4 11 19  8 22]\n",
      " [16  0  5  6 17]\n",
      " [14 18  2 10 23]\n",
      " [21  7  9 12 20]\n",
      " [ 3 13  1 15 24]]\n",
      "[[-0.83333333 -0.54166667 -0.20833333 -0.66666667 -0.08333333]\n",
      " [-0.33333333 -1.         -0.79166667 -0.75       -0.29166667]\n",
      " [-0.41666667 -0.25       -0.91666667 -0.58333333 -0.04166667]\n",
      " [-0.125      -0.70833333 -0.625      -0.5        -0.16666667]\n",
      " [-0.875      -0.45833333 -0.95833333 -0.375       0.        ]]\n"
     ]
    }
   ],
   "source": [
    "Tab = np.asarray(rd.sample(range(0, 25), 25)).reshape(5,5)\n",
    "print(Tab)\n",
    "\n",
    "Max = np.max(Tab)\n",
    "Min = np.min(Tab)\n",
    "\n",
    "Tab = (Tab - Max) / (Max - Min)\n",
    "print(Tab)"
   ]
  },
  {
   "cell_type": "markdown",
   "metadata": {},
   "source": [
    "#### 23. Create a custom dtype that describes a color as four unsigned bytes (RGBA) (★☆☆)"
   ]
  },
  {
   "cell_type": "code",
   "execution_count": 256,
   "metadata": {},
   "outputs": [
    {
     "name": "stderr",
     "output_type": "stream",
     "text": [
      "C:\\Users\\b.waterschoot\\AppData\\Local\\Temp\\ipykernel_608\\2911720781.py:1: FutureWarning: Passing (type, 1) or '1type' as a synonym of type is deprecated; in a future version of numpy, it will be understood as (type, (1,)) / '(1,)type'.\n",
      "  color = np.dtype([(\"r\", np.ubyte, 1),\n"
     ]
    }
   ],
   "source": [
    "color = np.dtype([(\"r\", np.ubyte, 1),\n",
    "                  (\"g\", np.ubyte, 1),\n",
    "                  (\"b\", np.ubyte, 1),\n",
    "                  (\"a\", np.ubyte, 1)])"
   ]
  },
  {
   "cell_type": "markdown",
   "metadata": {},
   "source": [
    "#### 24. Multiply a 5x3 matrix by a 3x2 matrix (real matrix product) (★☆☆)"
   ]
  },
  {
   "cell_type": "code",
   "execution_count": 265,
   "metadata": {},
   "outputs": [
    {
     "name": "stdout",
     "output_type": "stream",
     "text": [
      "[[77 96 62]\n",
      " [21 11 35]\n",
      " [ 3 10  4]\n",
      " [47 23 49]\n",
      " [76 14 98]] \n",
      " [[60 67]\n",
      " [47 82]\n",
      " [12 17]]\n",
      "[[ 9876 14085]\n",
      " [ 2197  2904]\n",
      " [  698  1089]\n",
      " [ 4489  5868]\n",
      " [ 6394  7906]]\n"
     ]
    }
   ],
   "source": [
    "Tab1 = np.asarray(rd.sample(range(0, 100), 15)).reshape(5,3)\n",
    "Tab2 = np.asarray(rd.sample(range(0, 100), 6)).reshape(3,2)\n",
    "print(Tab1, \"\\n\", Tab2)\n",
    "\n",
    "Tab3 = np.dot(Tab1, Tab2)\n",
    "print(Tab3)"
   ]
  },
  {
   "cell_type": "markdown",
   "metadata": {},
   "source": [
    "#### 25. Given a 1D array, negate all elements which are between 3 and 8, in place. (★☆☆)"
   ]
  },
  {
   "cell_type": "code",
   "execution_count": 277,
   "metadata": {},
   "outputs": [
    {
     "name": "stdout",
     "output_type": "stream",
     "text": [
      "[ 1 12 16 10  6 13  9  5 15  2  4 21  0  3 24]\n",
      "[ 1 12 16 10 -6 13  9 -5 15  2 -4 21  0  3 24]\n"
     ]
    }
   ],
   "source": [
    "vec = np.asarray(rd.sample(range(0, 25), 15))\n",
    "print(vec)\n",
    "\n",
    "vec[(3 < vec) & (vec <= 8)] *= -1\n",
    "print(vec)"
   ]
  },
  {
   "cell_type": "markdown",
   "metadata": {},
   "source": [
    "#### 26. What is the output of the following script? (★☆☆)\n",
    "```python\n",
    "# Author: Jake VanderPlas\n",
    "\n",
    "print(sum(range(5),-1))\n",
    "from numpy import *\n",
    "print(sum(range(5),-1))\n",
    "```"
   ]
  },
  {
   "cell_type": "code",
   "execution_count": 282,
   "metadata": {},
   "outputs": [
    {
     "name": "stdout",
     "output_type": "stream",
     "text": [
      "9\n"
     ]
    }
   ],
   "source": [
    "print(sum(range(5),-1))"
   ]
  },
  {
   "cell_type": "markdown",
   "metadata": {},
   "source": [
    "#### 27. Consider an integer vector Z, which of these expressions are legal? (★☆☆)\n",
    "```python\n",
    "Z**Z\n",
    "2 << Z >> 2\n",
    "Z <- Z\n",
    "1j*Z\n",
    "Z/1/1\n",
    "Z<Z>Z\n",
    "```"
   ]
  },
  {
   "cell_type": "code",
   "execution_count": null,
   "metadata": {},
   "outputs": [],
   "source": []
  },
  {
   "cell_type": "markdown",
   "metadata": {},
   "source": [
    "#### 28. What are the result of the following expressions?\n",
    "```python\n",
    "np.array(0) / np.array(0)\n",
    "np.array(0) // np.array(0)\n",
    "np.array([np.nan]).astype(int).astype(float)\n",
    "```"
   ]
  },
  {
   "cell_type": "code",
   "execution_count": 287,
   "metadata": {},
   "outputs": [
    {
     "name": "stderr",
     "output_type": "stream",
     "text": [
      "C:\\Users\\b.waterschoot\\AppData\\Local\\Temp\\ipykernel_608\\548293649.py:1: RuntimeWarning: invalid value encountered in divide\n",
      "  np.array(0) / np.array(0)\n",
      "C:\\Users\\b.waterschoot\\AppData\\Local\\Temp\\ipykernel_608\\548293649.py:2: RuntimeWarning: divide by zero encountered in floor_divide\n",
      "  np.array(0) // np.array(0)\n",
      "C:\\Users\\b.waterschoot\\AppData\\Local\\Temp\\ipykernel_608\\548293649.py:3: RuntimeWarning: invalid value encountered in cast\n",
      "  np.array([np.nan]).astype(int).astype(float)\n"
     ]
    },
    {
     "data": {
      "text/plain": [
       "array([-2.14748365e+09])"
      ]
     },
     "execution_count": 287,
     "metadata": {},
     "output_type": "execute_result"
    }
   ],
   "source": [
    "np.array(0) / np.array(0)\n",
    "np.array(0) // np.array(0)\n",
    "np.array([np.nan]).astype(int).astype(float)"
   ]
  },
  {
   "cell_type": "markdown",
   "metadata": {},
   "source": [
    "#### 29. How to round away from zero a float array ? (★☆☆)"
   ]
  },
  {
   "cell_type": "code",
   "execution_count": 290,
   "metadata": {},
   "outputs": [
    {
     "name": "stdout",
     "output_type": "stream",
     "text": [
      "[ 6.  4. -6.  3. -5. -1.  4. -1. -6. 10.]\n"
     ]
    }
   ],
   "source": [
    "vec = np.random.uniform(-10,+10,10)\n",
    "print(np.copysign(np.ceil(np.abs(vec)), vec))"
   ]
  },
  {
   "cell_type": "markdown",
   "metadata": {},
   "source": [
    "#### 30. How to find common values between two arrays? (★☆☆)"
   ]
  },
  {
   "cell_type": "code",
   "execution_count": 300,
   "metadata": {},
   "outputs": [
    {
     "name": "stdout",
     "output_type": "stream",
     "text": [
      " [1 0 3 0 4 8 0 8 0 7] \n",
      " [4 0 7 6 0 3 1 4 3 6] \n",
      " [0 1 3 4 7]\n"
     ]
    }
   ],
   "source": [
    "vec1 = np.random.randint(0,10,10)\n",
    "vec2 = np.random.randint(0,10,10)\n",
    "print(\"\", vec1, \"\\n\", vec2, \"\\n\", np.intersect1d(vec1, vec2))"
   ]
  },
  {
   "cell_type": "markdown",
   "metadata": {},
   "source": [
    "#### 31. How to ignore all numpy warnings (not recommended)? (★☆☆)"
   ]
  },
  {
   "cell_type": "code",
   "execution_count": 301,
   "metadata": {},
   "outputs": [],
   "source": [
    "# Suicide mode on\n",
    "defaults = np.seterr(all = \"ignore\")\n",
    "Z = np.ones(1) / 0\n",
    "\n",
    "# Back to sanity\n",
    "_ = np.seterr(**defaults)"
   ]
  },
  {
   "cell_type": "markdown",
   "metadata": {},
   "source": [
    "#### 32. Is the following expressions true? (★☆☆)\n",
    "```python\n",
    "np.sqrt(-1) == np.emath.sqrt(-1)\n",
    "```"
   ]
  },
  {
   "cell_type": "code",
   "execution_count": 302,
   "metadata": {},
   "outputs": [
    {
     "name": "stderr",
     "output_type": "stream",
     "text": [
      "C:\\Users\\b.waterschoot\\AppData\\Local\\Temp\\ipykernel_608\\244602691.py:1: RuntimeWarning: invalid value encountered in sqrt\n",
      "  np.sqrt(-1) == np.emath.sqrt(-1)\n"
     ]
    },
    {
     "data": {
      "text/plain": [
       "False"
      ]
     },
     "execution_count": 302,
     "metadata": {},
     "output_type": "execute_result"
    }
   ],
   "source": [
    "np.sqrt(-1) == np.emath.sqrt(-1)"
   ]
  },
  {
   "cell_type": "markdown",
   "metadata": {},
   "source": [
    "#### 33. How to get the dates of yesterday, today and tomorrow? (★☆☆)"
   ]
  },
  {
   "cell_type": "code",
   "execution_count": 305,
   "metadata": {},
   "outputs": [
    {
     "name": "stdout",
     "output_type": "stream",
     "text": [
      " 2023-10-15 \n",
      " 2023-10-16 \n",
      " 2023-10-17\n"
     ]
    }
   ],
   "source": [
    "yesterday = np.datetime64(\"Today\", \"D\") - np.timedelta64(1, \"D\")\n",
    "today     = np.datetime64(\"Today\", \"D\")\n",
    "tomorrow  = np.datetime64(\"Today\", \"D\") + np.timedelta64(1, \"D\")\n",
    "\n",
    "print(\"\", yesterday, \"\\n\", today, \"\\n\", tomorrow)"
   ]
  },
  {
   "cell_type": "markdown",
   "metadata": {},
   "source": [
    "#### 34. How to get all the dates corresponding to the month of July 2016? (★★☆)"
   ]
  },
  {
   "cell_type": "code",
   "execution_count": 306,
   "metadata": {},
   "outputs": [
    {
     "name": "stdout",
     "output_type": "stream",
     "text": [
      "['2016-07-01' '2016-07-02' '2016-07-03' '2016-07-04' '2016-07-05'\n",
      " '2016-07-06' '2016-07-07' '2016-07-08' '2016-07-09' '2016-07-10'\n",
      " '2016-07-11' '2016-07-12' '2016-07-13' '2016-07-14' '2016-07-15'\n",
      " '2016-07-16' '2016-07-17' '2016-07-18' '2016-07-19' '2016-07-20'\n",
      " '2016-07-21' '2016-07-22' '2016-07-23' '2016-07-24' '2016-07-25'\n",
      " '2016-07-26' '2016-07-27' '2016-07-28' '2016-07-29' '2016-07-30'\n",
      " '2016-07-31']\n"
     ]
    }
   ],
   "source": [
    "vec = np.arange(\"2016-07\", \"2016-08\", dtype = \"datetime64[D]\")\n",
    "print(vec)"
   ]
  },
  {
   "cell_type": "markdown",
   "metadata": {},
   "source": [
    "#### 35. How to compute ((A+B)*(-A/2)) in place (without copy)? (★★☆)"
   ]
  },
  {
   "cell_type": "code",
   "execution_count": 307,
   "metadata": {},
   "outputs": [
    {
     "data": {
      "text/plain": [
       "array([-1.5, -1.5, -1.5])"
      ]
     },
     "execution_count": 307,
     "metadata": {},
     "output_type": "execute_result"
    }
   ],
   "source": [
    "A = np.ones(3) * 1\n",
    "B = np.ones(3) * 2\n",
    "C = np.ones(3) * 3\n",
    "np.add(A, B, out = B)\n",
    "np.divide(A, 2, out = A)\n",
    "np.negative(A, out = A)\n",
    "np.multiply(A, B, out = A)"
   ]
  },
  {
   "cell_type": "markdown",
   "metadata": {},
   "source": [
    "#### 36. Extract the integer part of a random array using 5 different methods (★★☆)"
   ]
  },
  {
   "cell_type": "code",
   "execution_count": 308,
   "metadata": {},
   "outputs": [
    {
     "name": "stdout",
     "output_type": "stream",
     "text": [
      "[3. 8. 3. 5. 9. 8. 5. 1. 2. 3.]\n",
      "[3. 8. 3. 5. 9. 8. 5. 1. 2. 3.]\n",
      "[3. 8. 3. 5. 9. 8. 5. 1. 2. 3.]\n",
      "[3 8 3 5 9 8 5 1 2 3]\n",
      "[3. 8. 3. 5. 9. 8. 5. 1. 2. 3.]\n"
     ]
    }
   ],
   "source": [
    "vec = np.random.uniform(0,10,10)\n",
    "\n",
    "print (vec - vec%1)\n",
    "print (np.floor(vec))\n",
    "print (np.ceil(vec) - 1)\n",
    "print (vec.astype(int))\n",
    "print (np.trunc(vec))"
   ]
  },
  {
   "cell_type": "markdown",
   "metadata": {},
   "source": [
    "#### 37. Create a 5x5 matrix with row values ranging from 0 to 4 (★★☆)"
   ]
  },
  {
   "cell_type": "code",
   "execution_count": 310,
   "metadata": {},
   "outputs": [
    {
     "data": {
      "text/plain": [
       "array([[0., 1., 2., 3., 4.],\n",
       "       [0., 1., 2., 3., 4.],\n",
       "       [0., 1., 2., 3., 4.],\n",
       "       [0., 1., 2., 3., 4.],\n",
       "       [0., 1., 2., 3., 4.]])"
      ]
     },
     "execution_count": 310,
     "metadata": {},
     "output_type": "execute_result"
    }
   ],
   "source": [
    "Tab = np.zeros((5,5))\n",
    "Tab += np.arange(5)\n",
    "Tab"
   ]
  },
  {
   "cell_type": "markdown",
   "metadata": {},
   "source": [
    "#### 38. Consider a generator function that generates 10 integers and use it to build an array (★☆☆)"
   ]
  },
  {
   "cell_type": "code",
   "execution_count": 317,
   "metadata": {},
   "outputs": [
    {
     "data": {
      "text/plain": [
       "array([[7, 1, 9, 3, 5],\n",
       "       [8, 0, 6, 2, 4]])"
      ]
     },
     "execution_count": 317,
     "metadata": {},
     "output_type": "execute_result"
    }
   ],
   "source": [
    "Nb = rd.sample(range(0,10), 10)\n",
    "Tab = np.array(Nb).reshape(2,5)\n",
    "Tab"
   ]
  },
  {
   "cell_type": "markdown",
   "metadata": {},
   "source": [
    "#### 39. Create a vector of size 10 with values ranging from 0 to 1, both excluded (★★☆)"
   ]
  },
  {
   "cell_type": "code",
   "execution_count": 330,
   "metadata": {},
   "outputs": [
    {
     "data": {
      "text/plain": [
       "array([0.09592688, 0.89669211, 0.72356018, 0.48341283, 0.52889142,\n",
       "       0.36211308, 0.64894049, 0.17455055, 0.35694373, 0.73455043])"
      ]
     },
     "execution_count": 330,
     "metadata": {},
     "output_type": "execute_result"
    }
   ],
   "source": [
    "vec = np.array(np.random.uniform(0,1,10))\n",
    "vec"
   ]
  },
  {
   "cell_type": "markdown",
   "metadata": {},
   "source": [
    "#### 40. Create a random vector of size 10 and sort it (★★☆)"
   ]
  },
  {
   "cell_type": "code",
   "execution_count": 3,
   "metadata": {},
   "outputs": [
    {
     "name": "stdout",
     "output_type": "stream",
     "text": [
      "[0.17920713 0.22616402 0.23678839 0.41226913 0.47144338 0.50984683\n",
      " 0.78329416 0.79360471 0.80253454 0.89205529]\n"
     ]
    }
   ],
   "source": [
    "vec = np.random.random(10)\n",
    "vec.sort()\n",
    "print(vec)"
   ]
  },
  {
   "cell_type": "markdown",
   "metadata": {},
   "source": [
    "#### 41. How to sum a small array faster than np.sum? (★★☆)"
   ]
  },
  {
   "cell_type": "code",
   "execution_count": 4,
   "metadata": {},
   "outputs": [
    {
     "name": "stdout",
     "output_type": "stream",
     "text": [
      " 15 \n",
      " 15\n"
     ]
    }
   ],
   "source": [
    "Tab = np.array([1,2,3,4,5])\n",
    "Tab\n",
    "\n",
    "print(\"\", np.sum(Tab), \"\\n\", np.add.reduce(Tab))"
   ]
  },
  {
   "cell_type": "markdown",
   "metadata": {},
   "source": [
    "#### 42. Consider two random array A and B, check if they are equal (★★☆)"
   ]
  },
  {
   "cell_type": "code",
   "execution_count": 9,
   "metadata": {},
   "outputs": [
    {
     "name": "stdout",
     "output_type": "stream",
     "text": [
      " [8 3 2 1 3 2 8 2 2 7] \n",
      " [8 4 0 6 4 2 3 2 4 4] \n",
      " [ True False False False False  True False  True False False]\n",
      " False\n"
     ]
    }
   ],
   "source": [
    "vec1 = np.random.randint(0,10,10)\n",
    "vec2 = np.random.randint(0,10,10)\n",
    "print(\"\", vec1, \"\\n\", vec2, \"\\n\", np.equal(vec1, vec2))\n",
    "print(\"\", np.array_equal(vec1, vec2))"
   ]
  },
  {
   "cell_type": "markdown",
   "metadata": {},
   "source": [
    "#### 43. Make an array immutable (read-only) (★★☆)"
   ]
  },
  {
   "cell_type": "code",
   "execution_count": 10,
   "metadata": {},
   "outputs": [
    {
     "name": "stdout",
     "output_type": "stream",
     "text": [
      "[4 9 6 1 1 6 7 6 0 1]\n"
     ]
    },
    {
     "ename": "ValueError",
     "evalue": "assignment destination is read-only",
     "output_type": "error",
     "traceback": [
      "\u001b[1;31m---------------------------------------------------------------------------\u001b[0m",
      "\u001b[1;31mValueError\u001b[0m                                Traceback (most recent call last)",
      "\u001b[1;32mc:\\Users\\b.waterschoot\\Downloads\\VSCode\\Numpy & Pandas\\04_Exo_Numpy.ipynb Cell 87\u001b[0m line \u001b[0;36m5\n\u001b[0;32m      <a href='vscode-notebook-cell:/c%3A/Users/b.waterschoot/Downloads/VSCode/Numpy%20%26%20Pandas/04_Exo_Numpy.ipynb#Y152sZmlsZQ%3D%3D?line=1'>2</a>\u001b[0m vec\u001b[39m.\u001b[39msetflags(write \u001b[39m=\u001b[39m \u001b[39mFalse\u001b[39;00m)\n\u001b[0;32m      <a href='vscode-notebook-cell:/c%3A/Users/b.waterschoot/Downloads/VSCode/Numpy%20%26%20Pandas/04_Exo_Numpy.ipynb#Y152sZmlsZQ%3D%3D?line=2'>3</a>\u001b[0m \u001b[39mprint\u001b[39m(vec)\n\u001b[1;32m----> <a href='vscode-notebook-cell:/c%3A/Users/b.waterschoot/Downloads/VSCode/Numpy%20%26%20Pandas/04_Exo_Numpy.ipynb#Y152sZmlsZQ%3D%3D?line=4'>5</a>\u001b[0m vec[\u001b[39m0\u001b[39m] \u001b[39m=\u001b[39m \u001b[39m27\u001b[39m\n",
      "\u001b[1;31mValueError\u001b[0m: assignment destination is read-only"
     ]
    }
   ],
   "source": [
    "vec = np.random.randint(0,10,10)\n",
    "vec.setflags(write = False)\n",
    "print(vec)\n",
    "\n",
    "vec[0] = 27"
   ]
  },
  {
   "cell_type": "markdown",
   "metadata": {},
   "source": [
    "#### 44. Consider a random 10x2 matrix representing cartesian coordinates, convert them to polar coordinates (★★☆)"
   ]
  },
  {
   "cell_type": "code",
   "execution_count": 413,
   "metadata": {},
   "outputs": [
    {
     "name": "stdout",
     "output_type": "stream",
     "text": [
      " [[35.05307582  7.69341842]\n",
      " [39.38704458  8.85338255]\n",
      " [83.99575655 83.96254706]\n",
      " [80.41497329 36.01006   ]\n",
      " [21.52812629 43.2652467 ]\n",
      " [20.72412975 42.49459115]\n",
      " [99.71328038 14.08935035]\n",
      " [79.23075411 50.4530425 ]\n",
      " [45.44082972 60.97740719]\n",
      " [32.21152378 82.38896246]] \n",
      " [[ 35.88741857  12.37894925]\n",
      " [ 40.36981129  12.66833354]\n",
      " [118.76445776  44.98867122]\n",
      " [ 88.10954745  24.12297463]\n",
      " [ 48.32537422  63.54576336]\n",
      " [ 47.27874608  64.00203379]\n",
      " [100.70376397   8.04257329]\n",
      " [ 93.93094216  32.48841732]\n",
      " [ 76.04678293  53.30623944]\n",
      " [ 88.46198844  68.64604619]]\n"
     ]
    }
   ],
   "source": [
    "Tab = np.random.uniform(0,100,20).reshape(10,2)\n",
    "TabPol = []\n",
    "\n",
    "def polar(x, y) -> tuple :\n",
    "  \"\"\"returns rho, theta (degrees)\"\"\"\n",
    "  return np.hypot(x, y), np.degrees(np.arctan2(y, x))\n",
    "\n",
    "for i in range(0, len(Tab)) :\n",
    "    rho, theta = polar(Tab[i, 0], Tab[i, 1])\n",
    "    TabPol.append((rho, theta))\n",
    "\n",
    "TabPol = np.array(TabPol).reshape(10, 2)\n",
    "\n",
    "print(\"\", Tab, \"\\n\", TabPol)"
   ]
  },
  {
   "cell_type": "markdown",
   "metadata": {},
   "source": [
    "#### 45. Create random vector of size 10 and replace the maximum value by 0 (★★☆)"
   ]
  },
  {
   "cell_type": "code",
   "execution_count": 14,
   "metadata": {},
   "outputs": [
    {
     "name": "stdout",
     "output_type": "stream",
     "text": [
      "[14 47 18 42 23 38 16 43 13 25] 47\n",
      "[14  0 18 42 23 38 16 43 13 25]\n"
     ]
    }
   ],
   "source": [
    "vec = np.random.randint(0,50,10)\n",
    "print(vec, np.max(vec))\n",
    "\n",
    "vec[vec.argmax()] = 0\n",
    "print(vec)"
   ]
  },
  {
   "cell_type": "markdown",
   "metadata": {},
   "source": [
    "#### 46. Create a structured array with `x` and `y` coordinates covering the [0,1]x[0,1] area (★★☆)"
   ]
  },
  {
   "cell_type": "code",
   "execution_count": 25,
   "metadata": {},
   "outputs": [
    {
     "name": "stdout",
     "output_type": "stream",
     "text": [
      "[[(0.  , 0.  ) (0.25, 0.  ) (0.5 , 0.  ) (0.75, 0.  ) (1.  , 0.  )]\n",
      " [(0.  , 0.25) (0.25, 0.25) (0.5 , 0.25) (0.75, 0.25) (1.  , 0.25)]\n",
      " [(0.  , 0.5 ) (0.25, 0.5 ) (0.5 , 0.5 ) (0.75, 0.5 ) (1.  , 0.5 )]\n",
      " [(0.  , 0.75) (0.25, 0.75) (0.5 , 0.75) (0.75, 0.75) (1.  , 0.75)]\n",
      " [(0.  , 1.  ) (0.25, 1.  ) (0.5 , 1.  ) (0.75, 1.  ) (1.  , 1.  )]]\n"
     ]
    }
   ],
   "source": [
    "Tab = np.zeros((5,5), [(\"x\", float), (\"y\", float)])\n",
    "Tab[\"x\"], Tab[\"y\"] = np.meshgrid(np.linspace(0,1,5),\n",
    "                                 np.linspace(0,1,5))\n",
    "print(Tab)"
   ]
  },
  {
   "cell_type": "markdown",
   "metadata": {},
   "source": [
    "#### 47. Given two arrays, X and Y, construct the Cauchy matrix C (Cij =1/(xi - yj))"
   ]
  },
  {
   "cell_type": "code",
   "execution_count": 27,
   "metadata": {},
   "outputs": [
    {
     "name": "stdout",
     "output_type": "stream",
     "text": [
      "[[-2.         -0.66666667 -0.4        -0.28571429 -0.22222222 -0.18181818\n",
      "  -0.15384615 -0.13333333]\n",
      " [ 2.         -2.         -0.66666667 -0.4        -0.28571429 -0.22222222\n",
      "  -0.18181818 -0.15384615]\n",
      " [ 0.66666667  2.         -2.         -0.66666667 -0.4        -0.28571429\n",
      "  -0.22222222 -0.18181818]\n",
      " [ 0.4         0.66666667  2.         -2.         -0.66666667 -0.4\n",
      "  -0.28571429 -0.22222222]\n",
      " [ 0.28571429  0.4         0.66666667  2.         -2.         -0.66666667\n",
      "  -0.4        -0.28571429]\n",
      " [ 0.22222222  0.28571429  0.4         0.66666667  2.         -2.\n",
      "  -0.66666667 -0.4       ]\n",
      " [ 0.18181818  0.22222222  0.28571429  0.4         0.66666667  2.\n",
      "  -2.         -0.66666667]\n",
      " [ 0.15384615  0.18181818  0.22222222  0.28571429  0.4         0.66666667\n",
      "   2.         -2.        ]]\n"
     ]
    }
   ],
   "source": [
    "X = np.arange(8)\n",
    "Y = X + 0.5\n",
    "C = 1.0 / np.subtract.outer(X, Y)\n",
    "print(np.linalg.det(C))"
   ]
  },
  {
   "cell_type": "markdown",
   "metadata": {},
   "source": [
    "#### 48. Print the minimum and maximum representable value for each numpy scalar type (★★☆)"
   ]
  },
  {
   "cell_type": "code",
   "execution_count": 28,
   "metadata": {},
   "outputs": [
    {
     "name": "stdout",
     "output_type": "stream",
     "text": [
      "-128\n",
      "127\n",
      "-2147483648\n",
      "2147483647\n",
      "-9223372036854775808\n",
      "9223372036854775807\n",
      "-3.4028235e+38\n",
      "3.4028235e+38\n",
      "1.1920929e-07\n",
      "-1.7976931348623157e+308\n",
      "1.7976931348623157e+308\n",
      "2.220446049250313e-16\n"
     ]
    }
   ],
   "source": [
    "for dtype in [np.int8, np.int32, np.int64] :\n",
    "   print(np.iinfo(dtype).min)\n",
    "   print(np.iinfo(dtype).max)\n",
    "\n",
    "for dtype in [np.float32, np.float64] :\n",
    "   print(np.finfo(dtype).min)\n",
    "   print(np.finfo(dtype).max)\n",
    "   print(np.finfo(dtype).eps)"
   ]
  },
  {
   "cell_type": "markdown",
   "metadata": {},
   "source": [
    "#### 49. How to print all the values of an array? (★★☆)"
   ]
  },
  {
   "cell_type": "code",
   "execution_count": 45,
   "metadata": {},
   "outputs": [
    {
     "ename": "NameError",
     "evalue": "name 'nan' is not defined",
     "output_type": "error",
     "traceback": [
      "\u001b[1;31m---------------------------------------------------------------------------\u001b[0m",
      "\u001b[1;31mNameError\u001b[0m                                 Traceback (most recent call last)",
      "\u001b[1;32mc:\\Users\\b.waterschoot\\Downloads\\VSCode\\Numpy & Pandas\\04_Exo_Numpy.ipynb Cell 99\u001b[0m line \u001b[0;36m1\n\u001b[1;32m----> <a href='vscode-notebook-cell:/c%3A/Users/b.waterschoot/Downloads/VSCode/Numpy%20%26%20Pandas/04_Exo_Numpy.ipynb#Y200sZmlsZQ%3D%3D?line=0'>1</a>\u001b[0m np\u001b[39m.\u001b[39mset_printoptions(threshold \u001b[39m=\u001b[39m nan)\n\u001b[0;32m      <a href='vscode-notebook-cell:/c%3A/Users/b.waterschoot/Downloads/VSCode/Numpy%20%26%20Pandas/04_Exo_Numpy.ipynb#Y200sZmlsZQ%3D%3D?line=1'>2</a>\u001b[0m Tab \u001b[39m=\u001b[39m np\u001b[39m.\u001b[39mzeros((\u001b[39m16\u001b[39m,\u001b[39m16\u001b[39m))\n\u001b[0;32m      <a href='vscode-notebook-cell:/c%3A/Users/b.waterschoot/Downloads/VSCode/Numpy%20%26%20Pandas/04_Exo_Numpy.ipynb#Y200sZmlsZQ%3D%3D?line=2'>3</a>\u001b[0m \u001b[39mprint\u001b[39m(Tab)\n",
      "\u001b[1;31mNameError\u001b[0m: name 'nan' is not defined"
     ]
    }
   ],
   "source": [
    "Tab = np.zeros((16,16))\n",
    "print(Tab)"
   ]
  },
  {
   "cell_type": "markdown",
   "metadata": {},
   "source": [
    "#### 50. How to find the closest value (to a given scalar) in a vector? (★★☆)"
   ]
  },
  {
   "cell_type": "code",
   "execution_count": 34,
   "metadata": {},
   "outputs": [
    {
     "name": "stdout",
     "output_type": "stream",
     "text": [
      " [ 0  1  2  3  4  5  6  7  8  9 10 11 12 13 14 15 16 17 18 19 20 21 22 23\n",
      " 24 25 26 27 28 29 30 31 32 33 34 35 36 37 38 39 40 41 42 43 44 45 46 47\n",
      " 48 49 50 51 52 53 54 55 56 57 58 59 60 61 62 63 64 65 66 67 68 69 70 71\n",
      " 72 73 74 75 76 77 78 79 80 81 82 83 84 85 86 87 88 89 90 91 92 93 94 95\n",
      " 96 97 98 99] \n",
      " 10.406700173101758 \n",
      " 10\n"
     ]
    }
   ],
   "source": [
    "Tab = np.arange(100)\n",
    "vec = np.random.uniform(0,100)\n",
    "index = (np.abs(Tab - vec)).argmin()\n",
    "print(\"\", Tab, \"\\n\", vec, \"\\n\", Tab[index])"
   ]
  },
  {
   "cell_type": "markdown",
   "metadata": {},
   "source": [
    "#### 51. Create a structured array representing a position (x,y) and a color (r,g,b) (★★☆)"
   ]
  },
  {
   "cell_type": "code",
   "execution_count": 35,
   "metadata": {},
   "outputs": [
    {
     "name": "stdout",
     "output_type": "stream",
     "text": [
      "[((0., 0.), (0., 0., 0.)) ((0., 0.), (0., 0., 0.))\n",
      " ((0., 0.), (0., 0., 0.)) ((0., 0.), (0., 0., 0.))\n",
      " ((0., 0.), (0., 0., 0.)) ((0., 0.), (0., 0., 0.))\n",
      " ((0., 0.), (0., 0., 0.)) ((0., 0.), (0., 0., 0.))\n",
      " ((0., 0.), (0., 0., 0.)) ((0., 0.), (0., 0., 0.))]\n"
     ]
    },
    {
     "name": "stderr",
     "output_type": "stream",
     "text": [
      "C:\\Users\\b.waterschoot\\AppData\\Local\\Temp\\ipykernel_12660\\4033859340.py:1: FutureWarning: Passing (type, 1) or '1type' as a synonym of type is deprecated; in a future version of numpy, it will be understood as (type, (1,)) / '(1,)type'.\n",
      "  Tab = np.zeros(10, [ (\"position\", [ (\"x\", float, 1),\n"
     ]
    }
   ],
   "source": [
    "Tab = np.zeros(10, [ (\"position\", [ (\"x\", float, 1),\n",
    "                                    (\"y\", float, 1)]),\n",
    "                     (\"color\",    [ (\"r\", float, 1),\n",
    "                                    (\"g\", float, 1),\n",
    "                                    (\"b\", float, 1)])])\n",
    "print(Tab)"
   ]
  },
  {
   "cell_type": "markdown",
   "metadata": {},
   "source": [
    "#### 52. Consider a random vector with shape (100,2) representing coordinates, find point by point distances (★★☆)"
   ]
  },
  {
   "cell_type": "code",
   "execution_count": 39,
   "metadata": {},
   "outputs": [
    {
     "name": "stdout",
     "output_type": "stream",
     "text": [
      "[[0.         0.6241489  0.75679156 0.56652647 0.89268865 0.84189268\n",
      "  0.90457842 0.39863162 0.84278847 0.55353423]\n",
      " [0.6241489  0.         0.59921305 0.66515968 0.28539955 0.54633145\n",
      "  0.35765051 0.72854365 0.33348311 0.77069095]\n",
      " [0.75679156 0.59921305 0.         0.27472385 0.80524349 0.16165298\n",
      "  0.92883393 1.08719069 0.92370317 0.40305748]\n",
      " [0.56652647 0.66515968 0.27472385 0.         0.92658893 0.42657156\n",
      "  1.02213442 0.94417625 0.99660236 0.13505651]\n",
      " [0.89268865 0.28539955 0.80524349 0.92658893 0.         0.70513538\n",
      "  0.15031578 0.91586816 0.19636722 1.04159307]\n",
      " [0.84189268 0.54633145 0.16165298 0.42657156 0.70513538 0.\n",
      "  0.84085609 1.13341051 0.84784006 0.55905873]\n",
      " [0.90457842 0.35765051 0.92883393 1.02213442 0.15031578 0.84085609\n",
      "  0.         0.86143114 0.07691009 1.12813063]\n",
      " [0.39863162 0.72854365 1.08719069 0.94417625 0.91586816 1.13341051\n",
      "  0.86143114 0.         0.78558894 0.94825789]\n",
      " [0.84278847 0.33348311 0.92370317 0.99660236 0.19636722 0.84784006\n",
      "  0.07691009 0.78558894 0.         1.09671796]\n",
      " [0.55353423 0.77069095 0.40305748 0.13505651 1.04159307 0.55905873\n",
      "  1.12813063 0.94825789 1.09671796 0.        ]]\n",
      "[[0.         0.61128456 0.54883211 0.55098758 0.30552642 0.83417703\n",
      "  0.77510187 0.14010232 0.36209008 0.55382767]\n",
      " [0.61128456 0.         0.57282755 0.06356572 0.32774985 0.59316826\n",
      "  0.24536038 0.53847706 0.39983152 0.54336694]\n",
      " [0.54883211 0.57282755 0.         0.55712726 0.55262857 0.32730463\n",
      "  0.53499488 0.40975615 0.24289556 0.03453172]\n",
      " [0.55098758 0.06356572 0.55712726 0.         0.26428356 0.61285195\n",
      "  0.2976322  0.48414224 0.36422978 0.52987368]\n",
      " [0.30552642 0.32774985 0.55262857 0.26428356 0.         0.73611342\n",
      "  0.53658791 0.28587342 0.30987067 0.53857125]\n",
      " [0.83417703 0.59316826 0.32730463 0.61285195 0.73611342 0.\n",
      "  0.42073953 0.69555898 0.47612834 0.3046208 ]\n",
      " [0.77510187 0.24536038 0.53499488 0.2976322  0.53658791 0.42073953\n",
      "  0.         0.66965249 0.46626198 0.50061716]\n",
      " [0.14010232 0.53847706 0.40975615 0.48414224 0.28587342 0.69555898\n",
      "  0.66965249 0.         0.22874496 0.41389535]\n",
      " [0.36209008 0.39983152 0.24289556 0.36422978 0.30987067 0.47612834\n",
      "  0.46626198 0.22874496 0.         0.23088509]\n",
      " [0.55382767 0.54336694 0.03453172 0.52987368 0.53857125 0.3046208\n",
      "  0.50061716 0.41389535 0.23088509 0.        ]]\n"
     ]
    }
   ],
   "source": [
    "Tab = np.random.random((10,2))\n",
    "X, Y = np.atleast_2d(Tab[:,0], Tab[:,1])\n",
    "D = np.sqrt( (X - X.T)**2 + (Y - Y.T)**2)\n",
    "print(D)\n",
    "\n",
    "# Much faster with scipy\n",
    "import scipy\n",
    "# Thanks Gavin Heverly-Coulson (# issue 1)\n",
    "import scipy.spatial\n",
    "\n",
    "Tab = np.random.random((10,2))\n",
    "D = scipy.spatial.distance.cdist(Tab,Tab)\n",
    "print(D)"
   ]
  },
  {
   "cell_type": "markdown",
   "metadata": {},
   "source": [
    "#### 53. How to convert a float (32 bits) array into an integer (32 bits) in place?"
   ]
  },
  {
   "cell_type": "code",
   "execution_count": 42,
   "metadata": {},
   "outputs": [
    {
     "name": "stdout",
     "output_type": "stream",
     "text": [
      "[0. 1. 2. 3. 4. 5. 6. 7. 8. 9.]\n"
     ]
    }
   ],
   "source": [
    "Tab = np.arange(10, dtype = np.int32)\n",
    "Tab = Tab.astype(np.float32, copy = False)\n",
    "print(Tab)"
   ]
  },
  {
   "cell_type": "markdown",
   "metadata": {},
   "source": [
    "#### 54. How to read the following file? (★★☆)\n",
    "```\n",
    "1, 2, 3, 4, 5\n",
    "6,  ,  , 7, 8\n",
    " ,  , 9,10,11\n",
    "```"
   ]
  },
  {
   "cell_type": "code",
   "execution_count": 44,
   "metadata": {},
   "outputs": [
    {
     "name": "stdout",
     "output_type": "stream",
     "text": [
      "[[ 1  2  3  4  5]\n",
      " [ 6 -1 -1  7  8]\n",
      " [-1 -1  9 10 11]]\n"
     ]
    }
   ],
   "source": [
    "from io import StringIO\n",
    "\n",
    "# Fake file \n",
    "s = StringIO(\"\"\"1, 2, 3, 4, 5\\n\n",
    "                6,  ,  , 7, 8\\n\n",
    "                 ,  , 9,10,11\\n\"\"\")\n",
    "Tab = np.genfromtxt(s, delimiter = \",\", dtype = int)\n",
    "print(Tab)"
   ]
  },
  {
   "cell_type": "markdown",
   "metadata": {},
   "source": [
    "#### 55. What is the equivalent of enumerate for numpy arrays? (★★☆)"
   ]
  },
  {
   "cell_type": "code",
   "execution_count": 48,
   "metadata": {},
   "outputs": [
    {
     "name": "stdout",
     "output_type": "stream",
     "text": [
      "(0, 0) 0\n",
      "(0, 1) 1\n",
      "(0, 2) 2\n",
      "(1, 0) 3\n",
      "(1, 1) 4\n",
      "(1, 2) 5\n",
      "(2, 0) 6\n",
      "(2, 1) 7\n",
      "(2, 2) 8\n",
      "(0, 0) 0\n",
      "(0, 1) 1\n",
      "(0, 2) 2\n",
      "(1, 0) 3\n",
      "(1, 1) 4\n",
      "(1, 2) 5\n",
      "(2, 0) 6\n",
      "(2, 1) 7\n",
      "(2, 2) 8\n"
     ]
    }
   ],
   "source": [
    "Tab = np.arange(9).reshape(3,3)\n",
    "\n",
    "for index, value in np.ndenumerate(Tab) :\n",
    "    print(index, value)\n",
    "\n",
    "for index in np.ndindex(Tab.shape) :\n",
    "    print(index, Tab[index])"
   ]
  },
  {
   "cell_type": "markdown",
   "metadata": {},
   "source": [
    "#### 56. Generate a generic 2D Gaussian-like array (★★☆)"
   ]
  },
  {
   "cell_type": "code",
   "execution_count": 49,
   "metadata": {},
   "outputs": [
    {
     "name": "stdout",
     "output_type": "stream",
     "text": [
      "[[0.36787944 0.44822088 0.51979489 0.57375342 0.60279818 0.60279818\n",
      "  0.57375342 0.51979489 0.44822088 0.36787944]\n",
      " [0.44822088 0.54610814 0.63331324 0.69905581 0.73444367 0.73444367\n",
      "  0.69905581 0.63331324 0.54610814 0.44822088]\n",
      " [0.51979489 0.63331324 0.73444367 0.81068432 0.85172308 0.85172308\n",
      "  0.81068432 0.73444367 0.63331324 0.51979489]\n",
      " [0.57375342 0.69905581 0.81068432 0.89483932 0.9401382  0.9401382\n",
      "  0.89483932 0.81068432 0.69905581 0.57375342]\n",
      " [0.60279818 0.73444367 0.85172308 0.9401382  0.98773022 0.98773022\n",
      "  0.9401382  0.85172308 0.73444367 0.60279818]\n",
      " [0.60279818 0.73444367 0.85172308 0.9401382  0.98773022 0.98773022\n",
      "  0.9401382  0.85172308 0.73444367 0.60279818]\n",
      " [0.57375342 0.69905581 0.81068432 0.89483932 0.9401382  0.9401382\n",
      "  0.89483932 0.81068432 0.69905581 0.57375342]\n",
      " [0.51979489 0.63331324 0.73444367 0.81068432 0.85172308 0.85172308\n",
      "  0.81068432 0.73444367 0.63331324 0.51979489]\n",
      " [0.44822088 0.54610814 0.63331324 0.69905581 0.73444367 0.73444367\n",
      "  0.69905581 0.63331324 0.54610814 0.44822088]\n",
      " [0.36787944 0.44822088 0.51979489 0.57375342 0.60279818 0.60279818\n",
      "  0.57375342 0.51979489 0.44822088 0.36787944]]\n"
     ]
    }
   ],
   "source": [
    "X, Y = np.meshgrid(np.linspace(-1,1,10), np.linspace(-1,1,10))\n",
    "D = np.sqrt(X * X + Y * Y)\n",
    "sigma, mu = 1.0, 0.0\n",
    "G = np.exp( -((D - mu)**2 / (2.0 * sigma**2)))\n",
    "print(G)"
   ]
  },
  {
   "cell_type": "markdown",
   "metadata": {},
   "source": [
    "#### 57. How to randomly place p elements in a 2D array? (★★☆)"
   ]
  },
  {
   "cell_type": "code",
   "execution_count": 96,
   "metadata": {},
   "outputs": [
    {
     "name": "stdout",
     "output_type": "stream",
     "text": [
      "[[0. 0. 0. 0. 0. 0. 0. 0. 0. 0.]\n",
      " [0. 0. 0. 0. 0. 0. 0. 0. 0. 5.]\n",
      " [0. 0. 0. 0. 0. 0. 0. 0. 0. 0.]\n",
      " [1. 0. 0. 2. 0. 0. 0. 0. 8. 9.]\n",
      " [0. 0. 0. 0. 0. 0. 0. 0. 0. 0.]\n",
      " [6. 0. 0. 0. 9. 0. 0. 0. 0. 0.]\n",
      " [0. 0. 0. 0. 0. 0. 0. 0. 0. 0.]\n",
      " [7. 0. 0. 0. 0. 0. 8. 0. 0. 0.]\n",
      " [0. 0. 0. 0. 6. 0. 0. 5. 0. 0.]\n",
      " [0. 0. 0. 0. 0. 0. 0. 0. 0. 0.]]\n"
     ]
    }
   ],
   "source": [
    "n = 10\n",
    "p = 11\n",
    "Z = np.zeros((n,n))\n",
    "np.put(Z, np.random.choice(range(n * n), p, replace = False), np.random.randint(1,10, 11))\n",
    "print(Z)"
   ]
  },
  {
   "cell_type": "markdown",
   "metadata": {},
   "source": [
    "#### 58. Subtract the mean of each row of a matrix (★★☆)"
   ]
  },
  {
   "cell_type": "code",
   "execution_count": 118,
   "metadata": {},
   "outputs": [
    {
     "name": "stdout",
     "output_type": "stream",
     "text": [
      "[[ 0.07013907 -0.13747783  0.12505872 -0.11387085  0.05615088]\n",
      " [-0.10162412  0.42742024  0.489911   -0.42291849 -0.39278863]\n",
      " [ 0.19813926 -0.148015   -0.15991443  0.00555585  0.10423431]\n",
      " [-0.02638298  0.451231   -0.4644748   0.45941749 -0.41979072]\n",
      " [ 0.2794598   0.26617523 -0.22928228 -0.42674776  0.11039501]]\n"
     ]
    }
   ],
   "source": [
    "X = np.random.rand(5, 5)\n",
    "\n",
    "# Recent versions of numpy\n",
    "Y = X - X.mean(axis = 1, keepdims = True)\n",
    "\n",
    "# Older versions of numpy\n",
    "Y = X - X.mean(axis = 1).reshape(-1, 1)\n",
    "\n",
    "print(Y)"
   ]
  },
  {
   "cell_type": "markdown",
   "metadata": {},
   "source": [
    "#### 59. How to sort an array by the nth column? (★★☆)"
   ]
  },
  {
   "cell_type": "code",
   "execution_count": 127,
   "metadata": {},
   "outputs": [
    {
     "name": "stdout",
     "output_type": "stream",
     "text": [
      "[[4 8 2]\n",
      " [3 1 1]\n",
      " [0 1 7]]\n",
      "[[3 1 1]\n",
      " [0 1 7]\n",
      " [4 8 2]]\n"
     ]
    }
   ],
   "source": [
    "Z = np.random.randint(0,10,(3,3))\n",
    "print(Z)\n",
    "print(Z[Z[:,1].argsort()])"
   ]
  },
  {
   "cell_type": "markdown",
   "metadata": {},
   "source": [
    "#### 60. How to tell if a given 2D array has null columns? (★★☆)"
   ]
  },
  {
   "cell_type": "code",
   "execution_count": 157,
   "metadata": {},
   "outputs": [
    {
     "name": "stdout",
     "output_type": "stream",
     "text": [
      "[[1 2 0 1 2 1 2 1 1 2]\n",
      " [2 0 0 1 1 0 1 0 2 2]\n",
      " [0 2 1 1 1 1 2 1 0 1]]\n",
      "False\n"
     ]
    }
   ],
   "source": [
    "Z = np.random.randint(0,3,(3,10))\n",
    "print(Z)\n",
    "print((~Z.any(axis = 0)).any())"
   ]
  },
  {
   "cell_type": "markdown",
   "metadata": {},
   "source": [
    "#### 61. Find the nearest value from a given value in an array (★★☆)"
   ]
  },
  {
   "cell_type": "code",
   "execution_count": 170,
   "metadata": {},
   "outputs": [
    {
     "name": "stdout",
     "output_type": "stream",
     "text": [
      " [0.78954004 0.27723624 0.07821187 0.41350002 0.87067901 0.10515828\n",
      " 0.85839688 0.09180741 0.85287204 0.43266663] \n",
      " 0.5 \n",
      " 0.43266662977020864\n"
     ]
    }
   ],
   "source": [
    "Z = np.random.uniform(0,1,10)\n",
    "z = 0.5\n",
    "m = Z.flat[np.abs(Z - z).argmin()]\n",
    "print(\"\", Z, \"\\n\", z, \"\\n\", m)"
   ]
  },
  {
   "cell_type": "markdown",
   "metadata": {},
   "source": [
    "#### 62. Considering two arrays with shape (1,3) and (3,1), how to compute their sum using an iterator? (★★☆)"
   ]
  },
  {
   "cell_type": "code",
   "execution_count": 3,
   "metadata": {},
   "outputs": [
    {
     "name": "stdout",
     "output_type": "stream",
     "text": [
      "[[0 1 2]\n",
      " [1 2 3]\n",
      " [2 3 4]]\n"
     ]
    }
   ],
   "source": [
    "A = np.arange(3).reshape(3,1)\n",
    "B = np.arange(3).reshape(1,3)\n",
    "it = np.nditer([A,B,None])\n",
    "for x,y,z in it: z[...] = x + y\n",
    "print(it.operands[2])"
   ]
  },
  {
   "cell_type": "markdown",
   "metadata": {},
   "source": [
    "#### 63. Create an array class that has a name attribute (★★☆)"
   ]
  },
  {
   "cell_type": "code",
   "execution_count": 4,
   "metadata": {},
   "outputs": [
    {
     "name": "stdout",
     "output_type": "stream",
     "text": [
      "range_10\n"
     ]
    }
   ],
   "source": [
    "class NamedArray(np.ndarray) :\n",
    "    def __new__(cls, array, name = \"no name\") :\n",
    "        obj = np.asarray(array).view(cls)\n",
    "        obj.name = name\n",
    "        return obj\n",
    "    def __array_finalize__(self, obj) :\n",
    "        if obj is None : return\n",
    "        self.info = getattr(obj, \"name\", \"no name\")\n",
    "\n",
    "Z = NamedArray(np.arange(10), \"range_10\")\n",
    "print (Z.name)"
   ]
  },
  {
   "cell_type": "markdown",
   "metadata": {},
   "source": [
    "#### 64. Consider a given vector, how to add 1 to each element indexed by a second vector (be careful with repeated indices)? (★★★)"
   ]
  },
  {
   "cell_type": "code",
   "execution_count": 5,
   "metadata": {},
   "outputs": [
    {
     "name": "stdout",
     "output_type": "stream",
     "text": [
      "[5. 4. 3. 2. 4. 3. 4. 2. 1. 2.]\n",
      "[9. 7. 5. 3. 7. 5. 7. 3. 1. 3.]\n"
     ]
    }
   ],
   "source": [
    "# Author: Brett Olsen\n",
    "Z = np.ones(10)\n",
    "I = np.random.randint(0,len(Z),20)\n",
    "Z += np.bincount(I, minlength = len(Z))\n",
    "print(Z)\n",
    "\n",
    "# Another solution\n",
    "# Author: Bartosz Telenczuk\n",
    "np.add.at(Z, I, 1)\n",
    "print(Z)"
   ]
  },
  {
   "cell_type": "markdown",
   "metadata": {},
   "source": [
    "#### 65. How to accumulate elements of a vector (X) to an array (F) based on an index list (I)? (★★★)"
   ]
  },
  {
   "cell_type": "code",
   "execution_count": 6,
   "metadata": {},
   "outputs": [
    {
     "name": "stdout",
     "output_type": "stream",
     "text": [
      "[0. 7. 0. 6. 5. 0. 0. 0. 0. 3.]\n"
     ]
    }
   ],
   "source": [
    "# Author: Alan G Isaac\n",
    "X = [1,2,3,4,5,6]\n",
    "I = [1,3,9,3,4,1]\n",
    "F = np.bincount(I,X)\n",
    "print(F)"
   ]
  },
  {
   "cell_type": "markdown",
   "metadata": {},
   "source": [
    "#### 66. Considering a (w,h,3) image of (dtype=ubyte), compute the number of unique colors (★★★)"
   ]
  },
  {
   "cell_type": "code",
   "execution_count": 7,
   "metadata": {},
   "outputs": [
    {
     "name": "stdout",
     "output_type": "stream",
     "text": [
      "[0 1]\n"
     ]
    }
   ],
   "source": [
    "# Author: Nadav Horesh\n",
    "w,h = 16,16\n",
    "I = np.random.randint(0,2,(h,w,3)).astype(np.ubyte)\n",
    "F = I[...,0] * 256 * 256 + I[...,1] * 256 + I[...,2]\n",
    "n = len(np.unique(F))\n",
    "print(np.unique(I))"
   ]
  },
  {
   "cell_type": "markdown",
   "metadata": {},
   "source": [
    "#### 67. Considering a four dimensions array, how to get sum over the last two axis at once? (★★★)"
   ]
  },
  {
   "cell_type": "code",
   "execution_count": 8,
   "metadata": {},
   "outputs": [
    {
     "name": "stdout",
     "output_type": "stream",
     "text": [
      "[[60 56 55 52]\n",
      " [54 48 58 51]\n",
      " [35 41 53 49]]\n",
      "[[60 56 55 52]\n",
      " [54 48 58 51]\n",
      " [35 41 53 49]]\n"
     ]
    }
   ],
   "source": [
    "A = np.random.randint(0,10,(3,4,3,4))\n",
    "\n",
    "# Solution by passing a tuple of axes (introduced in numpy 1.7.0)\n",
    "sum = A.sum(axis = (-2,-1))\n",
    "print(sum)\n",
    "\n",
    "# Solution by flattening the last two dimensions into one\n",
    "# (useful for functions that don't accept tuples for axis argument)\n",
    "sum = A.reshape(A.shape[:-2] + (-1,)).sum(axis = -1)\n",
    "print(sum)"
   ]
  },
  {
   "cell_type": "markdown",
   "metadata": {},
   "source": [
    "#### 68. Considering a one-dimensional vector D, how to compute means of subsets of D using a vector S of same size describing subset  indices? (★★★)"
   ]
  },
  {
   "cell_type": "code",
   "execution_count": 10,
   "metadata": {},
   "outputs": [
    {
     "name": "stdout",
     "output_type": "stream",
     "text": [
      "[0.52826168 0.58722721 0.54099166 0.56844813 0.4886342  0.59670499\n",
      " 0.52878345 0.60871236 0.66610987 0.51526619]\n",
      "0    0.528262\n",
      "1    0.587227\n",
      "2    0.540992\n",
      "3    0.568448\n",
      "4    0.488634\n",
      "5    0.596705\n",
      "6    0.528783\n",
      "7    0.608712\n",
      "8    0.666110\n",
      "9    0.515266\n",
      "dtype: float64\n"
     ]
    }
   ],
   "source": [
    "# Author: Jaime Fernández del Río\n",
    "D = np.random.uniform(0,1,100)\n",
    "S = np.random.randint(0,10,100)\n",
    "D_sums = np.bincount(S, weights = D)\n",
    "D_counts = np.bincount(S)\n",
    "D_means = D_sums / D_counts\n",
    "print(D_means)\n",
    "\n",
    "# Pandas solution as a reference due to more intuitive code\n",
    "import pandas as pd\n",
    "print(pd.Series(D).groupby(S).mean())"
   ]
  },
  {
   "cell_type": "markdown",
   "metadata": {},
   "source": [
    "#### 69. How to get the diagonal of a dot product? (★★★)"
   ]
  },
  {
   "cell_type": "code",
   "execution_count": 11,
   "metadata": {},
   "outputs": [
    {
     "data": {
      "text/plain": [
       "array([1.40272213, 1.61864984, 0.81095616, 1.34286717, 1.58987142])"
      ]
     },
     "execution_count": 11,
     "metadata": {},
     "output_type": "execute_result"
    }
   ],
   "source": [
    "# Author: Mathieu Blondel\n",
    "A = np.random.uniform(0,1,(5,5))\n",
    "B = np.random.uniform(0,1,(5,5))\n",
    "\n",
    "# Slow version  \n",
    "np.diag(np.dot(A, B))\n",
    "\n",
    "# Fast version\n",
    "np.sum(A * B.T, axis = 1)\n",
    "\n",
    "# Faster version\n",
    "np.einsum(\"ij,ji->i\", A, B)"
   ]
  },
  {
   "cell_type": "markdown",
   "metadata": {},
   "source": [
    "#### 70. Consider the vector [1, 2, 3, 4, 5], how to build a new vector with 3 consecutive zeros interleaved between each value? (★★★)"
   ]
  },
  {
   "cell_type": "code",
   "execution_count": 12,
   "metadata": {},
   "outputs": [
    {
     "name": "stdout",
     "output_type": "stream",
     "text": [
      "[1. 0. 0. 0. 2. 0. 0. 0. 3. 0. 0. 0. 4. 0. 0. 0. 5.]\n"
     ]
    }
   ],
   "source": [
    "# Author: Warren Weckesser\n",
    "Z = np.array([1,2,3,4,5])\n",
    "nz = 3\n",
    "Z0 = np.zeros(len(Z) + (len(Z)-1) * (nz))\n",
    "Z0[::nz + 1] = Z\n",
    "print(Z0)"
   ]
  },
  {
   "cell_type": "markdown",
   "metadata": {},
   "source": [
    "#### 71. Consider an array of dimension (5,5,3), how to mulitply it by an array with dimensions (5,5)? (★★★)"
   ]
  },
  {
   "cell_type": "code",
   "execution_count": 13,
   "metadata": {},
   "outputs": [
    {
     "name": "stdout",
     "output_type": "stream",
     "text": [
      "[[[2. 2. 2.]\n",
      "  [2. 2. 2.]\n",
      "  [2. 2. 2.]\n",
      "  [2. 2. 2.]\n",
      "  [2. 2. 2.]]\n",
      "\n",
      " [[2. 2. 2.]\n",
      "  [2. 2. 2.]\n",
      "  [2. 2. 2.]\n",
      "  [2. 2. 2.]\n",
      "  [2. 2. 2.]]\n",
      "\n",
      " [[2. 2. 2.]\n",
      "  [2. 2. 2.]\n",
      "  [2. 2. 2.]\n",
      "  [2. 2. 2.]\n",
      "  [2. 2. 2.]]\n",
      "\n",
      " [[2. 2. 2.]\n",
      "  [2. 2. 2.]\n",
      "  [2. 2. 2.]\n",
      "  [2. 2. 2.]\n",
      "  [2. 2. 2.]]\n",
      "\n",
      " [[2. 2. 2.]\n",
      "  [2. 2. 2.]\n",
      "  [2. 2. 2.]\n",
      "  [2. 2. 2.]\n",
      "  [2. 2. 2.]]]\n"
     ]
    }
   ],
   "source": [
    "A = np.ones((5,5,3))\n",
    "B = 2 * np.ones((5,5))\n",
    "print(A * B[:,:,None])"
   ]
  },
  {
   "cell_type": "markdown",
   "metadata": {},
   "source": [
    "#### 72. How to swap two rows of an array? (★★★)"
   ]
  },
  {
   "cell_type": "code",
   "execution_count": 14,
   "metadata": {},
   "outputs": [
    {
     "name": "stdout",
     "output_type": "stream",
     "text": [
      "[[ 5  6  7  8  9]\n",
      " [ 0  1  2  3  4]\n",
      " [10 11 12 13 14]\n",
      " [15 16 17 18 19]\n",
      " [20 21 22 23 24]]\n"
     ]
    }
   ],
   "source": [
    "# Author: Eelco Hoogendoorn\n",
    "A = np.arange(25).reshape(5,5)\n",
    "A[[0,1]] = A[[1,0]]\n",
    "print(A)"
   ]
  },
  {
   "cell_type": "markdown",
   "metadata": {},
   "source": [
    "#### 73. Consider a set of 10 triplets describing 10 triangles (with shared vertices), find the set of unique line segments composing all the  triangles (★★★)"
   ]
  },
  {
   "cell_type": "code",
   "execution_count": 15,
   "metadata": {},
   "outputs": [
    {
     "name": "stdout",
     "output_type": "stream",
     "text": [
      "[( 1,  7) ( 1, 67) ( 3, 30) ( 3, 60) ( 4, 23) ( 4, 66) ( 5, 26) ( 5, 62)\n",
      " ( 7, 22) ( 7, 58) ( 7, 67) ( 8, 43) ( 8, 69) (15, 76) (15, 84) (20, 80)\n",
      " (20, 93) (22, 58) (23, 50) (23, 60) (23, 66) (26, 62) (30, 60) (35, 43)\n",
      " (35, 64) (43, 64) (43, 69) (50, 60) (76, 84) (80, 93)]\n"
     ]
    }
   ],
   "source": [
    "# Author: Nicolas P. Rougier\n",
    "faces = np.random.randint(0, 100, (10,3))\n",
    "F = np.roll(faces.repeat(2, axis = 1), -1, axis = 1)\n",
    "F = F.reshape(len(F) * 3, 2)\n",
    "F = np.sort(F, axis = 1)\n",
    "G = F.view( dtype = [(\"p0\", F.dtype), (\"p1\", F.dtype)] )\n",
    "G = np.unique(G)\n",
    "print(G)"
   ]
  },
  {
   "cell_type": "markdown",
   "metadata": {},
   "source": [
    "#### 74. Given an array C that is a bincount, how to produce an array A such that np.bincount(A) == C? (★★★)"
   ]
  },
  {
   "cell_type": "code",
   "execution_count": 16,
   "metadata": {},
   "outputs": [
    {
     "name": "stdout",
     "output_type": "stream",
     "text": [
      "[1 1 2 3 4 4 6]\n"
     ]
    }
   ],
   "source": [
    "# Author: Jaime Fernández del Río\n",
    "C = np.bincount([1,1,2,3,4,4,6])\n",
    "A = np.repeat(np.arange(len(C)), C)\n",
    "print(A)"
   ]
  },
  {
   "cell_type": "markdown",
   "metadata": {},
   "source": [
    "#### 75. How to compute averages using a sliding window over an array? (★★★)"
   ]
  },
  {
   "cell_type": "code",
   "execution_count": 17,
   "metadata": {},
   "outputs": [
    {
     "name": "stdout",
     "output_type": "stream",
     "text": [
      "[ 1.  2.  3.  4.  5.  6.  7.  8.  9. 10. 11. 12. 13. 14. 15. 16. 17. 18.]\n"
     ]
    }
   ],
   "source": [
    "# Author: Jaime Fernández del Río\n",
    "def moving_average(a, n = 3) :\n",
    "    ret = np.cumsum(a, dtype = float)\n",
    "    ret[n:] = ret[n:] - ret[:-n]\n",
    "    return ret[n - 1:] / n\n",
    "Z = np.arange(20)\n",
    "print(moving_average(Z, n = 3))"
   ]
  },
  {
   "cell_type": "markdown",
   "metadata": {},
   "source": [
    "#### 76. Consider a one-dimensional array Z, build a two-dimensional array whose first row is (Z[0],Z[1],Z[2]) and each subsequent row is  shifted by 1 (last row should be (Z[-3],Z[-2],Z[-1]) (★★★)"
   ]
  },
  {
   "cell_type": "code",
   "execution_count": 18,
   "metadata": {},
   "outputs": [
    {
     "name": "stdout",
     "output_type": "stream",
     "text": [
      "[[0 1 2]\n",
      " [1 2 3]\n",
      " [2 3 4]\n",
      " [3 4 5]\n",
      " [4 5 6]\n",
      " [5 6 7]\n",
      " [6 7 8]\n",
      " [7 8 9]]\n"
     ]
    }
   ],
   "source": [
    "# Author: Joe Kington / Erik Rigtorp\n",
    "from numpy.lib import stride_tricks\n",
    "\n",
    "def rolling(a, window) :\n",
    "    shape = (a.size - window + 1, window)\n",
    "    strides = (a.itemsize, a.itemsize)\n",
    "    return stride_tricks.as_strided(a, shape = shape, strides = strides)\n",
    "Z = rolling(np.arange(10), 3)\n",
    "print(Z)"
   ]
  },
  {
   "cell_type": "markdown",
   "metadata": {},
   "source": [
    "#### 77. How to negate a boolean, or to change the sign of a float inplace? (★★★)"
   ]
  },
  {
   "cell_type": "code",
   "execution_count": 19,
   "metadata": {},
   "outputs": [
    {
     "data": {
      "text/plain": [
       "array([ 0.08444359,  0.42111982, -0.38092701,  0.53732857,  0.41094496,\n",
       "        0.26823632,  0.02855311, -0.13194226, -0.1416815 , -0.90920231,\n",
       "        0.15395755, -0.36271551,  0.7018996 , -0.66073894,  0.67283368,\n",
       "       -0.48221516, -0.20642066,  0.04175243, -0.83385807, -0.35665424,\n",
       "       -0.75173831,  0.46884532, -0.9249826 , -0.9679075 ,  0.86940373,\n",
       "        0.47101037, -0.71441956, -0.78542902,  0.6528735 , -0.76035729,\n",
       "        0.92895384,  0.12097142,  0.92603281, -0.37097632,  0.93495474,\n",
       "       -0.4981282 , -0.54530853, -0.89285695, -0.32756654,  0.45699473,\n",
       "       -0.03320808, -0.42857442, -0.82913562,  0.90390034, -0.93374551,\n",
       "        0.59973603,  0.5927959 , -0.17871031, -0.56333402,  0.12142082,\n",
       "        0.26883294, -0.33601153, -0.7112892 , -0.79469897,  0.28132426,\n",
       "       -0.1124218 , -0.29134888, -0.22678603,  0.23334396,  0.31180105,\n",
       "        0.73242107, -0.88273135,  0.52745678,  0.84856394,  0.34159664,\n",
       "        0.08487413,  0.59166545, -0.49483654, -0.50361257,  0.17182309,\n",
       "       -0.20643156,  0.48976047, -0.11447561, -0.23157622,  0.53737575,\n",
       "       -0.90159271,  0.12969425, -0.87349324,  0.74860007, -0.11578585,\n",
       "       -0.25054546, -0.86983203, -0.42753963, -0.83484623, -0.74118098,\n",
       "       -0.76427793, -0.76672889, -0.75484448,  0.43553292, -0.63200866,\n",
       "       -0.29229882, -0.95219804, -0.58716808,  0.97085611, -0.09599285,\n",
       "        0.49745931, -0.60127235,  0.820854  ,  0.14145818,  0.87440262])"
      ]
     },
     "execution_count": 19,
     "metadata": {},
     "output_type": "execute_result"
    }
   ],
   "source": [
    "# Author: Nathaniel J. Smith\n",
    "Z = np.random.randint(0,2,100)\n",
    "np.logical_not(Z, out = Z)\n",
    "\n",
    "Z = np.random.uniform(-1.0, 1.0, 100)\n",
    "np.negative(Z, out = Z)"
   ]
  },
  {
   "cell_type": "markdown",
   "metadata": {},
   "source": [
    "#### 78. Consider 2 sets of points P0,P1 describing lines (2d) and a point p, how to compute distance from p to each line i (P0[i],P1[i])? (★★★)"
   ]
  },
  {
   "cell_type": "code",
   "execution_count": 20,
   "metadata": {},
   "outputs": [
    {
     "name": "stdout",
     "output_type": "stream",
     "text": [
      "[ 9.21883624  2.6656336  12.9065758   7.188759    5.61662111  0.01746569\n",
      " 12.64584903  1.06960022 13.74544075  0.7018938 ]\n"
     ]
    }
   ],
   "source": [
    "def distance(P0, P1, p) :\n",
    "    T = P1 - P0\n",
    "    L = (T**2).sum(axis = 1)\n",
    "    U = -((P0[:, 0] - p[...,0]) * T[:, 0] + (P0[:, 1] - p[..., 1]) * T[:, 1]) / L\n",
    "    U = U.reshape(len(U), 1)\n",
    "    D = P0 + U * T - p\n",
    "    return np.sqrt((D**2).sum(axis = 1))\n",
    "\n",
    "P0 = np.random.uniform(-10,10,(10,2))\n",
    "P1 = np.random.uniform(-10,10,(10,2))\n",
    "p  = np.random.uniform(-10,10,( 1,2))\n",
    "print(distance(P0, P1, p))"
   ]
  },
  {
   "cell_type": "markdown",
   "metadata": {},
   "source": [
    "#### 79. Consider 2 sets of points P0,P1 describing lines (2d) and a set of points P, how to compute distance from each point j (P[j]) to each line i (P0[i],P1[i])? (★★★)"
   ]
  },
  {
   "cell_type": "code",
   "execution_count": 21,
   "metadata": {},
   "outputs": [
    {
     "name": "stdout",
     "output_type": "stream",
     "text": [
      "[[ 0.4705305  17.25782302 11.93669228  8.49384812  6.39839723  6.73248186\n",
      "  16.9503688   1.05490049  3.68833882 14.66656756]\n",
      " [ 3.54209281  8.06533248  4.09165652  0.34213577  0.04260234  3.00488846\n",
      "   8.04507437  5.05967897  5.40596562  5.75987786]\n",
      " [13.97444326 11.91370953  3.55183795  6.9024385   9.08485012  7.53000026\n",
      "  12.53268673  4.68011792 11.06328786  0.27170172]\n",
      " [ 3.67084043  3.52456292  8.51233881  4.40595513  5.68727011 10.34587211\n",
      "   3.0696166  13.15912508  2.71315244  8.76985829]\n",
      " [ 5.27278726 16.22503157  6.2803444   2.92125499  0.5454408   1.02852314\n",
      "  16.28169785  2.01842292  1.469025    9.40106896]\n",
      " [ 6.47360943  1.99077989  1.3450109   5.29093684  4.57019998  0.26211237\n",
      "   2.17785677  7.51976672 11.63435756  0.35136891]\n",
      " [11.18903086  6.922894    3.33255146  6.96052622  7.77092238  4.59671863\n",
      "   7.38654307  0.79872687 12.12191218  1.10727305]\n",
      " [12.54602058 18.33733581  0.68915341  2.4164206   5.91708559  6.29884726\n",
      "  18.84187442  8.39434462  5.78314934  4.84374975]\n",
      " [ 3.79566404  0.76857183  6.651862    2.35760758  4.61634466 10.60104179\n",
      "   1.21472167 16.3600997   5.39853168  6.22090037]\n",
      " [ 2.70788782  0.11924003  5.96888661  1.72692176  3.74238345  9.49503238\n",
      "   0.49969762 15.16438032  5.82761709  5.7450848 ]]\n"
     ]
    }
   ],
   "source": [
    "# Author: Italmassov Kuanysh\n",
    "# Based on distance function from previous question\n",
    "P0 = np.random.uniform(-10, 10, (10,2))\n",
    "P1 = np.random.uniform(-10, 10, (10,2))\n",
    "p =  np.random.uniform(-10, 10, (10,2))\n",
    "print(np.array([distance(P0,P1,p_i) for p_i in p]))"
   ]
  },
  {
   "cell_type": "markdown",
   "metadata": {},
   "source": [
    "#### 80. Consider an arbitrary array, write a function that extract a subpart with a fixed shape and centered on a given element (pad with a `fill` value when necessary) (★★★)"
   ]
  },
  {
   "cell_type": "code",
   "execution_count": 24,
   "metadata": {},
   "outputs": [
    {
     "ename": "IndexError",
     "evalue": "only integers, slices (`:`), ellipsis (`...`), numpy.newaxis (`None`) and integer or boolean arrays are valid indices",
     "output_type": "error",
     "traceback": [
      "\u001b[1;31m---------------------------------------------------------------------------\u001b[0m",
      "\u001b[1;31mIndexError\u001b[0m                                Traceback (most recent call last)",
      "\u001b[1;32mc:\\Users\\b.waterschoot\\Downloads\\VSCode\\Numpy & Pandas\\05_Exo_Numpy Drill.ipynb Cell 161\u001b[0m line \u001b[0;36m2\n\u001b[0;32m     <a href='vscode-notebook-cell:/c%3A/Users/b.waterschoot/Downloads/VSCode/Numpy%20%26%20Pandas/05_Exo_Numpy%20Drill.ipynb#Y316sZmlsZQ%3D%3D?line=21'>22</a>\u001b[0m r \u001b[39m=\u001b[39m [\u001b[39mslice\u001b[39m(start, stop) \u001b[39mfor\u001b[39;00m start, stop \u001b[39min\u001b[39;00m \u001b[39mzip\u001b[39m(R_start, R_stop)]\n\u001b[0;32m     <a href='vscode-notebook-cell:/c%3A/Users/b.waterschoot/Downloads/VSCode/Numpy%20%26%20Pandas/05_Exo_Numpy%20Drill.ipynb#Y316sZmlsZQ%3D%3D?line=22'>23</a>\u001b[0m z \u001b[39m=\u001b[39m [\u001b[39mslice\u001b[39m(start, stop) \u001b[39mfor\u001b[39;00m start, stop \u001b[39min\u001b[39;00m \u001b[39mzip\u001b[39m(Z_start, Z_stop)]\n\u001b[1;32m---> <a href='vscode-notebook-cell:/c%3A/Users/b.waterschoot/Downloads/VSCode/Numpy%20%26%20Pandas/05_Exo_Numpy%20Drill.ipynb#Y316sZmlsZQ%3D%3D?line=23'>24</a>\u001b[0m R[r] \u001b[39m=\u001b[39m Z[z]\n\u001b[0;32m     <a href='vscode-notebook-cell:/c%3A/Users/b.waterschoot/Downloads/VSCode/Numpy%20%26%20Pandas/05_Exo_Numpy%20Drill.ipynb#Y316sZmlsZQ%3D%3D?line=24'>25</a>\u001b[0m \u001b[39mprint\u001b[39m(Z)\n\u001b[0;32m     <a href='vscode-notebook-cell:/c%3A/Users/b.waterschoot/Downloads/VSCode/Numpy%20%26%20Pandas/05_Exo_Numpy%20Drill.ipynb#Y316sZmlsZQ%3D%3D?line=25'>26</a>\u001b[0m \u001b[39mprint\u001b[39m(R)\n",
      "\u001b[1;31mIndexError\u001b[0m: only integers, slices (`:`), ellipsis (`...`), numpy.newaxis (`None`) and integer or boolean arrays are valid indices"
     ]
    }
   ],
   "source": [
    "# Author: Nicolas Rougier\n",
    "Z = np.random.randint(0,10,(10,10))\n",
    "shape = (5,5)\n",
    "fill = 0\n",
    "position = (1,1)\n",
    "\n",
    "R = np.ones(shape, dtype = Z.dtype) * fill\n",
    "P  = np.array(list(position)).astype(int)\n",
    "Rs = np.array(list(R.shape)).astype(int)\n",
    "Zs = np.array(list(Z.shape)).astype(int)\n",
    "\n",
    "R_start = np.zeros((len(shape),)).astype(int)\n",
    "R_stop  = np.array(list(shape)).astype(int)\n",
    "Z_start = (P - Rs // 2)\n",
    "Z_stop  = (P + Rs // 2) + Rs % 2\n",
    "\n",
    "R_start = (R_start - np.minimum(Z_start, 0)).tolist()\n",
    "Z_start = (np.maximum(Z_start, 0)).tolist()\n",
    "R_stop = np.maximum(R_start, (R_stop - np.maximum(Z_stop - Zs, 0))).tolist()\n",
    "Z_stop = (np.minimum(Z_stop, Zs)).tolist()\n",
    "\n",
    "r = [slice(start, stop) for start, stop in zip(R_start, R_stop)]\n",
    "z = [slice(start, stop) for start, stop in zip(Z_start, Z_stop)]\n",
    "R[r] = Z[z]\n",
    "print(Z)\n",
    "print(R)"
   ]
  },
  {
   "cell_type": "markdown",
   "metadata": {},
   "source": [
    "#### 81. Consider an array Z = [1,2,3,4,5,6,7,8,9,10,11,12,13,14], how to generate an array R = [[1,2,3,4], [2,3,4,5], [3,4,5,6], ..., [11,12,13,14]]? (★★★)"
   ]
  },
  {
   "cell_type": "code",
   "execution_count": 25,
   "metadata": {},
   "outputs": [
    {
     "name": "stdout",
     "output_type": "stream",
     "text": [
      "[[ 1  2  3  4]\n",
      " [ 2  3  4  5]\n",
      " [ 3  4  5  6]\n",
      " [ 4  5  6  7]\n",
      " [ 5  6  7  8]\n",
      " [ 6  7  8  9]\n",
      " [ 7  8  9 10]\n",
      " [ 8  9 10 11]\n",
      " [ 9 10 11 12]\n",
      " [10 11 12 13]\n",
      " [11 12 13 14]]\n"
     ]
    }
   ],
   "source": [
    "# Author: Stefan van der Walt\n",
    "Z = np.arange(1,15, dtype = np.uint32)\n",
    "R = stride_tricks.as_strided(Z, (11,4), (4,4))\n",
    "print(R)"
   ]
  },
  {
   "cell_type": "markdown",
   "metadata": {},
   "source": [
    "#### 82. Compute a matrix rank (★★★)"
   ]
  },
  {
   "cell_type": "code",
   "execution_count": 26,
   "metadata": {},
   "outputs": [
    {
     "name": "stdout",
     "output_type": "stream",
     "text": [
      "10\n"
     ]
    }
   ],
   "source": [
    "# Author: Stefan van der Walt\n",
    "Z = np.random.uniform(0, 1, (10,10))\n",
    "U, S, V = np.linalg.svd(Z) # Singular Value Decomposition\n",
    "rank = np.sum(S > 1e-10)\n",
    "print(rank)"
   ]
  },
  {
   "cell_type": "markdown",
   "metadata": {},
   "source": [
    "#### 83. How to find the most frequent value in an array?"
   ]
  },
  {
   "cell_type": "code",
   "execution_count": 31,
   "metadata": {},
   "outputs": [
    {
     "name": "stdout",
     "output_type": "stream",
     "text": [
      "8\n"
     ]
    }
   ],
   "source": [
    "Z = np.random.randint(0,10,50)\n",
    "print(np.bincount(Z).argmax())"
   ]
  },
  {
   "cell_type": "markdown",
   "metadata": {},
   "source": [
    "#### 84. Extract all the contiguous 3x3 blocks from a random 10x10 matrix (★★★)"
   ]
  },
  {
   "cell_type": "code",
   "execution_count": 32,
   "metadata": {},
   "outputs": [
    {
     "name": "stdout",
     "output_type": "stream",
     "text": [
      "[[[[3 2 0]\n",
      "   [4 2 2]\n",
      "   [4 0 4]]\n",
      "\n",
      "  [[2 0 1]\n",
      "   [2 2 0]\n",
      "   [0 4 0]]\n",
      "\n",
      "  [[0 1 2]\n",
      "   [2 0 1]\n",
      "   [4 0 2]]\n",
      "\n",
      "  [[1 2 3]\n",
      "   [0 1 4]\n",
      "   [0 2 1]]\n",
      "\n",
      "  [[2 3 4]\n",
      "   [1 4 2]\n",
      "   [2 1 1]]\n",
      "\n",
      "  [[3 4 2]\n",
      "   [4 2 0]\n",
      "   [1 1 2]]\n",
      "\n",
      "  [[4 2 0]\n",
      "   [2 0 1]\n",
      "   [1 2 4]]\n",
      "\n",
      "  [[2 0 4]\n",
      "   [0 1 3]\n",
      "   [2 4 4]]]\n",
      "\n",
      "\n",
      " [[[4 2 2]\n",
      "   [4 0 4]\n",
      "   [4 2 3]]\n",
      "\n",
      "  [[2 2 0]\n",
      "   [0 4 0]\n",
      "   [2 3 2]]\n",
      "\n",
      "  [[2 0 1]\n",
      "   [4 0 2]\n",
      "   [3 2 1]]\n",
      "\n",
      "  [[0 1 4]\n",
      "   [0 2 1]\n",
      "   [2 1 0]]\n",
      "\n",
      "  [[1 4 2]\n",
      "   [2 1 1]\n",
      "   [1 0 3]]\n",
      "\n",
      "  [[4 2 0]\n",
      "   [1 1 2]\n",
      "   [0 3 3]]\n",
      "\n",
      "  [[2 0 1]\n",
      "   [1 2 4]\n",
      "   [3 3 4]]\n",
      "\n",
      "  [[0 1 3]\n",
      "   [2 4 4]\n",
      "   [3 4 1]]]\n",
      "\n",
      "\n",
      " [[[4 0 4]\n",
      "   [4 2 3]\n",
      "   [0 2 4]]\n",
      "\n",
      "  [[0 4 0]\n",
      "   [2 3 2]\n",
      "   [2 4 3]]\n",
      "\n",
      "  [[4 0 2]\n",
      "   [3 2 1]\n",
      "   [4 3 3]]\n",
      "\n",
      "  [[0 2 1]\n",
      "   [2 1 0]\n",
      "   [3 3 2]]\n",
      "\n",
      "  [[2 1 1]\n",
      "   [1 0 3]\n",
      "   [3 2 1]]\n",
      "\n",
      "  [[1 1 2]\n",
      "   [0 3 3]\n",
      "   [2 1 1]]\n",
      "\n",
      "  [[1 2 4]\n",
      "   [3 3 4]\n",
      "   [1 1 3]]\n",
      "\n",
      "  [[2 4 4]\n",
      "   [3 4 1]\n",
      "   [1 3 3]]]\n",
      "\n",
      "\n",
      " [[[4 2 3]\n",
      "   [0 2 4]\n",
      "   [2 4 0]]\n",
      "\n",
      "  [[2 3 2]\n",
      "   [2 4 3]\n",
      "   [4 0 0]]\n",
      "\n",
      "  [[3 2 1]\n",
      "   [4 3 3]\n",
      "   [0 0 0]]\n",
      "\n",
      "  [[2 1 0]\n",
      "   [3 3 2]\n",
      "   [0 0 2]]\n",
      "\n",
      "  [[1 0 3]\n",
      "   [3 2 1]\n",
      "   [0 2 4]]\n",
      "\n",
      "  [[0 3 3]\n",
      "   [2 1 1]\n",
      "   [2 4 4]]\n",
      "\n",
      "  [[3 3 4]\n",
      "   [1 1 3]\n",
      "   [4 4 1]]\n",
      "\n",
      "  [[3 4 1]\n",
      "   [1 3 3]\n",
      "   [4 1 1]]]\n",
      "\n",
      "\n",
      " [[[0 2 4]\n",
      "   [2 4 0]\n",
      "   [4 2 4]]\n",
      "\n",
      "  [[2 4 3]\n",
      "   [4 0 0]\n",
      "   [2 4 0]]\n",
      "\n",
      "  [[4 3 3]\n",
      "   [0 0 0]\n",
      "   [4 0 1]]\n",
      "\n",
      "  [[3 3 2]\n",
      "   [0 0 2]\n",
      "   [0 1 0]]\n",
      "\n",
      "  [[3 2 1]\n",
      "   [0 2 4]\n",
      "   [1 0 0]]\n",
      "\n",
      "  [[2 1 1]\n",
      "   [2 4 4]\n",
      "   [0 0 2]]\n",
      "\n",
      "  [[1 1 3]\n",
      "   [4 4 1]\n",
      "   [0 2 1]]\n",
      "\n",
      "  [[1 3 3]\n",
      "   [4 1 1]\n",
      "   [2 1 2]]]\n",
      "\n",
      "\n",
      " [[[2 4 0]\n",
      "   [4 2 4]\n",
      "   [0 4 0]]\n",
      "\n",
      "  [[4 0 0]\n",
      "   [2 4 0]\n",
      "   [4 0 4]]\n",
      "\n",
      "  [[0 0 0]\n",
      "   [4 0 1]\n",
      "   [0 4 0]]\n",
      "\n",
      "  [[0 0 2]\n",
      "   [0 1 0]\n",
      "   [4 0 1]]\n",
      "\n",
      "  [[0 2 4]\n",
      "   [1 0 0]\n",
      "   [0 1 2]]\n",
      "\n",
      "  [[2 4 4]\n",
      "   [0 0 2]\n",
      "   [1 2 0]]\n",
      "\n",
      "  [[4 4 1]\n",
      "   [0 2 1]\n",
      "   [2 0 1]]\n",
      "\n",
      "  [[4 1 1]\n",
      "   [2 1 2]\n",
      "   [0 1 1]]]\n",
      "\n",
      "\n",
      " [[[4 2 4]\n",
      "   [0 4 0]\n",
      "   [0 1 1]]\n",
      "\n",
      "  [[2 4 0]\n",
      "   [4 0 4]\n",
      "   [1 1 4]]\n",
      "\n",
      "  [[4 0 1]\n",
      "   [0 4 0]\n",
      "   [1 4 3]]\n",
      "\n",
      "  [[0 1 0]\n",
      "   [4 0 1]\n",
      "   [4 3 1]]\n",
      "\n",
      "  [[1 0 0]\n",
      "   [0 1 2]\n",
      "   [3 1 3]]\n",
      "\n",
      "  [[0 0 2]\n",
      "   [1 2 0]\n",
      "   [1 3 2]]\n",
      "\n",
      "  [[0 2 1]\n",
      "   [2 0 1]\n",
      "   [3 2 2]]\n",
      "\n",
      "  [[2 1 2]\n",
      "   [0 1 1]\n",
      "   [2 2 4]]]\n",
      "\n",
      "\n",
      " [[[0 4 0]\n",
      "   [0 1 1]\n",
      "   [3 1 2]]\n",
      "\n",
      "  [[4 0 4]\n",
      "   [1 1 4]\n",
      "   [1 2 1]]\n",
      "\n",
      "  [[0 4 0]\n",
      "   [1 4 3]\n",
      "   [2 1 3]]\n",
      "\n",
      "  [[4 0 1]\n",
      "   [4 3 1]\n",
      "   [1 3 2]]\n",
      "\n",
      "  [[0 1 2]\n",
      "   [3 1 3]\n",
      "   [3 2 2]]\n",
      "\n",
      "  [[1 2 0]\n",
      "   [1 3 2]\n",
      "   [2 2 1]]\n",
      "\n",
      "  [[2 0 1]\n",
      "   [3 2 2]\n",
      "   [2 1 1]]\n",
      "\n",
      "  [[0 1 1]\n",
      "   [2 2 4]\n",
      "   [1 1 4]]]]\n"
     ]
    }
   ],
   "source": [
    "# Author: Chris Barker\n",
    "Z = np.random.randint(0, 5, (10,10))\n",
    "n = 3\n",
    "i = 1 + (Z.shape[0] - 3)\n",
    "j = 1 + (Z.shape[1] - 3)\n",
    "C = stride_tricks.as_strided(Z, shape = (i, j, n, n), strides = Z.strides + Z.strides)\n",
    "print(C)"
   ]
  },
  {
   "cell_type": "markdown",
   "metadata": {},
   "source": [
    "#### 85. Create a 2D array subclass such that Z[i,j] == Z[j,i] (★★★)"
   ]
  },
  {
   "cell_type": "code",
   "execution_count": 33,
   "metadata": {},
   "outputs": [
    {
     "name": "stdout",
     "output_type": "stream",
     "text": [
      "[[ 3  8 10  8 13]\n",
      " [ 8  8  9  8 11]\n",
      " [10  9  8 42  7]\n",
      " [ 8  8 42  1 15]\n",
      " [13 11  7 15  6]]\n"
     ]
    }
   ],
   "source": [
    "# Author: Eric O. Lebigot\n",
    "# Note: only works for 2d array and value setting using indices\n",
    "\n",
    "class Symetric(np.ndarray) :\n",
    "    def __setitem__(self, index, value) :\n",
    "        i,j = index\n",
    "        super(Symetric, self).__setitem__((i,j), value)\n",
    "        super(Symetric, self).__setitem__((j,i), value)\n",
    "\n",
    "def symetric(Z) :\n",
    "    return np.asarray(Z + Z.T - np.diag(Z.diagonal())).view(Symetric)\n",
    "\n",
    "S = symetric(np.random.randint(0,10,(5,5)))\n",
    "S[2,3] = 42\n",
    "print(S)"
   ]
  },
  {
   "cell_type": "markdown",
   "metadata": {},
   "source": [
    "#### 86. Consider a set of p matrices wich shape (n,n) and a set of p vectors with shape (n,1). How to compute the sum of of the p matrix products at once? (result has shape (n,1)) (★★★)"
   ]
  },
  {
   "cell_type": "code",
   "execution_count": 35,
   "metadata": {},
   "outputs": [
    {
     "name": "stdout",
     "output_type": "stream",
     "text": [
      "[[200.]\n",
      " [200.]\n",
      " [200.]\n",
      " [200.]\n",
      " [200.]\n",
      " [200.]\n",
      " [200.]\n",
      " [200.]\n",
      " [200.]\n",
      " [200.]\n",
      " [200.]\n",
      " [200.]\n",
      " [200.]\n",
      " [200.]\n",
      " [200.]\n",
      " [200.]\n",
      " [200.]\n",
      " [200.]\n",
      " [200.]\n",
      " [200.]]\n"
     ]
    }
   ],
   "source": [
    "# Author: Stefan van der Walt\n",
    "p, n = 10, 20\n",
    "M = np.ones((p, n, n))\n",
    "V = np.ones((p, n, 1))\n",
    "S = np.tensordot(M, V, axes = [[0, 2], [0, 1]])\n",
    "print(S)\n",
    "\n",
    "# It works, because:\n",
    "# M is (p,n,n)\n",
    "# V is (p,n,1)\n",
    "# Thus, summing over the paired axes 0 and 0 (of M and V independently),\n",
    "# and 2 and 1, to remain with a (n,1) vector."
   ]
  },
  {
   "cell_type": "markdown",
   "metadata": {},
   "source": [
    "#### 87. Consider a 16x16 array, how to get the block-sum (block size is 4x4)? (★★★)"
   ]
  },
  {
   "cell_type": "code",
   "execution_count": 36,
   "metadata": {},
   "outputs": [
    {
     "name": "stdout",
     "output_type": "stream",
     "text": [
      "[[16. 16. 16. 16.]\n",
      " [16. 16. 16. 16.]\n",
      " [16. 16. 16. 16.]\n",
      " [16. 16. 16. 16.]]\n"
     ]
    }
   ],
   "source": [
    "# Author: Robert Kern\n",
    "Z = np.ones((16,16))\n",
    "k = 4\n",
    "S = np.add.reduceat(np.add.reduceat(Z, np.arange(0, Z.shape[0], k), axis = 0),\n",
    "                                       np.arange(0, Z.shape[1], k), axis = 1)\n",
    "print(S)"
   ]
  },
  {
   "cell_type": "markdown",
   "metadata": {},
   "source": [
    "#### 88. How to implement the Game of Life using numpy arrays? (★★★)"
   ]
  },
  {
   "cell_type": "code",
   "execution_count": 37,
   "metadata": {},
   "outputs": [
    {
     "name": "stdout",
     "output_type": "stream",
     "text": [
      "[[0 0 0 ... 0 0 0]\n",
      " [0 0 0 ... 0 0 0]\n",
      " [0 0 0 ... 0 0 0]\n",
      " ...\n",
      " [0 0 0 ... 0 0 0]\n",
      " [0 0 0 ... 0 0 0]\n",
      " [0 0 0 ... 0 0 0]]\n"
     ]
    }
   ],
   "source": [
    "# Author: Nicolas Rougier\n",
    "def iterate(Z) :\n",
    "    # Count neighbours\n",
    "    N = (Z[0:-2, 0:-2] + Z[0:-2, 1:-1] + Z[0:-2, 2:] +\n",
    "         Z[1:-1, 0:-2]                 + Z[1:-1, 2:] +\n",
    "         Z[2:  , 0:-2] + Z[2:  , 1:-1] + Z[2:  , 2:])\n",
    "\n",
    "    # Apply rules\n",
    "    birth = (N == 3) & (Z[1:-1, 1:-1] == 0)\n",
    "    survive = ((N == 2) | (N == 3)) & (Z[1:-1, 1:-1] == 1)\n",
    "    Z[...] = 0\n",
    "    Z[1:-1, 1:-1][birth | survive] = 1\n",
    "    return Z\n",
    "\n",
    "Z = np.random.randint(0,2,(50,50))\n",
    "for i in range(100): Z = iterate(Z)\n",
    "print(Z)"
   ]
  },
  {
   "cell_type": "markdown",
   "metadata": {},
   "source": [
    "#### 89. How to get the n largest values of an array (★★★)"
   ]
  },
  {
   "cell_type": "code",
   "execution_count": 38,
   "metadata": {},
   "outputs": [
    {
     "name": "stdout",
     "output_type": "stream",
     "text": [
      "[9995 9996 9997 9998 9999]\n",
      "[9997 9998 9999 9996 9995]\n"
     ]
    }
   ],
   "source": [
    "Z = np.arange(10000)\n",
    "np.random.shuffle(Z)\n",
    "n = 5\n",
    "\n",
    "# Slow\n",
    "print (Z[np.argsort(Z)[-n:]])\n",
    "\n",
    "# Fast\n",
    "print (Z[np.argpartition(-Z,n)[:n]])"
   ]
  },
  {
   "cell_type": "markdown",
   "metadata": {},
   "source": [
    "#### 90. Given an arbitrary number of vectors, build the cartesian product (every combinations of every item) (★★★)"
   ]
  },
  {
   "cell_type": "code",
   "execution_count": 39,
   "metadata": {},
   "outputs": [
    {
     "name": "stdout",
     "output_type": "stream",
     "text": [
      "[[1 4 6]\n",
      " [1 4 7]\n",
      " [1 5 6]\n",
      " [1 5 7]\n",
      " [2 4 6]\n",
      " [2 4 7]\n",
      " [2 5 6]\n",
      " [2 5 7]\n",
      " [3 4 6]\n",
      " [3 4 7]\n",
      " [3 5 6]\n",
      " [3 5 7]]\n"
     ]
    }
   ],
   "source": [
    "# Author: Stefan Van der Walt\n",
    "def cartesian(arrays) :\n",
    "    arrays = [np.asarray(a) for a in arrays]\n",
    "    shape = (len(x) for x in arrays)\n",
    "\n",
    "    ix = np.indices(shape, dtype = int)\n",
    "    ix = ix.reshape(len(arrays), -1).T\n",
    "\n",
    "    for n, arr in enumerate(arrays):\n",
    "        ix[:, n] = arrays[n][ix[:, n]]\n",
    "\n",
    "    return ix\n",
    "\n",
    "print (cartesian(([1, 2, 3], [4, 5], [6, 7])))"
   ]
  },
  {
   "cell_type": "markdown",
   "metadata": {},
   "source": [
    "#### 91. How to create a record array from a regular array? (★★★)"
   ]
  },
  {
   "cell_type": "code",
   "execution_count": 40,
   "metadata": {},
   "outputs": [
    {
     "name": "stdout",
     "output_type": "stream",
     "text": [
      "[(b'Hello', 2.5, 3) (b'World', 3.6, 2)]\n"
     ]
    }
   ],
   "source": [
    "Z = np.array([(\"Hello\", 2.5, 3),\n",
    "              (\"World\", 3.6, 2)])\n",
    "R = np.core.records.fromarrays(Z.T, \n",
    "                               names = \"col1, col2, col3\",\n",
    "                               formats = \"S8, f8, i8\")\n",
    "print(R)"
   ]
  },
  {
   "cell_type": "markdown",
   "metadata": {},
   "source": [
    "#### 92. Consider a large vector Z, compute Z to the power of 3 using 3 different methods (★★★)"
   ]
  },
  {
   "cell_type": "code",
   "execution_count": 41,
   "metadata": {},
   "outputs": [
    {
     "ename": "TypeError",
     "evalue": "'float' object cannot be interpreted as an integer",
     "output_type": "error",
     "traceback": [
      "\u001b[1;31m---------------------------------------------------------------------------\u001b[0m",
      "\u001b[1;31mTypeError\u001b[0m                                 Traceback (most recent call last)",
      "\u001b[1;32mc:\\Users\\b.waterschoot\\Downloads\\VSCode\\Numpy & Pandas\\05_Exo_Numpy Drill.ipynb Cell 185\u001b[0m line \u001b[0;36m2\n\u001b[0;32m      <a href='vscode-notebook-cell:/c%3A/Users/b.waterschoot/Downloads/VSCode/Numpy%20%26%20Pandas/05_Exo_Numpy%20Drill.ipynb#Y352sZmlsZQ%3D%3D?line=0'>1</a>\u001b[0m \u001b[39m# Author: Ryan G.\u001b[39;00m\n\u001b[1;32m----> <a href='vscode-notebook-cell:/c%3A/Users/b.waterschoot/Downloads/VSCode/Numpy%20%26%20Pandas/05_Exo_Numpy%20Drill.ipynb#Y352sZmlsZQ%3D%3D?line=1'>2</a>\u001b[0m x \u001b[39m=\u001b[39m np\u001b[39m.\u001b[39;49mrandom\u001b[39m.\u001b[39;49mrand(\u001b[39m5e7\u001b[39;49m)\n\u001b[0;32m      <a href='vscode-notebook-cell:/c%3A/Users/b.waterschoot/Downloads/VSCode/Numpy%20%26%20Pandas/05_Exo_Numpy%20Drill.ipynb#Y352sZmlsZQ%3D%3D?line=3'>4</a>\u001b[0m get_ipython()\u001b[39m.\u001b[39mrun_line_magic(\u001b[39m'\u001b[39m\u001b[39mtimeit\u001b[39m\u001b[39m'\u001b[39m, \u001b[39m'\u001b[39m\u001b[39mnp.power(x, 3)\u001b[39m\u001b[39m'\u001b[39m)\n\u001b[0;32m      <a href='vscode-notebook-cell:/c%3A/Users/b.waterschoot/Downloads/VSCode/Numpy%20%26%20Pandas/05_Exo_Numpy%20Drill.ipynb#Y352sZmlsZQ%3D%3D?line=4'>5</a>\u001b[0m get_ipython()\u001b[39m.\u001b[39mrun_line_magic(\u001b[39m'\u001b[39m\u001b[39mtimeit\u001b[39m\u001b[39m'\u001b[39m, \u001b[39m'\u001b[39m\u001b[39mx * x * x\u001b[39m\u001b[39m'\u001b[39m)\n",
      "File \u001b[1;32mnumpy\\\\random\\\\mtrand.pyx:1218\u001b[0m, in \u001b[0;36mnumpy.random.mtrand.RandomState.rand\u001b[1;34m()\u001b[0m\n",
      "File \u001b[1;32mnumpy\\\\random\\\\mtrand.pyx:436\u001b[0m, in \u001b[0;36mnumpy.random.mtrand.RandomState.random_sample\u001b[1;34m()\u001b[0m\n",
      "File \u001b[1;32m_common.pyx:307\u001b[0m, in \u001b[0;36mnumpy.random._common.double_fill\u001b[1;34m()\u001b[0m\n",
      "\u001b[1;31mTypeError\u001b[0m: 'float' object cannot be interpreted as an integer"
     ]
    }
   ],
   "source": [
    "# Author: Ryan G.\n",
    "x = np.random.rand(5e7)\n",
    "\n",
    "%timeit np.power(x, 3)\n",
    "%timeit x * x * x\n",
    "%timeit np.einsum(\"i,i,i->i\", x, x, x)"
   ]
  },
  {
   "cell_type": "markdown",
   "metadata": {},
   "source": [
    "#### 93. Consider two arrays A and B of shape (8,3) and (2,2). How to find rows of A that contain elements of each row of B regardless of the order of the elements in B? (★★★)"
   ]
  },
  {
   "cell_type": "code",
   "execution_count": 44,
   "metadata": {},
   "outputs": [
    {
     "name": "stdout",
     "output_type": "stream",
     "text": [
      "[0 2 3 5 6]\n"
     ]
    }
   ],
   "source": [
    "# Author: Gabe Schwartz\n",
    "A = np.random.randint(0,5,(8,3))\n",
    "B = np.random.randint(0,5,(2,2))\n",
    "\n",
    "C = (A[..., np.newaxis, np.newaxis] == B)\n",
    "rows = np.where(C.any((3,1)).all(1))[0]\n",
    "print(rows)"
   ]
  },
  {
   "cell_type": "markdown",
   "metadata": {},
   "source": [
    "#### 94. Considering a 10x3 matrix, extract rows with unequal values (e.g. [2,2,3]) (★★★)"
   ]
  },
  {
   "cell_type": "code",
   "execution_count": 45,
   "metadata": {},
   "outputs": [
    {
     "name": "stdout",
     "output_type": "stream",
     "text": [
      "[[0 1 1]\n",
      " [4 0 4]\n",
      " [1 3 1]\n",
      " [1 2 3]\n",
      " [4 4 3]\n",
      " [3 1 1]\n",
      " [2 1 2]\n",
      " [1 0 2]\n",
      " [4 3 3]\n",
      " [2 1 0]]\n",
      "[[0 1 1]\n",
      " [4 0 4]\n",
      " [1 3 1]\n",
      " [1 2 3]\n",
      " [4 4 3]\n",
      " [3 1 1]\n",
      " [2 1 2]\n",
      " [1 0 2]\n",
      " [4 3 3]\n",
      " [2 1 0]]\n",
      "[[0 1 1]\n",
      " [4 0 4]\n",
      " [1 3 1]\n",
      " [1 2 3]\n",
      " [4 4 3]\n",
      " [3 1 1]\n",
      " [2 1 2]\n",
      " [1 0 2]\n",
      " [4 3 3]\n",
      " [2 1 0]]\n"
     ]
    }
   ],
   "source": [
    "# Author: Robert Kern\n",
    "Z = np.random.randint(0,5,(10,3))\n",
    "print(Z)\n",
    "\n",
    "# Solution for arrays of all dtypes (including string arrays and record arrays)\n",
    "E = np.all(Z[:,1:] == Z[:,:-1], axis = 1)\n",
    "U = Z[~E]\n",
    "print(U)\n",
    "\n",
    "# Solution for numerical arrays only, will work for any number of columns in Z\n",
    "U = Z[Z.max(axis = 1) != Z.min(axis = 1),:]\n",
    "print(U)"
   ]
  },
  {
   "cell_type": "markdown",
   "metadata": {},
   "source": [
    "#### 95. Convert a vector of ints into a matrix binary representation (★★★)"
   ]
  },
  {
   "cell_type": "code",
   "execution_count": 46,
   "metadata": {},
   "outputs": [
    {
     "name": "stdout",
     "output_type": "stream",
     "text": [
      "[[0 0 0 0 0 0 0 0]\n",
      " [0 0 0 0 0 0 0 1]\n",
      " [0 0 0 0 0 0 1 0]\n",
      " [0 0 0 0 0 0 1 1]\n",
      " [0 0 0 0 1 1 1 1]\n",
      " [0 0 0 1 0 0 0 0]\n",
      " [0 0 1 0 0 0 0 0]\n",
      " [0 1 0 0 0 0 0 0]\n",
      " [1 0 0 0 0 0 0 0]]\n",
      "[[0 0 0 0 0 0 0 0]\n",
      " [0 0 0 0 0 0 0 1]\n",
      " [0 0 0 0 0 0 1 0]\n",
      " [0 0 0 0 0 0 1 1]\n",
      " [0 0 0 0 1 1 1 1]\n",
      " [0 0 0 1 0 0 0 0]\n",
      " [0 0 1 0 0 0 0 0]\n",
      " [0 1 0 0 0 0 0 0]\n",
      " [1 0 0 0 0 0 0 0]]\n"
     ]
    }
   ],
   "source": [
    "# Author: Warren Weckesser\n",
    "I = np.array([0, 1, 2, 3, 15, 16, 32, 64, 128])\n",
    "B = ((I.reshape(-1,1) & (2**np.arange(8))) != 0).astype(int)\n",
    "print(B[:,::-1])\n",
    "\n",
    "# Author: Daniel T. McDonald\n",
    "I = np.array([0, 1, 2, 3, 15, 16, 32, 64, 128], dtype = np.uint8)\n",
    "print(np.unpackbits(I[:, np.newaxis], axis = 1))"
   ]
  },
  {
   "cell_type": "markdown",
   "metadata": {},
   "source": [
    "#### 96. Given a two dimensional array, how to extract unique rows? (★★★)"
   ]
  },
  {
   "cell_type": "code",
   "execution_count": 47,
   "metadata": {},
   "outputs": [
    {
     "name": "stdout",
     "output_type": "stream",
     "text": [
      "[[0 0 1]\n",
      " [1 0 0]\n",
      " [1 0 1]\n",
      " [1 1 0]]\n"
     ]
    }
   ],
   "source": [
    "# Author: Jaime Fernández del Río\n",
    "Z = np.random.randint(0,2,(6,3))\n",
    "T = np.ascontiguousarray(Z).view(np.dtype((np.void, Z.dtype.itemsize * Z.shape[1])))\n",
    "_, idx = np.unique(T, return_index = True)\n",
    "uZ = Z[idx]\n",
    "print(uZ)"
   ]
  },
  {
   "cell_type": "markdown",
   "metadata": {},
   "source": [
    "#### 97. Considering 2 vectors A & B, write the einsum equivalent of inner, outer, sum, and mul function (★★★)"
   ]
  },
  {
   "cell_type": "code",
   "execution_count": 48,
   "metadata": {},
   "outputs": [
    {
     "data": {
      "text/plain": [
       "array([[0.28530829, 0.10018953, 0.30970448, 0.03749886, 0.45065953,\n",
       "        0.07116235, 0.37818882, 0.03224336, 0.52379414, 0.23213955],\n",
       "       [0.29519783, 0.10366236, 0.32043966, 0.03879867, 0.46628058,\n",
       "        0.07362902, 0.39129785, 0.033361  , 0.54195023, 0.24018613],\n",
       "       [0.09634358, 0.03383224, 0.10458175, 0.0126627 , 0.15217978,\n",
       "        0.02403027, 0.1277077 , 0.01088801, 0.17687606, 0.07838944],\n",
       "       [0.0481292 , 0.01690116, 0.05224464, 0.00632575, 0.07602262,\n",
       "        0.01200451, 0.0637974 , 0.00543919, 0.08835984, 0.03916007],\n",
       "       [0.43174451, 0.15161241, 0.4686622 , 0.05674538, 0.68196328,\n",
       "        0.10768686, 0.57229654, 0.04879246, 0.79263469, 0.3512866 ],\n",
       "       [0.19840941, 0.06967391, 0.21537504, 0.0260775 , 0.31339815,\n",
       "        0.0494878 , 0.26300049, 0.02242271, 0.36425751, 0.16143475],\n",
       "       [0.11369497, 0.03992539, 0.12341682, 0.01494325, 0.17958722,\n",
       "        0.0283581 , 0.15070774, 0.01284893, 0.20873127, 0.0925073 ],\n",
       "       [0.00718236, 0.00252217, 0.00779651, 0.000944  , 0.01134491,\n",
       "        0.00179144, 0.00952054, 0.0008117 , 0.01318601, 0.00584389],\n",
       "       [0.03551034, 0.0124699 , 0.03854677, 0.00466722, 0.05609047,\n",
       "        0.00885708, 0.04707054, 0.00401311, 0.06519302, 0.0288928 ],\n",
       "       [0.28982755, 0.10177652, 0.31461017, 0.03809284, 0.45779794,\n",
       "        0.07228955, 0.3841793 , 0.03275409, 0.532091  , 0.23581662]])"
      ]
     },
     "execution_count": 48,
     "metadata": {},
     "output_type": "execute_result"
    }
   ],
   "source": [
    "# Author: Alex Riley\n",
    "# Make sure to read: http://ajcr.net/Basic-guide-to-einsum/\n",
    "A = np.random.uniform(0,1,10)\n",
    "B = np.random.uniform(0,1,10)\n",
    "\n",
    "np.einsum(\"i->\", A)       # np.sum(A)\n",
    "np.einsum(\"i,i->i\", A, B) # A * B\n",
    "np.einsum(\"i,i\", A, B)    # np.inner(A, B)\n",
    "np.einsum(\"i,j->ij\", A, B)    # np.outer(A, B)"
   ]
  },
  {
   "cell_type": "markdown",
   "metadata": {},
   "source": [
    "#### 98. Considering a path described by two vectors (X,Y), how to sample it using equidistant samples (★★★)?"
   ]
  },
  {
   "cell_type": "code",
   "execution_count": 49,
   "metadata": {},
   "outputs": [],
   "source": [
    "# Author: Bas Swinckels\n",
    "phi = np.arange(0, 10 * np.pi, 0.1)\n",
    "a = 1\n",
    "x = a * phi * np.cos(phi)\n",
    "y = a * phi * np.sin(phi)\n",
    "\n",
    "dr = (np.diff(x)**2 + np.diff(y)**2)**.5 # segment lengths\n",
    "r = np.zeros_like(x)\n",
    "r[1:] = np.cumsum(dr)                # integrate path\n",
    "r_int = np.linspace(0, r.max(), 200) # regular spaced path\n",
    "x_int = np.interp(r_int, r, x)       # integrate path\n",
    "y_int = np.interp(r_int, r, y)"
   ]
  },
  {
   "cell_type": "markdown",
   "metadata": {},
   "source": [
    "#### 99. Given an integer n and a 2D array X, select from X the rows which can be interpreted as draws from a multinomial distribution with n degrees, i.e., the rows which only contain integers and which sum to n. (★★★)"
   ]
  },
  {
   "cell_type": "code",
   "execution_count": 50,
   "metadata": {},
   "outputs": [
    {
     "name": "stdout",
     "output_type": "stream",
     "text": [
      "[[2. 0. 1. 1.]]\n"
     ]
    }
   ],
   "source": [
    "# Author: Evgeni Burovski\n",
    "X = np.asarray([[1.0, 0.0, 3.0, 8.0],\n",
    "                [2.0, 0.0, 1.0, 1.0],\n",
    "                [1.5, 2.5, 1.0, 0.0]])\n",
    "n = 4\n",
    "M = np.logical_and.reduce(np.mod(X, 1) == 0, axis = -1)\n",
    "M &= (X.sum(axis = -1) == n)\n",
    "print(X[M])"
   ]
  },
  {
   "cell_type": "markdown",
   "metadata": {},
   "source": [
    "#### 100. Compute bootstrapped 95% confidence intervals for the mean of a 1D array X (i.e., resample the elements of an array with replacement N times, compute the mean of each sample, and then compute percentiles over the means). (★★★)"
   ]
  },
  {
   "cell_type": "code",
   "execution_count": 56,
   "metadata": {},
   "outputs": [
    {
     "name": "stdout",
     "output_type": "stream",
     "text": [
      "[-0.21466603  0.19081233]\n"
     ]
    }
   ],
   "source": [
    "# Author: Jessica B. Hamrick\n",
    "X = np.random.randn(100) # random 1D array\n",
    "N = 1000 # number of bootstrap samples\n",
    "idx = np.random.randint(0, X.size, (N, X.size))\n",
    "means = X[idx].mean(axis = 1)\n",
    "confint = np.percentile(means, [2.5, 97.5])\n",
    "print(confint)"
   ]
  }
 ],
 "metadata": {
  "kernelspec": {
   "display_name": "Python 3",
   "language": "python",
   "name": "python3"
  },
  "language_info": {
   "codemirror_mode": {
    "name": "ipython",
    "version": 3
   },
   "file_extension": ".py",
   "mimetype": "text/x-python",
   "name": "python",
   "nbconvert_exporter": "python",
   "pygments_lexer": "ipython3",
   "version": "3.10.13"
  }
 },
 "nbformat": 4,
 "nbformat_minor": 2
}
