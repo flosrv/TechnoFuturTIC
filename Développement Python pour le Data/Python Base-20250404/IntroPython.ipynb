{
 "cells": [
  {
   "cell_type": "markdown",
   "metadata": {},
   "source": [
    "# Formation Python - Introduction\n",
    "\n",
    "### 0. Introduction à Python\n",
    "\n",
    "#### Qu'est-ce que Python ?\n",
    "Python est un langage de programmation créé par Guido van Rossum et publié pour la première fois en 1991. C'est un langage :\n",
    "- Interprété\n",
    "- De haut niveau\n",
    "- À typage dynamique\n",
    "- Multi-paradigme (orienté objet, impératif, fonctionnel)\n",
    "- Open source\n",
    "\n",
    "#### Pourquoi Python ?\n",
    "- Syntaxe claire et lisible\n",
    "- Grande bibliothèque standard\n",
    "- Grand nombre de bibliothèques en tout genre\n",
    "- Large communauté et nombreuses ressources\n",
    "- Utilisé dans de nombreux domaines (web, data science, IA, etc.)"
   ]
  },
  {
   "cell_type": "markdown",
   "metadata": {},
   "source": [
    "### 1. Variables et Types de Données\n",
    "\n",
    "Les variables en Python sont des conteneurs pour stocker des valeurs. Python est un langage à typage dynamique, ce qui signifie que vous n'avez pas besoin de déclarer le type d'une variable."
   ]
  },
  {
   "cell_type": "code",
   "execution_count": 2,
   "metadata": {},
   "outputs": [
    {
     "name": "stdout",
     "output_type": "stream",
     "text": [
      "<class 'int'>\n",
      "<class 'float'>\n",
      "<class 'str'>\n",
      "<class 'bool'>\n"
     ]
    }
   ],
   "source": [
    "# Déclaration de variables\n",
    "age = 25          # int (entier) positif ou négatif\n",
    "prix = 19.99      # float (nombre décimal)\n",
    "nom = \"Alice\"     # str (chaîne de caractères) doit etre placée entre ' ou \"\n",
    "est_etudiant = True  # bool (booléen)\n",
    "\n",
    "# Affichage du type\n",
    "print(type(age))\n",
    "print(type(prix))\n",
    "print(type(nom))\n",
    "print(type(est_etudiant))"
   ]
  },
  {
   "cell_type": "markdown",
   "metadata": {},
   "source": [
    "#### Exercice 1 : Types de Variables"
   ]
  },
  {
   "cell_type": "code",
   "execution_count": 3,
   "metadata": {},
   "outputs": [],
   "source": [
    "# À vous de jouer !\n",
    "# 1. Créez une variable pour votre âge\n",
    "\n",
    "\n",
    "\n",
    "# 2. Créez une variable pour votre nom\n",
    "\n",
    "\n",
    "\n",
    "# 3. Créez une variable pour votre taille en mètres\n",
    "\n",
    "\n",
    "\n",
    "# 4. Affichez le type de chaque variable\n",
    "\n",
    "\n",
    "\n",
    "# 5. Inverser ces deux variables (a=5,b=7 --> a=7,b=5)\n",
    "\n",
    "a = 5\n",
    "b = 7\n",
    "\n",
    "\n"
   ]
  },
  {
   "cell_type": "markdown",
   "metadata": {},
   "source": [
    "### 2. Entrée et sortie I/O \n",
    "\n",
    "Un programme a parfois besoin de pouvoir communiquer avec un utilisateur, pour ce faire il existe 2 commandes à connaitre \"Print\" pour l'outpout càd la sortie et \"Input\" pour l'entrée.\n",
    "\n",
    "Quand on parle d'entrée et de sortie on se place du point de vue de la machine.\n",
    "- Output = la machine communique vers l'utilisateur\n",
    "- Input = la machine reçois une entrée de l'utilisateur\n",
    "\n",
    "#### Output"
   ]
  },
  {
   "cell_type": "code",
   "execution_count": 31,
   "metadata": {},
   "outputs": [
    {
     "name": "stdout",
     "output_type": "stream",
     "text": [
      "La réponse est 42\n",
      "John Doe\n",
      "Le prénom de l'individu est John et il dit s'appeler Doe\n"
     ]
    }
   ],
   "source": [
    "print(\"La réponse est 42\")\n",
    "\n",
    "# il est possible dans un print de passer directement une ou plusieurs variables\n",
    "\n",
    "nom = 'Doe'\n",
    "prenom = \"John\"\n",
    "\n",
    "print(prenom,nom)\n",
    "\n",
    "# il est également possible de formater un print grace au format-string (f)\n",
    "\n",
    "print(f'Le prénom de l\\'individu est {prenom} et il dit s\\'appeler {nom}')"
   ]
  },
  {
   "cell_type": "markdown",
   "metadata": {},
   "source": [
    "Noter le \\ devant le ' . Il s'agit d'un caractère d'échappement.\n",
    "Il a pour but de faire comprendre à la machine que le ' qui le suit fait partie\n",
    "de la chaine de caractère afin qu'il ne la clôture pas. "
   ]
  },
  {
   "cell_type": "markdown",
   "metadata": {},
   "source": [
    "#### Input\n",
    "\n",
    "il est important de noter qu'un input sera toujours stocké sous forme de string. Il faudra donc convertir le format de l'input si ce que l'on souhaite récuperer est d'un autre type"
   ]
  },
  {
   "cell_type": "code",
   "execution_count": 27,
   "metadata": {},
   "outputs": [
    {
     "name": "stdout",
     "output_type": "stream",
     "text": [
      "John\n",
      "<class 'str'>\n"
     ]
    }
   ],
   "source": [
    "prenom = input('Entrez votre prénom')\n",
    "print(prenom)\n",
    "print(type(prenom))"
   ]
  },
  {
   "cell_type": "code",
   "execution_count": 32,
   "metadata": {},
   "outputs": [
    {
     "name": "stdout",
     "output_type": "stream",
     "text": [
      "25\n",
      "<class 'int'>\n"
     ]
    }
   ],
   "source": [
    "# Pour convertir le type il suffit d'utiliser les classes disponibles. \n",
    "\n",
    "age = int(input('Entrez votre age '))\n",
    "print(age)\n",
    "print(type(age))\n"
   ]
  },
  {
   "cell_type": "markdown",
   "metadata": {},
   "source": [
    "Si vous introduisez une valeur différente d'un chiffre, une erreur sera générée.\n",
    "Cela est du au fait que la machine ne sais pas implicitement convertir le type de \n",
    "donnée qu'elle recois de l'input en type de donnée souhaitée."
   ]
  },
  {
   "cell_type": "code",
   "execution_count": 33,
   "metadata": {},
   "outputs": [
    {
     "name": "stdout",
     "output_type": "stream",
     "text": [
      "False\n"
     ]
    }
   ],
   "source": [
    "est_etudiant = bool(int(input('Etes-vous un étudiant : 0 = non  1 = oui')))\n",
    "print(est_etudiant)"
   ]
  },
  {
   "cell_type": "markdown",
   "metadata": {},
   "source": [
    "### 3. Opérateurs\n",
    "\n",
    "#### Opérateurs Arithmétiques"
   ]
  },
  {
   "cell_type": "code",
   "execution_count": 10,
   "metadata": {},
   "outputs": [
    {
     "name": "stdout",
     "output_type": "stream",
     "text": [
      "Addition: 10 + 3 = 13\n",
      "Soustraction: 10 - 3 = 7\n",
      "Multiplication: 10 * 3 = 30\n",
      "Division: 10 / 3 = 3.3333333333333335\n",
      "Division entière: 10 // 3 = 3\n",
      "Modulo: 10 % 3 = 1\n",
      "Puissance: 10 ** 3 = 1000\n"
     ]
    }
   ],
   "source": [
    "a = 10\n",
    "b = 3\n",
    "\n",
    "addition = a + b\n",
    "soustraction = a - b\n",
    "multiplication = a * b  # l'opérateur de multiplication en python est *\n",
    "division = a / b\n",
    "division_entiere = a // b\n",
    "modulo = a % b  # Renvoi le reste de la division entière\n",
    "puissance = a ** b  # Pour la puissance on note **\n",
    "\n",
    "print(f\"Addition: {a} + {b} = {addition}\")\n",
    "print(f\"Soustraction: {a} - {b} = {soustraction}\")\n",
    "print(f\"Multiplication: {a} * {b} = {multiplication}\")\n",
    "print(f\"Division: {a} / {b} = {division}\")\n",
    "print(f\"Division entière: {a} // {b} = {division_entiere}\")\n",
    "print(f\"Modulo: {a} % {b} = {modulo}\")\n",
    "print(f\"Puissance: {a} ** {b} = {puissance}\")"
   ]
  },
  {
   "cell_type": "markdown",
   "metadata": {},
   "source": [
    "#### Opérateurs de Comparaison"
   ]
  },
  {
   "cell_type": "code",
   "execution_count": 11,
   "metadata": {},
   "outputs": [
    {
     "name": "stdout",
     "output_type": "stream",
     "text": [
      "False\n",
      "True\n",
      "True\n",
      "False\n",
      "True\n",
      "False\n"
     ]
    }
   ],
   "source": [
    "x = 5\n",
    "y = 10\n",
    "\n",
    "print(x == y)  # Égal à\n",
    "print(x != y)  # Différent de\n",
    "print(x < y)   # Inférieur à\n",
    "print(x > y)   # Supérieur à\n",
    "print(x <= y)  # Inférieur ou égal à\n",
    "print(x >= y)  # Supérieur ou égal à"
   ]
  },
  {
   "cell_type": "markdown",
   "metadata": {},
   "source": [
    "Attention a ne pas confonde '=' qui permet l'attribution d'une valeur a une variable et '==' qui est l'opérateur de comparaison ( égalité stricte )"
   ]
  },
  {
   "cell_type": "markdown",
   "metadata": {},
   "source": [
    "#### Opérateurs Logiques"
   ]
  },
  {
   "cell_type": "code",
   "execution_count": 12,
   "metadata": {},
   "outputs": [
    {
     "name": "stdout",
     "output_type": "stream",
     "text": [
      "False\n",
      "True\n",
      "False\n"
     ]
    }
   ],
   "source": [
    "a = True\n",
    "b = False\n",
    "\n",
    "print(a and b)  # ET logique\n",
    "print(a or b)   # OU logique\n",
    "print(not a)    # NON logique"
   ]
  },
  {
   "cell_type": "markdown",
   "metadata": {},
   "source": [
    "#### Exercice 2 : Opérateurs"
   ]
  },
  {
   "cell_type": "code",
   "execution_count": null,
   "metadata": {},
   "outputs": [],
   "source": [
    "# À vous de jouer !\n",
    "# 1. Calculez l'aire d'un rectangle de largeur 5 et de longueur 8\n",
    "\n",
    "\n",
    "\n",
    "# 2. Vérifiez si un nombre est pair en utilisant le modulo\n",
    "\n",
    "\n",
    "\n",
    "# 3. Combinez des opérateurs logiques pour vérifier si un nombre est compris entre 0 et 100\n",
    "\n",
    "\n"
   ]
  },
  {
   "cell_type": "markdown",
   "metadata": {},
   "source": [
    "#### Exercice Bonus \n",
    "\n",
    "Réalisez un algorithme convertisseur de secondes. Ce dernier reçoit \n",
    "un nombre de secondes et détermine le nombre de jours, heures, minutes \n",
    "et secondes auquel il correspond."
   ]
  },
  {
   "cell_type": "code",
   "execution_count": null,
   "metadata": {},
   "outputs": [],
   "source": []
  },
  {
   "cell_type": "markdown",
   "metadata": {},
   "source": [
    "### 4. Structures Conditionnelles\n"
   ]
  },
  {
   "cell_type": "markdown",
   "metadata": {},
   "source": [
    "Souvent, un algorithme se retrouve face à plusieurs situations qui ne peuvent \n",
    "pas être traitées avec les mêmes instructions. Nous ne savons pas quel sera le \n",
    "cas de figure à l’exécution.\n",
    "\n",
    " Nous devons alors prévoir tous les cas possibles. Nous allons donc utiliser les \n",
    "structures conditionnelles.\n",
    "\n",
    "#### Indentation\n",
    "\n",
    "L'indentation est le fait de décaller les blocs de code. Le but premier est la lisibilité du code, dans certains langage l'indentation est facultative mais en Python elle est obligatoire pour les structures conditionnelles et itératives."
   ]
  },
  {
   "cell_type": "code",
   "execution_count": 36,
   "metadata": {},
   "outputs": [
    {
     "name": "stdout",
     "output_type": "stream",
     "text": [
      "Vous êtes majeur\n"
     ]
    }
   ],
   "source": [
    "age = 18\n",
    "\n",
    "if age < 18:\n",
    "    print(\"Vous êtes mineur\")\n",
    "elif age == 18:\n",
    "    print(\"Vous venez d'être majeur\")\n",
    "else:\n",
    "    print(\"Vous êtes majeur\")"
   ]
  },
  {
   "cell_type": "markdown",
   "metadata": {},
   "source": [
    "le \"if\" permet de poser une ou plusieurs conditions qui seront testées, si la réponse est \"True\" alors on exécute le bloc d'instructions contenu dans le \"if\", sinon on passe à la suite.\n",
    "\n",
    "Le \"elif\" permet d'ajouter d'autres conditions. \n",
    "\n",
    "Il est possible d'ajouter autant de \"elif\" que l'on souhaite, et le \"else\" est facultatif.\n",
    "\n",
    "Il est également possible d'imbriquer des structures conditionnelles.\n",
    "\n",
    "Les \"if\",\"elif\" et \"else\" doivent être fermé par des \":\".\n",
    "\n",
    "Il n'est pas nécéssaire de mettre les conditions entre \"()\", il est néanmoins recommandé de le faire si les conditions sont complexes."
   ]
  },
  {
   "cell_type": "markdown",
   "metadata": {},
   "source": [
    "#### Exercice 3 : Structure conditionnelle"
   ]
  },
  {
   "cell_type": "code",
   "execution_count": null,
   "metadata": {},
   "outputs": [],
   "source": [
    "# À vous de jouer !\n",
    "\n",
    "# Écrivez un programme qui :\n",
    "\n",
    "# 1. Demande à l'utilisateur son âge\n",
    "#    Affiche différents messages selon l'âge :\n",
    "#    - \"Enfant\" si < 13 ans\n",
    "#    - \"Adolescent\" si entre 13 et 17 ans\n",
    "#    - \"Adulte\" si >= 18 ans"
   ]
  },
  {
   "cell_type": "markdown",
   "metadata": {},
   "source": [
    "#### Exercices récap intermédiaire "
   ]
  },
  {
   "cell_type": "markdown",
   "metadata": {},
   "source": [
    " Année bissextile :\n",
    " \n",
    " Réalisez un petit algorithme qui sur base d’une année donnée va déterminer s’il s’agit d’une année bissextile. Une année \n",
    "est bissextile si elle est divisible par 4, mais non divisible par 100. Ou si elle est divisible par 400.   "
   ]
  },
  {
   "cell_type": "code",
   "execution_count": null,
   "metadata": {},
   "outputs": [],
   "source": []
  },
  {
   "cell_type": "markdown",
   "metadata": {},
   "source": [
    "Calculatrice :\n",
    "\n",
    " Réalisez l’algorithme d’une calculatrice basique. L’utilisateur est invité à saisir un \n",
    "nombre, un opérateur et un deuxième nombre. La calculatrice affiche ensuite le \n",
    "calcul et le résultat. (Gérer la division par 0)"
   ]
  },
  {
   "cell_type": "code",
   "execution_count": null,
   "metadata": {},
   "outputs": [],
   "source": []
  },
  {
   "cell_type": "markdown",
   "metadata": {},
   "source": [
    "Distributeur de boissons :\n",
    "\n",
    " Réalisez l’algorithme d’un distributeur de boissons. Ce dernier propose plusieurs \n",
    "boissons et l’utilisateur choisit celle qu’il désire en entrant le numéro correspondant. \n",
    "N'oubliez pas de vérifier s’il y a encore des boissons en stock."
   ]
  },
  {
   "cell_type": "code",
   "execution_count": null,
   "metadata": {},
   "outputs": [],
   "source": []
  },
  {
   "cell_type": "markdown",
   "metadata": {},
   "source": [
    "Lanceur de balles de tennis:\n",
    "\n",
    "Indice pour Python : \n",
    "\n",
    "    booleen = bool(int(input(\"Veuillez insérer : 1 = oui / 0 = non\")))\n",
    "    ou\n",
    "    booleen = input(\"Veuillez insérer : oui / non\") == \"oui\"\n",
    "\n",
    " Réalisez l’algorithme d’un lanceur de balles de tennis. Ce lanceur possède deux états :\n",
    "\n",
    " – pret : permet de savoir si le tennisman est prêt. Il ne faut pas lancer de balles dans le cas contraire \n",
    " \n",
    " –panier_vide : permet de savoir s’il y a encore des balles disponibles\n",
    "\n",
    " Le lanceur de balle possède l’opération « lancerBalle » qui, vous l’aurez compris, permet de lancer une balle."
   ]
  },
  {
   "cell_type": "code",
   "execution_count": null,
   "metadata": {},
   "outputs": [],
   "source": []
  },
  {
   "cell_type": "markdown",
   "metadata": {},
   "source": [
    "Distributeur de boissons :\n",
    "\n",
    " Réalisez l’algorithme d’un distributeur de boissons. Ce dernier propose plusieurs boissons et l’utilisateur choisit celle qu’il \n",
    "désire en entrant le numéro correspondant. N'oubliez pas de vérifier s’il y a encore des boissons en stock"
   ]
  },
  {
   "cell_type": "code",
   "execution_count": null,
   "metadata": {},
   "outputs": [],
   "source": []
  },
  {
   "cell_type": "markdown",
   "metadata": {},
   "source": [
    "### 5. Structures Itératives\n",
    "\n",
    "#### Boucle while\n",
    "\n",
    "La boucle while (Tant que) permet de tester une ou plusieurs conditions et d'exécuter un bloc de code tant que les dite conditions sont respectées. Cela nous permet de répeter notre code plusieurs fois sans devoir le réécrire.\n",
    "\n",
    "Il est important de gerer les conditions de sortie d'une boucle pour ne pas rentrer dans une boucle infinie qui finira par saturer la mémoire de la machine.\n",
    "\n"
   ]
  },
  {
   "cell_type": "code",
   "execution_count": 1,
   "metadata": {},
   "outputs": [
    {
     "name": "stdout",
     "output_type": "stream",
     "text": [
      "0\n",
      "1\n",
      "2\n",
      "3\n",
      "4\n"
     ]
    }
   ],
   "source": [
    "# Exemple de boucle while\n",
    "compteur = 0\n",
    "while compteur < 5:\n",
    "    print(compteur)\n",
    "    compteur += 1"
   ]
  },
  {
   "cell_type": "markdown",
   "metadata": {},
   "source": [
    "#### Break / Continue\n",
    "\n",
    "Les mots clés break et continue permettent soit de stopper la boucle soit de la continuer en fonction de certaines conditions posées par l'utilisateur."
   ]
  },
  {
   "cell_type": "code",
   "execution_count": 11,
   "metadata": {},
   "outputs": [
    {
     "name": "stdout",
     "output_type": "stream",
     "text": [
      "0\n",
      "1\n",
      "2\n"
     ]
    }
   ],
   "source": [
    "# Exemple de boucle while avec break\n",
    "compteur = 0\n",
    "while compteur < 5:\n",
    "    if compteur == 3:\n",
    "        break\n",
    "    else :\n",
    "        print(compteur)\n",
    "        compteur += 1  "
   ]
  },
  {
   "cell_type": "code",
   "execution_count": 4,
   "metadata": {},
   "outputs": [
    {
     "name": "stdout",
     "output_type": "stream",
     "text": [
      "0\n",
      "1\n",
      "2\n",
      "4\n"
     ]
    }
   ],
   "source": [
    "# Exemple de boucle while avec continue\n",
    "compteur = 0\n",
    "while compteur < 5:\n",
    "    if compteur == 3:\n",
    "        compteur += 1  # Ne pas oublier d'incrémenter le compteur pour gerer la sortie\n",
    "        continue\n",
    "    else :\n",
    "        print(compteur)\n",
    "        compteur += 1  # Il faut incrémenter le compteur dans tout les cas \"if\" et \"else\""
   ]
  },
  {
   "cell_type": "markdown",
   "metadata": {},
   "source": [
    "Il est néanmoins recommandé de bien réflechir la condition de la boucle while plutot que d'imbriquer des \"if\" avec break."
   ]
  },
  {
   "cell_type": "code",
   "execution_count": 7,
   "metadata": {},
   "outputs": [
    {
     "name": "stdout",
     "output_type": "stream",
     "text": [
      "0\n",
      "1\n",
      "2\n"
     ]
    }
   ],
   "source": [
    "# Exemple de boucle while sans break\n",
    "compteur = 0\n",
    "while (compteur < 5) and (compteur != 3):\n",
    "    print(compteur)\n",
    "    compteur += 1"
   ]
  },
  {
   "cell_type": "markdown",
   "metadata": {},
   "source": [
    "#### Boucle For \n",
    "\n",
    "La boucle For nous permet de parcourir une séquence ou un chaine de caractères afin d'exécuter un bloc de code jusqu'a ce qu'il n'y ai plus d'éléments à parcourir"
   ]
  },
  {
   "cell_type": "code",
   "execution_count": 10,
   "metadata": {},
   "outputs": [
    {
     "name": "stdout",
     "output_type": "stream",
     "text": [
      "0\n",
      "1\n",
      "2\n",
      "3\n",
      "4\n",
      "\n",
      "\n",
      "--------------------------------------------------\n",
      "\n",
      "\n",
      "P\n",
      "y\n",
      "t\n",
      "h\n",
      "o\n",
      "n\n"
     ]
    }
   ],
   "source": [
    "# Parcourir une séquence\n",
    "for i in range(5):\n",
    "    print(i)\n",
    "\n",
    "print('\\n')  # \\n permet un retour à la ligne\n",
    "print(50*'-')\n",
    "print('\\n')\n",
    "\n",
    "# Parcourir une chaîne\n",
    "for lettre in \"Python\":\n",
    "    print(lettre)"
   ]
  },
  {
   "cell_type": "markdown",
   "metadata": {},
   "source": [
    "#### Exercice 4 : Boucles"
   ]
  },
  {
   "cell_type": "markdown",
   "metadata": {},
   "source": [
    "À l’aide d’une boucle, affichez la table de multiplication par 2"
   ]
  },
  {
   "cell_type": "code",
   "execution_count": null,
   "metadata": {},
   "outputs": [],
   "source": []
  },
  {
   "cell_type": "markdown",
   "metadata": {},
   "source": [
    "À l’aide de deux boucles, affichez les tables de multiplication de 1 à 9. \n"
   ]
  },
  {
   "cell_type": "code",
   "execution_count": null,
   "metadata": {},
   "outputs": [],
   "source": []
  },
  {
   "cell_type": "markdown",
   "metadata": {},
   "source": [
    "#### Exercice : Le juste prix !!\n",
    "\n",
    "Un algorithme reçoit deux nombres de l’utilisateur (opération Lire) :\n",
    "\n",
    "juste_prix et proposition.\n",
    "\n",
    " • Il répond : « C’est plus » lorsque proposition est plus petit que juste_prix.\\\n",
    " • Et inversement, il répond : « C’est moins » lorsque proposition est plus grand \n",
    "que juste_prix.\\\n",
    " • Si juste_prix est égal à proposition, il répond : « C’est gagné »."
   ]
  },
  {
   "cell_type": "code",
   "execution_count": null,
   "metadata": {},
   "outputs": [],
   "source": []
  },
  {
   "cell_type": "markdown",
   "metadata": {},
   "source": [
    "### 6. Structures de Données\n",
    "\n",
    "Nous avons vu comment stocker des valeurs dans des variables mais que faire quand on a un grand nombre de valeurs à stocker ? Déclarer une variable par valeur ? \n",
    "\n",
    "Python propose nativement des structures de données pour stocker plusieurs valeurs.\n",
    "\n",
    "https://docs.python.org/3/tutorial/datastructures.html\n",
    "\n",
    "#### Listes"
   ]
  },
  {
   "cell_type": "code",
   "execution_count": 36,
   "metadata": {},
   "outputs": [
    {
     "name": "stdout",
     "output_type": "stream",
     "text": [
      "[]\n",
      "<class 'list'>\n",
      "['premier']\n",
      "['premier', 'deuxieme']\n",
      "['premier', 'deuxieme', 'troisieme', 'quatrieme']\n",
      "['premier', 'deuxieme', 'troisieme']\n"
     ]
    }
   ],
   "source": [
    "# Création d'une liste vide \n",
    "liste = []\n",
    "\n",
    "print(liste)\n",
    "print(type(liste))\n",
    "\n",
    "# Ajout d'un élement à la liste\n",
    "\n",
    "liste.append('premier')\n",
    "print(liste)\n",
    "liste = liste+['deuxieme']\n",
    "print(liste)\n",
    "\n",
    "# Ajout de plusieurs éléments\n",
    "\n",
    "liste.extend(['troisieme','quatrieme']) # Noté qu'on passe une liste en tant qu'argument\n",
    "print(liste)\n",
    "\n",
    "# Supprimez un élement\n",
    "\n",
    "liste.pop()   # un index peut etre passé en argument pour supprimez l'élement correspondant\n",
    "print(liste)\n",
    "\n",
    "\n"
   ]
  },
  {
   "cell_type": "markdown",
   "metadata": {},
   "source": [
    "Maintenant qu'on a réuni plusieurs valeurs dans une seule variable, comment faire pour les récuperées ?\n",
    "\n",
    "#### Indexation\n",
    "\n",
    "En programmation un principe fondamental est l'indexation, cette méthode nous permet d'accèder aux divers éléments d'un itérable comme une liste.\n",
    "\n",
    "En Python l'index ( ou indice ) du premier élément est 0 "
   ]
  },
  {
   "cell_type": "code",
   "execution_count": 44,
   "metadata": {},
   "outputs": [
    {
     "name": "stdout",
     "output_type": "stream",
     "text": [
      "pomme\n",
      "fraise\n"
     ]
    }
   ],
   "source": [
    "# Création d'une liste\n",
    "fruits = [\"pomme\", \"banane\", \"orange\",\"raisin\",\"fraise\"]\n",
    "\n",
    "print(fruits[0])  # 0 est le premier élément de la liste\n",
    "print(fruits[-1])  # -1 nous permet d'acceder au dernier élément de la liste"
   ]
  },
  {
   "cell_type": "markdown",
   "metadata": {},
   "source": [
    "L'index se note entre [] \n",
    "\n",
    "Il est possible de passer trois parametre dans un index comme suit \n",
    "\n",
    "[START:STOP:STEP]\n",
    "\n",
    "START = index de départ : par défaut 0\\\n",
    "STOP = index de fin (exclusif) : par défaut le dernier élément\\\n",
    "STEP = le pas : par défaut 1"
   ]
  },
  {
   "cell_type": "code",
   "execution_count": 51,
   "metadata": {},
   "outputs": [
    {
     "name": "stdout",
     "output_type": "stream",
     "text": [
      "['pomme', 'banane', 'orange', 'raisin', 'fraise']\n",
      "['pomme', 'banane']\n",
      "['orange', 'raisin', 'fraise']\n",
      "['orange', 'fraise']\n"
     ]
    }
   ],
   "source": [
    "print(fruits[:])  # Récupération de tout les éléments\n",
    "print(fruits[:2])  # Récupération des éléments jusqu'a l'indice 2 non inclus\n",
    "print(fruits[2:])  # Récupération des éléments depuis l'indice 2 jusqu'au dernier\n",
    "print(fruits[2:5:2])  # Récupération des éléments depuis l'indice 2 jusque 5 non inclus par pas de 2"
   ]
  },
  {
   "cell_type": "code",
   "execution_count": 82,
   "metadata": {},
   "outputs": [
    {
     "data": {
      "text/plain": [
       "dict_values(['Doe', 'John'])"
      ]
     },
     "execution_count": 82,
     "metadata": {},
     "output_type": "execute_result"
    }
   ],
   "source": [
    "advlist = [1,2,\"tomate\",(\"rouge\",\"vert\"),5,True,{'nom':'Doe','prenom':'John'}]"
   ]
  },
  {
   "cell_type": "markdown",
   "metadata": {},
   "source": [
    "Il est possible de parcourir tout les éléments d'une liste dans une boucle for."
   ]
  },
  {
   "cell_type": "code",
   "execution_count": 52,
   "metadata": {},
   "outputs": [
    {
     "name": "stdout",
     "output_type": "stream",
     "text": [
      "pomme\n",
      "banane\n",
      "orange\n",
      "raisin\n",
      "fraise\n"
     ]
    }
   ],
   "source": [
    "for fruit in fruits:\n",
    "    print(fruit)"
   ]
  },
  {
   "cell_type": "markdown",
   "metadata": {},
   "source": [
    "Ou encore de récuperer les index avec \"enumerate\""
   ]
  },
  {
   "cell_type": "code",
   "execution_count": 53,
   "metadata": {},
   "outputs": [
    {
     "name": "stdout",
     "output_type": "stream",
     "text": [
      "pomme est a l'index 0\n",
      "banane est a l'index 1\n",
      "orange est a l'index 2\n",
      "raisin est a l'index 3\n",
      "fraise est a l'index 4\n"
     ]
    }
   ],
   "source": [
    "for index, fruit in enumerate(fruits):\n",
    "    print(f'{fruit} est a l\\'index {index}')"
   ]
  },
  {
   "cell_type": "markdown",
   "metadata": {},
   "source": [
    "#### Tuples\n",
    "\n",
    "Le tuple se comporte de manière similaire à une liste. Il est indexable, peut contenir les mêmes valeurs qu'une liste mais à la différence d'une liste celui-ci ne peut-être modifié. Le tuple est dit \"Immutable\"\n",
    "\n",
    "Le tuple se déclare entre ()"
   ]
  },
  {
   "cell_type": "code",
   "execution_count": 63,
   "metadata": {},
   "outputs": [
    {
     "name": "stdout",
     "output_type": "stream",
     "text": [
      "(1, 2, 3)\n",
      "1\n",
      "1\n",
      "2\n",
      "3\n"
     ]
    }
   ],
   "source": [
    "tuples = (1,2,3)\n",
    "\n",
    "print(tuples)\n",
    "print(tuples[0])\n",
    "\n",
    "x , y , z = tuples # Il est possible d'extraire les valeurs d'un tuple dans des variables\n",
    "\n",
    "print(x)\n",
    "print(y)\n",
    "print(z)"
   ]
  },
  {
   "cell_type": "markdown",
   "metadata": {},
   "source": [
    "#### Dictionnaires\n",
    "\n",
    "Un dictionnaire en Python est une structure de données qui stocke des paires clé-valeur, où chaque clé est unique et sert d'identifiant pour accéder à une valeur associée."
   ]
  },
  {
   "cell_type": "code",
   "execution_count": 70,
   "metadata": {},
   "outputs": [
    {
     "name": "stdout",
     "output_type": "stream",
     "text": [
      "Dupont\n",
      "dict_keys(['nom', 'prenom', 'age'])\n",
      "dict_values(['Dupont', 'Jean', 30])\n",
      "--------------------------------------------------\n",
      "nom: Dupont\n",
      "prenom: Jean\n",
      "age: 30\n"
     ]
    }
   ],
   "source": [
    "# Création d'un dictionnaire\n",
    "personne = {\n",
    "    \"nom\": \"Dupont\",\n",
    "    \"prenom\": \"Jean\",\n",
    "    \"age\": 30\n",
    "}\n",
    "\n",
    "# Accès aux valeurs\n",
    "print(personne[\"nom\"])\n",
    "\n",
    "# Accès aux clés\n",
    "print(personne.keys())\n",
    "\n",
    "# Accès aux valeurs\n",
    "print(personne.values())\n",
    "\n",
    "print(50*'-')\n",
    "\n",
    "# Parcours d'un dictionnaire\n",
    "for cle, valeur in personne.items():\n",
    "    print(f\"{cle}: {valeur}\")\n"
   ]
  },
  {
   "cell_type": "markdown",
   "metadata": {},
   "source": [
    "#### Exercice 5 : Structures de Données\n",
    "\n",
    "Inversez un tableau : \n",
    "\n",
    "soit un tableau T. Saisissez ce tableau. Changez de \n",
    "place les éléments de ce tableau de façon à ce que le nouveau tableau soit une \n",
    "sorte de miroir de l'ancien et affichez le nouveau tableau."
   ]
  },
  {
   "cell_type": "code",
   "execution_count": null,
   "metadata": {},
   "outputs": [],
   "source": []
  },
  {
   "cell_type": "markdown",
   "metadata": {},
   "source": [
    "Réalisez un algorithme permettant de rechercher une valeur dans un \n",
    "tableau. Si la valeur se trouve bien dans le tableau, nous affichons sa position."
   ]
  },
  {
   "cell_type": "code",
   "execution_count": null,
   "metadata": {},
   "outputs": [],
   "source": []
  },
  {
   "cell_type": "markdown",
   "metadata": {},
   "source": [
    "À l’aide des boucles, réalisez un algorithme permettant de trier un tableau \n",
    "d’entiers dans l’ordre croissant."
   ]
  },
  {
   "cell_type": "code",
   "execution_count": null,
   "metadata": {},
   "outputs": [],
   "source": []
  },
  {
   "cell_type": "markdown",
   "metadata": {},
   "source": [
    "### 7. Fonctions\n",
    "\n",
    "En Python, une fonction est un bloc de code réutilisable qui permet d’exécuter une tâche spécifique. Elle est définie à l’aide du mot-clé def, suivie d’un nom, d’éventuels paramètres entre parenthèses, et d’un corps contenant les instructions."
   ]
  },
  {
   "cell_type": "code",
   "execution_count": 72,
   "metadata": {},
   "outputs": [
    {
     "data": {
      "text/plain": [
       "'Bonjour Jean !'"
      ]
     },
     "execution_count": 72,
     "metadata": {},
     "output_type": "execute_result"
    }
   ],
   "source": [
    "def saluer(nom):\n",
    "    \"\"\"Cette fonction affiche un message de salutation\"\"\"\n",
    "    return f\"Bonjour {nom} !\"\n",
    "\n",
    "saluer('Jean')"
   ]
  },
  {
   "cell_type": "code",
   "execution_count": 74,
   "metadata": {},
   "outputs": [
    {
     "data": {
      "text/plain": [
       "15"
      ]
     },
     "execution_count": 74,
     "metadata": {},
     "output_type": "execute_result"
    }
   ],
   "source": [
    "# Fonction avec plusieurs paramètres et valeur par défaut\n",
    "def calculer_aire(largeur, longueur=1):\n",
    "    return largeur * longueur\n",
    "\n",
    "calculer_aire(5,3)"
   ]
  },
  {
   "cell_type": "markdown",
   "metadata": {},
   "source": [
    "Créez une fonction qui prend une liste de nombres et retourne la somme des nombres pairs"
   ]
  },
  {
   "cell_type": "code",
   "execution_count": null,
   "metadata": {},
   "outputs": [],
   "source": []
  },
  {
   "cell_type": "markdown",
   "metadata": {},
   "source": [
    "Créez une fonction qui teste si un mot est un palyndrome."
   ]
  },
  {
   "cell_type": "code",
   "execution_count": null,
   "metadata": {},
   "outputs": [],
   "source": []
  },
  {
   "cell_type": "markdown",
   "metadata": {},
   "source": [
    "Créez une fonction qui compte le nombre de voyelles dans une chaîne de caractères"
   ]
  },
  {
   "cell_type": "code",
   "execution_count": null,
   "metadata": {},
   "outputs": [],
   "source": []
  }
 ],
 "metadata": {
  "kernelspec": {
   "display_name": "Condaenv",
   "language": "python",
   "name": "python3"
  },
  "language_info": {
   "codemirror_mode": {
    "name": "ipython",
    "version": 3
   },
   "file_extension": ".py",
   "mimetype": "text/x-python",
   "name": "python",
   "nbconvert_exporter": "python",
   "pygments_lexer": "ipython3",
   "version": "3.12.4"
  }
 },
 "nbformat": 4,
 "nbformat_minor": 2
}
