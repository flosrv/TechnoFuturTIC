{
 "cells": [
  {
   "cell_type": "code",
   "execution_count": 1,
   "metadata": {},
   "outputs": [],
   "source": [
    "maVariable = 5"
   ]
  },
  {
   "cell_type": "code",
   "execution_count": 2,
   "metadata": {},
   "outputs": [
    {
     "name": "stdout",
     "output_type": "stream",
     "text": [
      "<class 'int'>\n"
     ]
    }
   ],
   "source": [
    "print(type(maVariable))"
   ]
  },
  {
   "cell_type": "code",
   "execution_count": 3,
   "metadata": {},
   "outputs": [],
   "source": [
    "maVariable = \"\"\"Bjr\n",
    "bjr2\n",
    "bjr3\"\"\""
   ]
  },
  {
   "cell_type": "code",
   "execution_count": 4,
   "metadata": {},
   "outputs": [
    {
     "name": "stdout",
     "output_type": "stream",
     "text": [
      "Bjr\n",
      "bjr2\n",
      "bjr3\n"
     ]
    }
   ],
   "source": [
    "print(maVariable)"
   ]
  },
  {
   "cell_type": "code",
   "execution_count": 5,
   "metadata": {},
   "outputs": [
    {
     "name": "stdout",
     "output_type": "stream",
     "text": [
      "3\n",
      "2\n",
      "1\n"
     ]
    }
   ],
   "source": [
    "a = 1\n",
    "b = 2\n",
    "c = 3\n",
    "\n",
    "c, b, a = a, b, c\n",
    "\n",
    "print(a)\n",
    "print(b)\n",
    "print(c)"
   ]
  },
  {
   "cell_type": "code",
   "execution_count": 6,
   "metadata": {},
   "outputs": [
    {
     "data": {
      "text/plain": [
       "3"
      ]
     },
     "execution_count": 6,
     "metadata": {},
     "output_type": "execute_result"
    }
   ],
   "source": [
    "a"
   ]
  },
  {
   "cell_type": "code",
   "execution_count": 7,
   "metadata": {},
   "outputs": [
    {
     "name": "stdout",
     "output_type": "stream",
     "text": [
      "A vaut: 5  B vaut:  7\n",
      "A vaut: 7  B vaut:  5\n"
     ]
    }
   ],
   "source": [
    "a = 5\n",
    "b = 7\n",
    "print(\"A vaut: \" + str(a) + \"  B vaut:  \" + str(b))\n",
    "temp = a\n",
    "a = b\n",
    "b = temp\n",
    "print(\"A vaut: \" + str(a) + \"  B vaut:  \" + str(b))\n"
   ]
  },
  {
   "cell_type": "code",
   "execution_count": 8,
   "metadata": {},
   "outputs": [
    {
     "name": "stdout",
     "output_type": "stream",
     "text": [
      " A vaut:  5  B vaut:  7\n",
      " A vaut:  7  B vaut:  5\n"
     ]
    }
   ],
   "source": [
    "a = 5\n",
    "b = 7\n",
    "print(\" A vaut:  \" + str(a) + \"  B vaut:  \" + str(b))\n",
    "b = b + a\n",
    "a = b - a\n",
    "b = b - a\n",
    "print(\" A vaut:  \" + str(a) + \"  B vaut:  \" + str(b))\n"
   ]
  },
  {
   "cell_type": "code",
   "execution_count": 9,
   "metadata": {},
   "outputs": [
    {
     "name": "stdout",
     "output_type": "stream",
     "text": [
      "Veuillez entrer 10\n"
     ]
    }
   ],
   "source": [
    "print(f\"Veuillez entrer {b*2}\")"
   ]
  },
  {
   "cell_type": "code",
   "execution_count": 10,
   "metadata": {},
   "outputs": [],
   "source": [
    "def GetName():\n",
    "    nom = input(\"Veuillez entrer votre nom\")\n",
    "    prenom = input(\"Veuillez entrer votre prenom\")\n",
    "    return nom + \" \" + prenom"
   ]
  },
  {
   "cell_type": "code",
   "execution_count": 11,
   "metadata": {},
   "outputs": [
    {
     "name": "stdout",
     "output_type": "stream",
     "text": [
      "Bonjour fdgf jnjnj\n"
     ]
    }
   ],
   "source": [
    "# nom = input(\"Veuillez entrer votre nom\")\n",
    "# prenom = input(\"Veuillez entrer votre prenom\")\n",
    "\n",
    "# print(f\"Bonjour {prenom} {nom}\")\n",
    "print(f\"Bonjour {GetName()}\")\n",
    "# print(\"Bonjour \" + prenom + \" \" + nom)"
   ]
  },
  {
   "cell_type": "code",
   "execution_count": 13,
   "metadata": {},
   "outputs": [
    {
     "ename": "TypeError",
     "evalue": "'int' object is not callable",
     "output_type": "error",
     "traceback": [
      "\u001b[1;31m---------------------------------------------------------------------------\u001b[0m",
      "\u001b[1;31mTypeError\u001b[0m                                 Traceback (most recent call last)",
      "Cell \u001b[1;32mIn[13], line 1\u001b[0m\n\u001b[1;32m----> 1\u001b[0m \u001b[38;5;28minput\u001b[39m \u001b[38;5;241m=\u001b[39m \u001b[38;5;28mint\u001b[39m(\u001b[38;5;28;43minput\u001b[39;49m\u001b[43m(\u001b[49m\u001b[38;5;124;43m\"\u001b[39;49m\u001b[38;5;124;43mVeuillez entrer un nombre de seconde\u001b[39;49m\u001b[38;5;124;43m\"\u001b[39;49m\u001b[43m)\u001b[49m)\n\u001b[0;32m      2\u001b[0m \u001b[38;5;28mprint\u001b[39m(\u001b[38;5;124m\"\u001b[39m\u001b[38;5;124mVous avez entré \u001b[39m\u001b[38;5;124m\"\u001b[39m \u001b[38;5;241m+\u001b[39m \u001b[38;5;28mstr\u001b[39m(\u001b[38;5;28minput\u001b[39m) \u001b[38;5;241m+\u001b[39m \u001b[38;5;124m\"\u001b[39m\u001b[38;5;124m secondes\u001b[39m\u001b[38;5;124m\"\u001b[39m)\n\u001b[0;32m      3\u001b[0m jours \u001b[38;5;241m=\u001b[39m (\u001b[38;5;28minput\u001b[39m) \u001b[38;5;241m/\u001b[39m\u001b[38;5;241m/\u001b[39m (\u001b[38;5;241m24\u001b[39m \u001b[38;5;241m*\u001b[39m \u001b[38;5;241m60\u001b[39m \u001b[38;5;241m*\u001b[39m \u001b[38;5;241m60\u001b[39m)\n",
      "\u001b[1;31mTypeError\u001b[0m: 'int' object is not callable"
     ]
    }
   ],
   "source": [
    "input = int(input(\"Veuillez entrer un nombre de seconde\"))\n",
    "print(\"Vous avez entré \" + str(input) + \" secondes\")\n",
    "jours = (input) // (24 * 60 * 60)\n",
    "input = input % (24 * 60 * 60)\n",
    "heures = (input) // (60 * 60)\n",
    "input = input % (60 * 60)\n",
    "minutes = (input) // 60\n",
    "secondes = input % 60\n",
    "print(\"Ce qui équivaut à \" + str(jours) + \" jours, \" + str(heures) + \" heures, \" + str(minutes) + \" minutes et \" + str(secondes) + \" secondes\")\n"
   ]
  },
  {
   "cell_type": "code",
   "execution_count": 26,
   "metadata": {},
   "outputs": [
    {
     "name": "stdout",
     "output_type": "stream",
     "text": [
      "1\n"
     ]
    }
   ],
   "source": [
    "majeur = False\n",
    "age = 179\n",
    "majeurByAge = age >= 18\n",
    "\n",
    "# print(majeurByAge)\n",
    "# print(age >= 18)\n",
    "# if not majeur and age >= 18 :\n",
    "#     print(\"N'est pas majeur d'après le boolean\")\n",
    "# else :\n",
    "#     print(\"est vrai)\")\n",
    "\n",
    "match age>179:\n",
    "    case False:\n",
    "        print(\"1\")\n",
    "    case True:\n",
    "        print(\"Youpi\")\n",
    "    case _:\n",
    "        print(\"qsqsfq\")\n"
   ]
  }
 ],
 "metadata": {
  "kernelspec": {
   "display_name": "envCondaKeras",
   "language": "python",
   "name": "python3"
  },
  "language_info": {
   "codemirror_mode": {
    "name": "ipython",
    "version": 3
   },
   "file_extension": ".py",
   "mimetype": "text/x-python",
   "name": "python",
   "nbconvert_exporter": "python",
   "pygments_lexer": "ipython3",
   "version": "3.12.3"
  }
 },
 "nbformat": 4,
 "nbformat_minor": 2
}
